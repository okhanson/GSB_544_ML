{
  "cells": [
    {
      "cell_type": "raw",
      "metadata": {
        "vscode": {
          "languageId": "raw"
        }
      },
      "source": [
        "---\n",
        "title: \"Practice Activity 6.2: Palmer Penguins Modeling cont.\"\n",
        "author: \"Owen Hanson\"\n",
        "date: \"2024-10-30\"\n",
        "output: \n",
        "    html:\n",
        "        theme: \"cosmo\"\n",
        "embed-resources: true\n",
        "---"
      ]
    },
    {
      "cell_type": "markdown",
      "metadata": {
        "id": "FdLoheP-mrxn"
      },
      "source": [
        "# Palmer Penguins Modeling\n",
        "\n",
        "Import the Palmer Penguins dataset and print out the first few rows.\n",
        "\n",
        "Suppose we want to predict `bill_depth_mm` using the other variables in the dataset.\n",
        "\n",
        "**Dummify** all variables that require this."
      ]
    },
    {
      "cell_type": "code",
      "execution_count": 1,
      "metadata": {
        "colab": {
          "base_uri": "https://localhost:8080/",
          "height": 663
        },
        "collapsed": true,
        "id": "N5lG475yllju",
        "outputId": "164211f4-655d-478c-b0e8-5e5239e0103c"
      },
      "outputs": [
        {
          "data": {
            "text/html": [
              "<div>\n",
              "<style scoped>\n",
              "    .dataframe tbody tr th:only-of-type {\n",
              "        vertical-align: middle;\n",
              "    }\n",
              "\n",
              "    .dataframe tbody tr th {\n",
              "        vertical-align: top;\n",
              "    }\n",
              "\n",
              "    .dataframe thead th {\n",
              "        text-align: right;\n",
              "    }\n",
              "</style>\n",
              "<table border=\"1\" class=\"dataframe\">\n",
              "  <thead>\n",
              "    <tr style=\"text-align: right;\">\n",
              "      <th></th>\n",
              "      <th>species</th>\n",
              "      <th>island</th>\n",
              "      <th>bill_length_mm</th>\n",
              "      <th>bill_depth_mm</th>\n",
              "      <th>flipper_length_mm</th>\n",
              "      <th>body_mass_g</th>\n",
              "      <th>sex</th>\n",
              "      <th>year</th>\n",
              "    </tr>\n",
              "  </thead>\n",
              "  <tbody>\n",
              "    <tr>\n",
              "      <th>0</th>\n",
              "      <td>Adelie</td>\n",
              "      <td>Torgersen</td>\n",
              "      <td>39.1</td>\n",
              "      <td>18.7</td>\n",
              "      <td>181.0</td>\n",
              "      <td>3750.0</td>\n",
              "      <td>male</td>\n",
              "      <td>2007</td>\n",
              "    </tr>\n",
              "    <tr>\n",
              "      <th>1</th>\n",
              "      <td>Adelie</td>\n",
              "      <td>Torgersen</td>\n",
              "      <td>39.5</td>\n",
              "      <td>17.4</td>\n",
              "      <td>186.0</td>\n",
              "      <td>3800.0</td>\n",
              "      <td>female</td>\n",
              "      <td>2007</td>\n",
              "    </tr>\n",
              "    <tr>\n",
              "      <th>2</th>\n",
              "      <td>Adelie</td>\n",
              "      <td>Torgersen</td>\n",
              "      <td>40.3</td>\n",
              "      <td>18.0</td>\n",
              "      <td>195.0</td>\n",
              "      <td>3250.0</td>\n",
              "      <td>female</td>\n",
              "      <td>2007</td>\n",
              "    </tr>\n",
              "    <tr>\n",
              "      <th>3</th>\n",
              "      <td>Adelie</td>\n",
              "      <td>Torgersen</td>\n",
              "      <td>NaN</td>\n",
              "      <td>NaN</td>\n",
              "      <td>NaN</td>\n",
              "      <td>NaN</td>\n",
              "      <td>NaN</td>\n",
              "      <td>2007</td>\n",
              "    </tr>\n",
              "    <tr>\n",
              "      <th>4</th>\n",
              "      <td>Adelie</td>\n",
              "      <td>Torgersen</td>\n",
              "      <td>36.7</td>\n",
              "      <td>19.3</td>\n",
              "      <td>193.0</td>\n",
              "      <td>3450.0</td>\n",
              "      <td>female</td>\n",
              "      <td>2007</td>\n",
              "    </tr>\n",
              "  </tbody>\n",
              "</table>\n",
              "</div>"
            ],
            "text/plain": [
              "  species     island  bill_length_mm  bill_depth_mm  flipper_length_mm  \\\n",
              "0  Adelie  Torgersen            39.1           18.7              181.0   \n",
              "1  Adelie  Torgersen            39.5           17.4              186.0   \n",
              "2  Adelie  Torgersen            40.3           18.0              195.0   \n",
              "3  Adelie  Torgersen             NaN            NaN                NaN   \n",
              "4  Adelie  Torgersen            36.7           19.3              193.0   \n",
              "\n",
              "   body_mass_g     sex  year  \n",
              "0       3750.0    male  2007  \n",
              "1       3800.0  female  2007  \n",
              "2       3250.0  female  2007  \n",
              "3          NaN     NaN  2007  \n",
              "4       3450.0  female  2007  "
            ]
          },
          "execution_count": 1,
          "metadata": {},
          "output_type": "execute_result"
        }
      ],
      "source": [
        "import palmerpenguins\n",
        "import pandas as pd\n",
        "from sklearn.preprocessing import OneHotEncoder\n",
        "import numpy as np\n",
        "from sklearn.linear_model import LinearRegression\n",
        "from sklearn.metrics import r2_score\n",
        "from sklearn.preprocessing import PolynomialFeatures\n",
        "from sklearn.metrics import mean_squared_error\n",
        "df = palmerpenguins.load_penguins()\n",
        "df.head()\n"
      ]
    },
    {
      "cell_type": "markdown",
      "metadata": {
        "id": "CrBygAWdSOqO"
      },
      "source": [
        "Dummify Species\n"
      ]
    },
    {
      "cell_type": "code",
      "execution_count": 2,
      "metadata": {
        "colab": {
          "base_uri": "https://localhost:8080/",
          "height": 206
        },
        "id": "p6KP6ExWSCUm",
        "outputId": "ef4c9601-6932-4ef0-9a1b-3583a0a0db2f"
      },
      "outputs": [
        {
          "data": {
            "text/html": [
              "<div>\n",
              "<style scoped>\n",
              "    .dataframe tbody tr th:only-of-type {\n",
              "        vertical-align: middle;\n",
              "    }\n",
              "\n",
              "    .dataframe tbody tr th {\n",
              "        vertical-align: top;\n",
              "    }\n",
              "\n",
              "    .dataframe thead th {\n",
              "        text-align: right;\n",
              "    }\n",
              "</style>\n",
              "<table border=\"1\" class=\"dataframe\">\n",
              "  <thead>\n",
              "    <tr style=\"text-align: right;\">\n",
              "      <th></th>\n",
              "      <th>species</th>\n",
              "      <th>island</th>\n",
              "      <th>bill_length_mm</th>\n",
              "      <th>bill_depth_mm</th>\n",
              "      <th>flipper_length_mm</th>\n",
              "      <th>body_mass_g</th>\n",
              "      <th>sex</th>\n",
              "      <th>year</th>\n",
              "      <th>species_Adelie</th>\n",
              "      <th>species_Chinstrap</th>\n",
              "      <th>species_Gentoo</th>\n",
              "    </tr>\n",
              "  </thead>\n",
              "  <tbody>\n",
              "    <tr>\n",
              "      <th>0</th>\n",
              "      <td>Adelie</td>\n",
              "      <td>Torgersen</td>\n",
              "      <td>39.1</td>\n",
              "      <td>18.7</td>\n",
              "      <td>181.0</td>\n",
              "      <td>3750.0</td>\n",
              "      <td>male</td>\n",
              "      <td>2007</td>\n",
              "      <td>1.0</td>\n",
              "      <td>0.0</td>\n",
              "      <td>0.0</td>\n",
              "    </tr>\n",
              "    <tr>\n",
              "      <th>1</th>\n",
              "      <td>Adelie</td>\n",
              "      <td>Torgersen</td>\n",
              "      <td>39.5</td>\n",
              "      <td>17.4</td>\n",
              "      <td>186.0</td>\n",
              "      <td>3800.0</td>\n",
              "      <td>female</td>\n",
              "      <td>2007</td>\n",
              "      <td>1.0</td>\n",
              "      <td>0.0</td>\n",
              "      <td>0.0</td>\n",
              "    </tr>\n",
              "    <tr>\n",
              "      <th>2</th>\n",
              "      <td>Adelie</td>\n",
              "      <td>Torgersen</td>\n",
              "      <td>40.3</td>\n",
              "      <td>18.0</td>\n",
              "      <td>195.0</td>\n",
              "      <td>3250.0</td>\n",
              "      <td>female</td>\n",
              "      <td>2007</td>\n",
              "      <td>1.0</td>\n",
              "      <td>0.0</td>\n",
              "      <td>0.0</td>\n",
              "    </tr>\n",
              "    <tr>\n",
              "      <th>3</th>\n",
              "      <td>Adelie</td>\n",
              "      <td>Torgersen</td>\n",
              "      <td>NaN</td>\n",
              "      <td>NaN</td>\n",
              "      <td>NaN</td>\n",
              "      <td>NaN</td>\n",
              "      <td>NaN</td>\n",
              "      <td>2007</td>\n",
              "      <td>1.0</td>\n",
              "      <td>0.0</td>\n",
              "      <td>0.0</td>\n",
              "    </tr>\n",
              "    <tr>\n",
              "      <th>4</th>\n",
              "      <td>Adelie</td>\n",
              "      <td>Torgersen</td>\n",
              "      <td>36.7</td>\n",
              "      <td>19.3</td>\n",
              "      <td>193.0</td>\n",
              "      <td>3450.0</td>\n",
              "      <td>female</td>\n",
              "      <td>2007</td>\n",
              "      <td>1.0</td>\n",
              "      <td>0.0</td>\n",
              "      <td>0.0</td>\n",
              "    </tr>\n",
              "  </tbody>\n",
              "</table>\n",
              "</div>"
            ],
            "text/plain": [
              "  species     island  bill_length_mm  bill_depth_mm  flipper_length_mm  \\\n",
              "0  Adelie  Torgersen            39.1           18.7              181.0   \n",
              "1  Adelie  Torgersen            39.5           17.4              186.0   \n",
              "2  Adelie  Torgersen            40.3           18.0              195.0   \n",
              "3  Adelie  Torgersen             NaN            NaN                NaN   \n",
              "4  Adelie  Torgersen            36.7           19.3              193.0   \n",
              "\n",
              "   body_mass_g     sex  year  species_Adelie  species_Chinstrap  \\\n",
              "0       3750.0    male  2007             1.0                0.0   \n",
              "1       3800.0  female  2007             1.0                0.0   \n",
              "2       3250.0  female  2007             1.0                0.0   \n",
              "3          NaN     NaN  2007             1.0                0.0   \n",
              "4       3450.0  female  2007             1.0                0.0   \n",
              "\n",
              "   species_Gentoo  \n",
              "0             0.0  \n",
              "1             0.0  \n",
              "2             0.0  \n",
              "3             0.0  \n",
              "4             0.0  "
            ]
          },
          "execution_count": 2,
          "metadata": {},
          "output_type": "execute_result"
        }
      ],
      "source": [
        "# Create a OneHotEncoder object\n",
        "enc = OneHotEncoder(handle_unknown='ignore')\n",
        "\n",
        "# Fit the encoder to the species column\n",
        "enc.fit(df[['species']])\n",
        "\n",
        "# Transform the species column into a one-hot encoded matrix\n",
        "encoded_species = enc.transform(df[['species']]).toarray()\n",
        "\n",
        "# Create a new DataFrame with the one-hot encoded species\n",
        "encoded_species_df = pd.DataFrame(encoded_species, columns=enc.get_feature_names_out(['species']))\n",
        "\n",
        "# Concatenate the original DataFrame with the encoded species DataFrame\n",
        "df_encoded = pd.concat([df, encoded_species_df], axis=1)\n",
        "\n",
        "# Display the first few rows of the new DataFrame\n",
        "df_encoded.head()"
      ]
    },
    {
      "cell_type": "markdown",
      "metadata": {
        "id": "YG8GrG0YSTxs"
      },
      "source": [
        "Dummify Island\n"
      ]
    },
    {
      "cell_type": "code",
      "execution_count": 3,
      "metadata": {
        "colab": {
          "base_uri": "https://localhost:8080/",
          "height": 206
        },
        "id": "99pRyfCmSWgO",
        "outputId": "ae4ddc01-2c65-4a37-c961-3660f3714955"
      },
      "outputs": [
        {
          "data": {
            "text/html": [
              "<div>\n",
              "<style scoped>\n",
              "    .dataframe tbody tr th:only-of-type {\n",
              "        vertical-align: middle;\n",
              "    }\n",
              "\n",
              "    .dataframe tbody tr th {\n",
              "        vertical-align: top;\n",
              "    }\n",
              "\n",
              "    .dataframe thead th {\n",
              "        text-align: right;\n",
              "    }\n",
              "</style>\n",
              "<table border=\"1\" class=\"dataframe\">\n",
              "  <thead>\n",
              "    <tr style=\"text-align: right;\">\n",
              "      <th></th>\n",
              "      <th>species</th>\n",
              "      <th>island</th>\n",
              "      <th>bill_length_mm</th>\n",
              "      <th>bill_depth_mm</th>\n",
              "      <th>flipper_length_mm</th>\n",
              "      <th>body_mass_g</th>\n",
              "      <th>sex</th>\n",
              "      <th>year</th>\n",
              "      <th>species_Adelie</th>\n",
              "      <th>species_Chinstrap</th>\n",
              "      <th>species_Gentoo</th>\n",
              "      <th>island_Biscoe</th>\n",
              "      <th>island_Dream</th>\n",
              "      <th>island_Torgersen</th>\n",
              "    </tr>\n",
              "  </thead>\n",
              "  <tbody>\n",
              "    <tr>\n",
              "      <th>0</th>\n",
              "      <td>Adelie</td>\n",
              "      <td>Torgersen</td>\n",
              "      <td>39.1</td>\n",
              "      <td>18.7</td>\n",
              "      <td>181.0</td>\n",
              "      <td>3750.0</td>\n",
              "      <td>male</td>\n",
              "      <td>2007</td>\n",
              "      <td>1.0</td>\n",
              "      <td>0.0</td>\n",
              "      <td>0.0</td>\n",
              "      <td>0.0</td>\n",
              "      <td>0.0</td>\n",
              "      <td>1.0</td>\n",
              "    </tr>\n",
              "    <tr>\n",
              "      <th>1</th>\n",
              "      <td>Adelie</td>\n",
              "      <td>Torgersen</td>\n",
              "      <td>39.5</td>\n",
              "      <td>17.4</td>\n",
              "      <td>186.0</td>\n",
              "      <td>3800.0</td>\n",
              "      <td>female</td>\n",
              "      <td>2007</td>\n",
              "      <td>1.0</td>\n",
              "      <td>0.0</td>\n",
              "      <td>0.0</td>\n",
              "      <td>0.0</td>\n",
              "      <td>0.0</td>\n",
              "      <td>1.0</td>\n",
              "    </tr>\n",
              "    <tr>\n",
              "      <th>2</th>\n",
              "      <td>Adelie</td>\n",
              "      <td>Torgersen</td>\n",
              "      <td>40.3</td>\n",
              "      <td>18.0</td>\n",
              "      <td>195.0</td>\n",
              "      <td>3250.0</td>\n",
              "      <td>female</td>\n",
              "      <td>2007</td>\n",
              "      <td>1.0</td>\n",
              "      <td>0.0</td>\n",
              "      <td>0.0</td>\n",
              "      <td>0.0</td>\n",
              "      <td>0.0</td>\n",
              "      <td>1.0</td>\n",
              "    </tr>\n",
              "    <tr>\n",
              "      <th>3</th>\n",
              "      <td>Adelie</td>\n",
              "      <td>Torgersen</td>\n",
              "      <td>NaN</td>\n",
              "      <td>NaN</td>\n",
              "      <td>NaN</td>\n",
              "      <td>NaN</td>\n",
              "      <td>NaN</td>\n",
              "      <td>2007</td>\n",
              "      <td>1.0</td>\n",
              "      <td>0.0</td>\n",
              "      <td>0.0</td>\n",
              "      <td>0.0</td>\n",
              "      <td>0.0</td>\n",
              "      <td>1.0</td>\n",
              "    </tr>\n",
              "    <tr>\n",
              "      <th>4</th>\n",
              "      <td>Adelie</td>\n",
              "      <td>Torgersen</td>\n",
              "      <td>36.7</td>\n",
              "      <td>19.3</td>\n",
              "      <td>193.0</td>\n",
              "      <td>3450.0</td>\n",
              "      <td>female</td>\n",
              "      <td>2007</td>\n",
              "      <td>1.0</td>\n",
              "      <td>0.0</td>\n",
              "      <td>0.0</td>\n",
              "      <td>0.0</td>\n",
              "      <td>0.0</td>\n",
              "      <td>1.0</td>\n",
              "    </tr>\n",
              "  </tbody>\n",
              "</table>\n",
              "</div>"
            ],
            "text/plain": [
              "  species     island  bill_length_mm  bill_depth_mm  flipper_length_mm  \\\n",
              "0  Adelie  Torgersen            39.1           18.7              181.0   \n",
              "1  Adelie  Torgersen            39.5           17.4              186.0   \n",
              "2  Adelie  Torgersen            40.3           18.0              195.0   \n",
              "3  Adelie  Torgersen             NaN            NaN                NaN   \n",
              "4  Adelie  Torgersen            36.7           19.3              193.0   \n",
              "\n",
              "   body_mass_g     sex  year  species_Adelie  species_Chinstrap  \\\n",
              "0       3750.0    male  2007             1.0                0.0   \n",
              "1       3800.0  female  2007             1.0                0.0   \n",
              "2       3250.0  female  2007             1.0                0.0   \n",
              "3          NaN     NaN  2007             1.0                0.0   \n",
              "4       3450.0  female  2007             1.0                0.0   \n",
              "\n",
              "   species_Gentoo  island_Biscoe  island_Dream  island_Torgersen  \n",
              "0             0.0            0.0           0.0               1.0  \n",
              "1             0.0            0.0           0.0               1.0  \n",
              "2             0.0            0.0           0.0               1.0  \n",
              "3             0.0            0.0           0.0               1.0  \n",
              "4             0.0            0.0           0.0               1.0  "
            ]
          },
          "execution_count": 3,
          "metadata": {},
          "output_type": "execute_result"
        }
      ],
      "source": [
        "enc = OneHotEncoder(handle_unknown='ignore')\n",
        "\n",
        "# Fit the encoder to the species column\n",
        "enc.fit(df[['island']])\n",
        "\n",
        "# Transform the species column into a one-hot encoded matrix\n",
        "encoded_island = enc.transform(df[['island']]).toarray()\n",
        "\n",
        "# Create a new DataFrame with the one-hot encoded species\n",
        "encoded_island_df = pd.DataFrame(encoded_island, columns=enc.get_feature_names_out(['island']))\n",
        "\n",
        "# Concatenate the original DataFrame with the encoded species DataFrame\n",
        "df2_encoded = pd.concat([df_encoded, encoded_island_df], axis=1)\n",
        "\n",
        "df2_encoded.head()"
      ]
    },
    {
      "cell_type": "markdown",
      "metadata": {
        "id": "EErsWsmtT1gU"
      },
      "source": [
        "Dummify Sex\n"
      ]
    },
    {
      "cell_type": "code",
      "execution_count": 4,
      "metadata": {
        "colab": {
          "base_uri": "https://localhost:8080/",
          "height": 226
        },
        "id": "DFop_yV9TkAJ",
        "outputId": "78a1c3ab-1631-4fdc-f295-da3818e82dbb"
      },
      "outputs": [
        {
          "data": {
            "text/html": [
              "<div>\n",
              "<style scoped>\n",
              "    .dataframe tbody tr th:only-of-type {\n",
              "        vertical-align: middle;\n",
              "    }\n",
              "\n",
              "    .dataframe tbody tr th {\n",
              "        vertical-align: top;\n",
              "    }\n",
              "\n",
              "    .dataframe thead th {\n",
              "        text-align: right;\n",
              "    }\n",
              "</style>\n",
              "<table border=\"1\" class=\"dataframe\">\n",
              "  <thead>\n",
              "    <tr style=\"text-align: right;\">\n",
              "      <th></th>\n",
              "      <th>species</th>\n",
              "      <th>island</th>\n",
              "      <th>bill_length_mm</th>\n",
              "      <th>bill_depth_mm</th>\n",
              "      <th>flipper_length_mm</th>\n",
              "      <th>body_mass_g</th>\n",
              "      <th>sex</th>\n",
              "      <th>year</th>\n",
              "      <th>species_Adelie</th>\n",
              "      <th>species_Chinstrap</th>\n",
              "      <th>species_Gentoo</th>\n",
              "      <th>island_Biscoe</th>\n",
              "      <th>island_Dream</th>\n",
              "      <th>island_Torgersen</th>\n",
              "      <th>sex_female</th>\n",
              "      <th>sex_male</th>\n",
              "      <th>sex_nan</th>\n",
              "    </tr>\n",
              "  </thead>\n",
              "  <tbody>\n",
              "    <tr>\n",
              "      <th>0</th>\n",
              "      <td>Adelie</td>\n",
              "      <td>Torgersen</td>\n",
              "      <td>39.1</td>\n",
              "      <td>18.7</td>\n",
              "      <td>181.0</td>\n",
              "      <td>3750.0</td>\n",
              "      <td>male</td>\n",
              "      <td>2007</td>\n",
              "      <td>1.0</td>\n",
              "      <td>0.0</td>\n",
              "      <td>0.0</td>\n",
              "      <td>0.0</td>\n",
              "      <td>0.0</td>\n",
              "      <td>1.0</td>\n",
              "      <td>0.0</td>\n",
              "      <td>1.0</td>\n",
              "      <td>0.0</td>\n",
              "    </tr>\n",
              "    <tr>\n",
              "      <th>1</th>\n",
              "      <td>Adelie</td>\n",
              "      <td>Torgersen</td>\n",
              "      <td>39.5</td>\n",
              "      <td>17.4</td>\n",
              "      <td>186.0</td>\n",
              "      <td>3800.0</td>\n",
              "      <td>female</td>\n",
              "      <td>2007</td>\n",
              "      <td>1.0</td>\n",
              "      <td>0.0</td>\n",
              "      <td>0.0</td>\n",
              "      <td>0.0</td>\n",
              "      <td>0.0</td>\n",
              "      <td>1.0</td>\n",
              "      <td>1.0</td>\n",
              "      <td>0.0</td>\n",
              "      <td>0.0</td>\n",
              "    </tr>\n",
              "    <tr>\n",
              "      <th>2</th>\n",
              "      <td>Adelie</td>\n",
              "      <td>Torgersen</td>\n",
              "      <td>40.3</td>\n",
              "      <td>18.0</td>\n",
              "      <td>195.0</td>\n",
              "      <td>3250.0</td>\n",
              "      <td>female</td>\n",
              "      <td>2007</td>\n",
              "      <td>1.0</td>\n",
              "      <td>0.0</td>\n",
              "      <td>0.0</td>\n",
              "      <td>0.0</td>\n",
              "      <td>0.0</td>\n",
              "      <td>1.0</td>\n",
              "      <td>1.0</td>\n",
              "      <td>0.0</td>\n",
              "      <td>0.0</td>\n",
              "    </tr>\n",
              "    <tr>\n",
              "      <th>3</th>\n",
              "      <td>Adelie</td>\n",
              "      <td>Torgersen</td>\n",
              "      <td>NaN</td>\n",
              "      <td>NaN</td>\n",
              "      <td>NaN</td>\n",
              "      <td>NaN</td>\n",
              "      <td>NaN</td>\n",
              "      <td>2007</td>\n",
              "      <td>1.0</td>\n",
              "      <td>0.0</td>\n",
              "      <td>0.0</td>\n",
              "      <td>0.0</td>\n",
              "      <td>0.0</td>\n",
              "      <td>1.0</td>\n",
              "      <td>0.0</td>\n",
              "      <td>0.0</td>\n",
              "      <td>1.0</td>\n",
              "    </tr>\n",
              "    <tr>\n",
              "      <th>4</th>\n",
              "      <td>Adelie</td>\n",
              "      <td>Torgersen</td>\n",
              "      <td>36.7</td>\n",
              "      <td>19.3</td>\n",
              "      <td>193.0</td>\n",
              "      <td>3450.0</td>\n",
              "      <td>female</td>\n",
              "      <td>2007</td>\n",
              "      <td>1.0</td>\n",
              "      <td>0.0</td>\n",
              "      <td>0.0</td>\n",
              "      <td>0.0</td>\n",
              "      <td>0.0</td>\n",
              "      <td>1.0</td>\n",
              "      <td>1.0</td>\n",
              "      <td>0.0</td>\n",
              "      <td>0.0</td>\n",
              "    </tr>\n",
              "  </tbody>\n",
              "</table>\n",
              "</div>"
            ],
            "text/plain": [
              "  species     island  bill_length_mm  bill_depth_mm  flipper_length_mm  \\\n",
              "0  Adelie  Torgersen            39.1           18.7              181.0   \n",
              "1  Adelie  Torgersen            39.5           17.4              186.0   \n",
              "2  Adelie  Torgersen            40.3           18.0              195.0   \n",
              "3  Adelie  Torgersen             NaN            NaN                NaN   \n",
              "4  Adelie  Torgersen            36.7           19.3              193.0   \n",
              "\n",
              "   body_mass_g     sex  year  species_Adelie  species_Chinstrap  \\\n",
              "0       3750.0    male  2007             1.0                0.0   \n",
              "1       3800.0  female  2007             1.0                0.0   \n",
              "2       3250.0  female  2007             1.0                0.0   \n",
              "3          NaN     NaN  2007             1.0                0.0   \n",
              "4       3450.0  female  2007             1.0                0.0   \n",
              "\n",
              "   species_Gentoo  island_Biscoe  island_Dream  island_Torgersen  sex_female  \\\n",
              "0             0.0            0.0           0.0               1.0         0.0   \n",
              "1             0.0            0.0           0.0               1.0         1.0   \n",
              "2             0.0            0.0           0.0               1.0         1.0   \n",
              "3             0.0            0.0           0.0               1.0         0.0   \n",
              "4             0.0            0.0           0.0               1.0         1.0   \n",
              "\n",
              "   sex_male  sex_nan  \n",
              "0       1.0      0.0  \n",
              "1       0.0      0.0  \n",
              "2       0.0      0.0  \n",
              "3       0.0      1.0  \n",
              "4       0.0      0.0  "
            ]
          },
          "execution_count": 4,
          "metadata": {},
          "output_type": "execute_result"
        }
      ],
      "source": [
        "enc = OneHotEncoder(handle_unknown='ignore')\n",
        "\n",
        "# Fit the encoder to the species column\n",
        "enc.fit(df[['sex']])\n",
        "\n",
        "# Transform the species column into a one-hot encoded matrix\n",
        "encoded_sex = enc.transform(df[['sex']]).toarray()\n",
        "\n",
        "# Create a new DataFrame with the one-hot encoded species\n",
        "encoded_sex_df = pd.DataFrame(encoded_sex, columns=enc.get_feature_names_out(['sex']))\n",
        "\n",
        "# Concatenate the original DataFrame with the encoded species DataFrame\n",
        "df3_encoded = pd.concat([df2_encoded, encoded_sex_df], axis=1)\n",
        "\n",
        "df3_encoded.head()"
      ]
    },
    {
      "cell_type": "markdown",
      "metadata": {
        "id": "TT1MVgaKm_gX"
      },
      "source": [
        "Let's use the other variables to predict `bill_depth_mm`. Prepare your data and fit the following models on a training dataset subset of the entire dataset:\n",
        "\n",
        "* Four different models, each containing a different set of predictor variables\n",
        "\n",
        "Create a plot like the right plot of Fig 1. in our `Model Validation` chapter with the training and test error plotted for each of your four models.\n",
        "\n",
        "Which of your models was best?"
      ]
    },
    {
      "cell_type": "markdown",
      "metadata": {
        "id": "VBLGnrn_Ut09"
      },
      "source": [
        "Model1"
      ]
    },
    {
      "cell_type": "code",
      "execution_count": 5,
      "metadata": {
        "id": "M6f7JWZTm6tn"
      },
      "outputs": [],
      "source": [
        "from sklearn.model_selection import train_test_split\n",
        "\n",
        "lr = LinearRegression()\n",
        "\n",
        "X = df3_encoded[['bill_length_mm']]\n",
        "y = df3_encoded['bill_depth_mm']\n",
        "\n",
        "X = X.dropna()  # Drop rows with NaN in X\n",
        "y = y[X.index]\n",
        "\n",
        "X_train, X_test, y_train, y_test = train_test_split(X, y, test_size=0.2)\n",
        "\n",
        "lr_fit1 = lr.fit(X_train, y_train)\n",
        "\n",
        "train_preds1 = lr_fit1.predict(X_train)\n",
        "test_preds1 = lr_fit1.predict(X_test)"
      ]
    },
    {
      "cell_type": "markdown",
      "metadata": {
        "id": "yHye0Rl_U8B7"
      },
      "source": [
        "Model2"
      ]
    },
    {
      "cell_type": "code",
      "execution_count": 7,
      "metadata": {
        "id": "BjMkZNvmU7TG"
      },
      "outputs": [],
      "source": [
        "from sklearn.model_selection import train_test_split\n",
        "#X = ames[[\"Gr Liv Area\", \"TotRms AbvGrd\"]]\n",
        "\n",
        "X2 = df3_encoded[['bill_length_mm', 'species_Adelie', 'species_Chinstrap']]\n",
        "\n",
        "y = df3_encoded['bill_depth_mm']\n",
        "\n",
        "# Remove rows with NaN values in predictors or target\n",
        "X2 = X2.dropna()\n",
        "y = y[X2.index]\n",
        "\n",
        "# Split data into training and test sets\n",
        "X_train2, X_test2, y_train2, y_test2 = train_test_split(X2, y, test_size=0.2)\n",
        "\n",
        "lr_fit2 = lr.fit(X_train2, y_train2)\n",
        "\n",
        "train_preds2 = lr_fit2.predict(X_train2)\n",
        "test_preds2 = lr_fit2.predict(X_test2)"
      ]
    },
    {
      "cell_type": "markdown",
      "metadata": {
        "id": "stO2_2BmWMmG"
      },
      "source": [
        "Model3"
      ]
    },
    {
      "cell_type": "code",
      "execution_count": 8,
      "metadata": {
        "id": "lQlKG0gfWP7k"
      },
      "outputs": [],
      "source": [
        "lr = LinearRegression()\n",
        "X3 = df3_encoded[['bill_length_mm', 'species_Adelie', 'species_Chinstrap', 'island_Dream', 'island_Torgersen']]\n",
        "y = df3_encoded['bill_depth_mm']\n",
        "\n",
        "# Remove rows with NaN values in predictors or target\n",
        "X3 = X3.dropna()\n",
        "y = y[X3.index]\n",
        "\n",
        "# Split data into training and test sets\n",
        "X_train3, X_test3, y_train3, y_test3 = train_test_split(X3, y, test_size=0.2)\n",
        "\n",
        "lr_fit3 = lr.fit(X_train3, y_train3)\n",
        "\n",
        "train_preds3 = lr_fit3.predict(X_train3)\n",
        "test_preds3 = lr_fit3.predict(X_test3)"
      ]
    },
    {
      "cell_type": "markdown",
      "metadata": {
        "id": "K7cgu4RYWjZN"
      },
      "source": [
        "Model4"
      ]
    },
    {
      "cell_type": "code",
      "execution_count": 9,
      "metadata": {
        "id": "7fDCJ3NfWlhF"
      },
      "outputs": [],
      "source": [
        "lr = LinearRegression()\n",
        "X4 = df3_encoded[['bill_length_mm', 'species_Adelie', 'species_Chinstrap', 'island_Dream', 'island_Torgersen', 'sex_male']]\n",
        "\n",
        "y = df3_encoded['bill_depth_mm']\n",
        "\n",
        "# Remove rows with NaN values in predictors or target\n",
        "X4 = X4.dropna()\n",
        "y = y[X4.index]\n",
        "\n",
        "# Split data into training and test sets\n",
        "X_train4, X_test4, y_train4, y_test4 = train_test_split(X4, y, test_size=0.2)\n",
        "\n",
        "\n",
        "\n",
        "lr_fit4 = lr.fit(X_train4, y_train4)\n",
        "\n",
        "train_preds4 = lr_fit4.predict(X_train4)\n",
        "test_preds4 = lr_fit4.predict(X_test4)"
      ]
    },
    {
      "cell_type": "markdown",
      "metadata": {
        "id": "8Czm4ABUW2e9"
      },
      "source": [
        "Graph"
      ]
    },
    {
      "cell_type": "code",
      "execution_count": 10,
      "metadata": {
        "colab": {
          "base_uri": "https://localhost:8080/"
        },
        "id": "76MNhlVQW1-f",
        "outputId": "2c9d7399-1250-4a40-810f-bb1b7200a9e5"
      },
      "outputs": [
        {
          "name": "stdout",
          "output_type": "stream",
          "text": [
            "Model 1 - Train MSE: 3.94, Test MSE: 4.25\n",
            "Model 2 - Train MSE: 7.37, Test MSE: 7.07\n",
            "Model 3 - Train MSE: 6.81, Test MSE: 6.13\n",
            "Model 4 - Train MSE: 7.17, Test MSE: 5.82\n"
          ]
        }
      ],
      "source": [
        "mse_train1 = mean_squared_error(y_train, train_preds1)\n",
        "mse_test1 = mean_squared_error(y_test, test_preds1)\n",
        "\n",
        "mse_train2 = mean_squared_error(y_train, train_preds2)\n",
        "mse_test2 = mean_squared_error(y_test, test_preds2)\n",
        "\n",
        "mse_train3 = mean_squared_error(y_train, train_preds3)\n",
        "mse_test3 = mean_squared_error(y_test, test_preds3)\n",
        "\n",
        "mse_train4 = mean_squared_error(y_train, train_preds4)\n",
        "mse_test4 = mean_squared_error(y_test, test_preds4)\n",
        "\n",
        "#Output print referenced from gemini (for clean, readable values)\n",
        "print(f\"Model 1 - Train MSE: {mse_train1:.2f}, Test MSE: {mse_test1:.2f}\")\n",
        "print(f\"Model 2 - Train MSE: {mse_train2:.2f}, Test MSE: {mse_test2:.2f}\")\n",
        "print(f\"Model 3 - Train MSE: {mse_train3:.2f}, Test MSE: {mse_test3:.2f}\")\n",
        "print(f\"Model 4 - Train MSE: {mse_train4:.2f}, Test MSE: {mse_test4:.2f}\")"
      ]
    },
    {
      "cell_type": "code",
      "execution_count": 18,
      "metadata": {
        "id": "tLWNlk2Cf1fy"
      },
      "outputs": [
        {
          "data": {
            "image/png": "[encoded data removed]"
          },
          "metadata": {
            "image/png": {
              "height": 480,
              "width": 640
            }
          },
          "output_type": "display_data"
        }
      ],
      "source": [
        "mse_train = [mse_train1, mse_train2, mse_train3, mse_train4]\n",
        "mse_test = [mse_test1, mse_test2, mse_test3, mse_test4]\n",
        "\n",
        "data = pd.DataFrame({\n",
        "    'Model': ['Model 1', 'Model 2', 'Model 3', 'Model 4'] * 2,\n",
        "    'MSE': mse_train + mse_test,\n",
        "    'Type': ['Training MSE'] * 4 + ['Test MSE'] * 4\n",
        "})\n",
        "\n",
        "(ggplot(data, aes(x='Model', y='MSE', color='Type', group='Type'))\n",
        " + geom_line()\n",
        " + geom_point() \n",
        " + labs(\n",
        "    title='Train v test MSE',\n",
        "    x='Models',\n",
        "    y='Mean Squared Error (MSE)'))"
      ]
    },
    {
      "cell_type": "markdown",
      "metadata": {},
      "source": [
        "Based on the plot and MSE alone, I would likely choose model 4, because of it's strong test MSE. Intuitively, this makes sense becasuse it contains the dummy variable sex, unlike the other models. I would not choose Model 1, even though it has the lowest test and training MSE, for 2 reasons. The first is because it has a low R^2, and likely underfits the data with only 1 variable. The second reason is because it has a greater test MSE than Training, unlike the other models. \n",
        " "
      ]
    }
  ],
  "metadata": {
    "colab": {
      "provenance": []
    },
    "kernelspec": {
      "display_name": "Python 3",
      "name": "python3"
    },
    "language_info": {
      "codemirror_mode": {
        "name": "ipython",
        "version": 3
      },
      "file_extension": ".py",
      "mimetype": "text/x-python",
      "name": "python",
      "nbconvert_exporter": "python",
      "pygments_lexer": "ipython3",
      "version": "3.12.4"
    }
  },
  "nbformat": 4,
  "nbformat_minor": 0
}
