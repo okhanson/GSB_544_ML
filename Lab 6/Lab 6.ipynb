{
 "cells": [
  {
   "cell_type": "raw",
   "metadata": {
    "vscode": {
     "languageId": "raw"
    }
   },
   "source": [
    "---\n",
    "title: \"Lab 6: Baseball Players\"\n",
    "author: \"Owen Hanson\"\n",
    "date: \"2024-11-11\"\n",
    "output: \n",
    "    html:\n",
    "        theme: \"cosmo\"\n",
    "embed-resources: true\n",
    "---"
   ]
  },
  {
   "cell_type": "markdown",
   "metadata": {},
   "source": [
    "## Dataset: Baseball Players\n",
    "A couple notes about this lab:\n",
    "\n",
    "Although it isn’t listed as a specific question, don’t forget to clean your data at the beginning. How will you handle missing data? Are there any variables that need adjusting?\n",
    "\n",
    "There are a lot of variables in the dataset! You may want to use the remainder = \"passthrough\" trick in your column transformers, rather than typing out a ton of gene names.\n",
    "\n",
    "Don’t forget that in penalized regression, we must standardize our numeric variables.\n",
    "\n",
    "There is a lot of repetition in this lab. Think about ways to streamline your code - for example, you might consider writing simple functions to easily create pipelines."
   ]
  },
  {
   "cell_type": "code",
   "execution_count": 32,
   "metadata": {},
   "outputs": [],
   "source": [
    "import pandas as pd\n",
    "import numpy as np\n",
    "from sklearn.pipeline import Pipeline\n",
    "from sklearn.compose import make_column_selector, ColumnTransformer\n",
    "from sklearn.preprocessing import StandardScaler, OneHotEncoder, PolynomialFeatures\n",
    "from sklearn.linear_model import LinearRegression, Ridge, Lasso, ElasticNet\n",
    "from sklearn.model_selection import train_test_split, cross_val_score, GridSearchCV\n",
    "from sklearn.metrics import r2_score, mean_squared_error"
   ]
  },
  {
   "cell_type": "code",
   "execution_count": 17,
   "metadata": {},
   "outputs": [
    {
     "data": {
      "text/html": [
       "<div>\n",
       "<style scoped>\n",
       "    .dataframe tbody tr th:only-of-type {\n",
       "        vertical-align: middle;\n",
       "    }\n",
       "\n",
       "    .dataframe tbody tr th {\n",
       "        vertical-align: top;\n",
       "    }\n",
       "\n",
       "    .dataframe thead th {\n",
       "        text-align: right;\n",
       "    }\n",
       "</style>\n",
       "<table border=\"1\" class=\"dataframe\">\n",
       "  <thead>\n",
       "    <tr style=\"text-align: right;\">\n",
       "      <th></th>\n",
       "      <th>AtBat</th>\n",
       "      <th>Hits</th>\n",
       "      <th>HmRun</th>\n",
       "      <th>Runs</th>\n",
       "      <th>RBI</th>\n",
       "      <th>Walks</th>\n",
       "      <th>Years</th>\n",
       "      <th>CAtBat</th>\n",
       "      <th>CHits</th>\n",
       "      <th>CHmRun</th>\n",
       "      <th>CRuns</th>\n",
       "      <th>CRBI</th>\n",
       "      <th>CWalks</th>\n",
       "      <th>League</th>\n",
       "      <th>Division</th>\n",
       "      <th>PutOuts</th>\n",
       "      <th>Assists</th>\n",
       "      <th>Errors</th>\n",
       "      <th>Salary</th>\n",
       "      <th>NewLeague</th>\n",
       "    </tr>\n",
       "  </thead>\n",
       "  <tbody>\n",
       "    <tr>\n",
       "      <th>1</th>\n",
       "      <td>315</td>\n",
       "      <td>81</td>\n",
       "      <td>7</td>\n",
       "      <td>24</td>\n",
       "      <td>38</td>\n",
       "      <td>39</td>\n",
       "      <td>14</td>\n",
       "      <td>3449</td>\n",
       "      <td>835</td>\n",
       "      <td>69</td>\n",
       "      <td>321</td>\n",
       "      <td>414</td>\n",
       "      <td>375</td>\n",
       "      <td>N</td>\n",
       "      <td>W</td>\n",
       "      <td>632</td>\n",
       "      <td>43</td>\n",
       "      <td>10</td>\n",
       "      <td>475.0</td>\n",
       "      <td>N</td>\n",
       "    </tr>\n",
       "    <tr>\n",
       "      <th>2</th>\n",
       "      <td>479</td>\n",
       "      <td>130</td>\n",
       "      <td>18</td>\n",
       "      <td>66</td>\n",
       "      <td>72</td>\n",
       "      <td>76</td>\n",
       "      <td>3</td>\n",
       "      <td>1624</td>\n",
       "      <td>457</td>\n",
       "      <td>63</td>\n",
       "      <td>224</td>\n",
       "      <td>266</td>\n",
       "      <td>263</td>\n",
       "      <td>A</td>\n",
       "      <td>W</td>\n",
       "      <td>880</td>\n",
       "      <td>82</td>\n",
       "      <td>14</td>\n",
       "      <td>480.0</td>\n",
       "      <td>A</td>\n",
       "    </tr>\n",
       "    <tr>\n",
       "      <th>3</th>\n",
       "      <td>496</td>\n",
       "      <td>141</td>\n",
       "      <td>20</td>\n",
       "      <td>65</td>\n",
       "      <td>78</td>\n",
       "      <td>37</td>\n",
       "      <td>11</td>\n",
       "      <td>5628</td>\n",
       "      <td>1575</td>\n",
       "      <td>225</td>\n",
       "      <td>828</td>\n",
       "      <td>838</td>\n",
       "      <td>354</td>\n",
       "      <td>N</td>\n",
       "      <td>E</td>\n",
       "      <td>200</td>\n",
       "      <td>11</td>\n",
       "      <td>3</td>\n",
       "      <td>500.0</td>\n",
       "      <td>N</td>\n",
       "    </tr>\n",
       "    <tr>\n",
       "      <th>4</th>\n",
       "      <td>321</td>\n",
       "      <td>87</td>\n",
       "      <td>10</td>\n",
       "      <td>39</td>\n",
       "      <td>42</td>\n",
       "      <td>30</td>\n",
       "      <td>2</td>\n",
       "      <td>396</td>\n",
       "      <td>101</td>\n",
       "      <td>12</td>\n",
       "      <td>48</td>\n",
       "      <td>46</td>\n",
       "      <td>33</td>\n",
       "      <td>N</td>\n",
       "      <td>E</td>\n",
       "      <td>805</td>\n",
       "      <td>40</td>\n",
       "      <td>4</td>\n",
       "      <td>91.5</td>\n",
       "      <td>N</td>\n",
       "    </tr>\n",
       "    <tr>\n",
       "      <th>5</th>\n",
       "      <td>594</td>\n",
       "      <td>169</td>\n",
       "      <td>4</td>\n",
       "      <td>74</td>\n",
       "      <td>51</td>\n",
       "      <td>35</td>\n",
       "      <td>11</td>\n",
       "      <td>4408</td>\n",
       "      <td>1133</td>\n",
       "      <td>19</td>\n",
       "      <td>501</td>\n",
       "      <td>336</td>\n",
       "      <td>194</td>\n",
       "      <td>A</td>\n",
       "      <td>W</td>\n",
       "      <td>282</td>\n",
       "      <td>421</td>\n",
       "      <td>25</td>\n",
       "      <td>750.0</td>\n",
       "      <td>A</td>\n",
       "    </tr>\n",
       "  </tbody>\n",
       "</table>\n",
       "</div>"
      ],
      "text/plain": [
       "   AtBat  Hits  HmRun  Runs  RBI  ...  PutOuts  Assists  Errors  Salary  NewLeague\n",
       "1    315    81      7    24   38  ...      632       43      10   475.0          N\n",
       "2    479   130     18    66   72  ...      880       82      14   480.0          A\n",
       "3    496   141     20    65   78  ...      200       11       3   500.0          N\n",
       "4    321    87     10    39   42  ...      805       40       4    91.5          N\n",
       "5    594   169      4    74   51  ...      282      421      25   750.0          A\n",
       "\n",
       "[5 rows x 20 columns]"
      ]
     },
     "execution_count": null,
     "metadata": {},
     "output_type": "execute_result"
    }
   ],
   "source": [
    "data = pd.read_csv(\"/Users/owenk/OneDrive/Documents/GitHub/GSB_544_ML/Lab 6/Hitters.csv\")\n",
    "data_clean = data.dropna()\n",
    "# dummify League, Division, and NewLeague \n",
    "data_clean.head()"
   ]
  },
  {
   "cell_type": "markdown",
   "metadata": {},
   "source": [
    "# Part I: Different Model Specs\n",
    "\n",
    "A. Regression without regularization\n",
    "\n",
    "1. Create a pipeline that includes all the columns as predictors for Salary, and performs ordinary linear regression\n",
    "\n",
    "2. Fit this pipeline to the full dataset, and interpret a few of the most important coefficients.\n",
    "\n",
    "3. Use cross-validation to estimate the MSE you would expect if you used this pipeline to predict 1989 salaries."
   ]
  },
  {
   "cell_type": "code",
   "execution_count": 11,
   "metadata": {},
   "outputs": [],
   "source": [
    "ct = ColumnTransformer(\n",
    "  [\n",
    "    (\"dummify\",\n",
    "    OneHotEncoder(sparse_output = False, handle_unknown='ignore'),\n",
    "    make_column_selector(dtype_include=object)),\n",
    "    (\"standardize\",\n",
    "    StandardScaler(),\n",
    "    make_column_selector(dtype_include=np.number))\n",
    "  ],\n",
    "  remainder = \"passthrough\"\n",
    ").set_output(transform  = \"pandas\")\n",
    "\n",
    "#step 1\n",
    "lr_pipeline = Pipeline(\n",
    "  [(\"preprocessing\", ct),\n",
    "  (\"linear_regression\", LinearRegression())]\n",
    ").set_output(transform = \"pandas\")"
   ]
  },
  {
   "cell_type": "code",
   "execution_count": 22,
   "metadata": {},
   "outputs": [
    {
     "data": {
      "text/html": [
       "<div>\n",
       "<style scoped>\n",
       "    .dataframe tbody tr th:only-of-type {\n",
       "        vertical-align: middle;\n",
       "    }\n",
       "\n",
       "    .dataframe tbody tr th {\n",
       "        vertical-align: top;\n",
       "    }\n",
       "\n",
       "    .dataframe thead th {\n",
       "        text-align: right;\n",
       "    }\n",
       "</style>\n",
       "<table border=\"1\" class=\"dataframe\">\n",
       "  <thead>\n",
       "    <tr style=\"text-align: right;\">\n",
       "      <th></th>\n",
       "      <th>dummify__League_A</th>\n",
       "      <th>dummify__League_N</th>\n",
       "      <th>dummify__Division_E</th>\n",
       "      <th>dummify__Division_W</th>\n",
       "      <th>dummify__NewLeague_A</th>\n",
       "      <th>dummify__NewLeague_N</th>\n",
       "      <th>standardize__AtBat</th>\n",
       "      <th>standardize__Hits</th>\n",
       "      <th>standardize__HmRun</th>\n",
       "      <th>standardize__Runs</th>\n",
       "      <th>standardize__RBI</th>\n",
       "      <th>standardize__Walks</th>\n",
       "      <th>standardize__Years</th>\n",
       "      <th>standardize__CAtBat</th>\n",
       "      <th>standardize__CHits</th>\n",
       "      <th>standardize__CHmRun</th>\n",
       "      <th>standardize__CRuns</th>\n",
       "      <th>standardize__CRBI</th>\n",
       "      <th>standardize__CWalks</th>\n",
       "      <th>standardize__PutOuts</th>\n",
       "      <th>standardize__Assists</th>\n",
       "      <th>standardize__Errors</th>\n",
       "    </tr>\n",
       "  </thead>\n",
       "  <tbody>\n",
       "    <tr>\n",
       "      <th>1</th>\n",
       "      <td>0.0</td>\n",
       "      <td>1.0</td>\n",
       "      <td>0.0</td>\n",
       "      <td>1.0</td>\n",
       "      <td>0.0</td>\n",
       "      <td>1.0</td>\n",
       "      <td>-0.602900</td>\n",
       "      <td>-0.595675</td>\n",
       "      <td>-0.528551</td>\n",
       "      <td>-1.206112</td>\n",
       "      <td>-0.522063</td>\n",
       "      <td>-0.097527</td>\n",
       "      <td>1.397893</td>\n",
       "      <td>0.346791</td>\n",
       "      <td>0.174373</td>\n",
       "      <td>-0.002920</td>\n",
       "      <td>-0.121671</td>\n",
       "      <td>0.258966</td>\n",
       "      <td>0.435334</td>\n",
       "      <td>1.221499</td>\n",
       "      <td>-0.523191</td>\n",
       "      <td>0.213352</td>\n",
       "    </tr>\n",
       "    <tr>\n",
       "      <th>2</th>\n",
       "      <td>1.0</td>\n",
       "      <td>0.0</td>\n",
       "      <td>0.0</td>\n",
       "      <td>1.0</td>\n",
       "      <td>1.0</td>\n",
       "      <td>0.0</td>\n",
       "      <td>0.512542</td>\n",
       "      <td>0.492260</td>\n",
       "      <td>0.729966</td>\n",
       "      <td>0.441515</td>\n",
       "      <td>0.794060</td>\n",
       "      <td>1.609373</td>\n",
       "      <td>-0.901200</td>\n",
       "      <td>-0.452865</td>\n",
       "      <td>-0.409892</td>\n",
       "      <td>-0.076054</td>\n",
       "      <td>-0.415105</td>\n",
       "      <td>-0.199590</td>\n",
       "      <td>0.010373</td>\n",
       "      <td>2.109109</td>\n",
       "      <td>-0.253863</td>\n",
       "      <td>0.819964</td>\n",
       "    </tr>\n",
       "    <tr>\n",
       "      <th>3</th>\n",
       "      <td>0.0</td>\n",
       "      <td>1.0</td>\n",
       "      <td>1.0</td>\n",
       "      <td>0.0</td>\n",
       "      <td>0.0</td>\n",
       "      <td>1.0</td>\n",
       "      <td>0.628167</td>\n",
       "      <td>0.736490</td>\n",
       "      <td>0.958788</td>\n",
       "      <td>0.402286</td>\n",
       "      <td>1.026317</td>\n",
       "      <td>-0.189792</td>\n",
       "      <td>0.770868</td>\n",
       "      <td>1.301558</td>\n",
       "      <td>1.318174</td>\n",
       "      <td>1.898565</td>\n",
       "      <td>1.412051</td>\n",
       "      <td>1.572666</td>\n",
       "      <td>0.355654</td>\n",
       "      <td>-0.324661</td>\n",
       "      <td>-0.744179</td>\n",
       "      <td>-0.848219</td>\n",
       "    </tr>\n",
       "    <tr>\n",
       "      <th>4</th>\n",
       "      <td>0.0</td>\n",
       "      <td>1.0</td>\n",
       "      <td>1.0</td>\n",
       "      <td>0.0</td>\n",
       "      <td>0.0</td>\n",
       "      <td>1.0</td>\n",
       "      <td>-0.562092</td>\n",
       "      <td>-0.462459</td>\n",
       "      <td>-0.185319</td>\n",
       "      <td>-0.617673</td>\n",
       "      <td>-0.367225</td>\n",
       "      <td>-0.512719</td>\n",
       "      <td>-1.110209</td>\n",
       "      <td>-0.990935</td>\n",
       "      <td>-0.960153</td>\n",
       "      <td>-0.697693</td>\n",
       "      <td>-0.947521</td>\n",
       "      <td>-0.881228</td>\n",
       "      <td>-0.862315</td>\n",
       "      <td>1.840678</td>\n",
       "      <td>-0.543909</td>\n",
       "      <td>-0.696566</td>\n",
       "    </tr>\n",
       "    <tr>\n",
       "      <th>5</th>\n",
       "      <td>1.0</td>\n",
       "      <td>0.0</td>\n",
       "      <td>0.0</td>\n",
       "      <td>1.0</td>\n",
       "      <td>1.0</td>\n",
       "      <td>0.0</td>\n",
       "      <td>1.294712</td>\n",
       "      <td>1.358167</td>\n",
       "      <td>-0.871783</td>\n",
       "      <td>0.755349</td>\n",
       "      <td>-0.018840</td>\n",
       "      <td>-0.282057</td>\n",
       "      <td>0.770868</td>\n",
       "      <td>0.766993</td>\n",
       "      <td>0.634985</td>\n",
       "      <td>-0.612370</td>\n",
       "      <td>0.422846</td>\n",
       "      <td>0.017294</td>\n",
       "      <td>-0.251434</td>\n",
       "      <td>-0.031177</td>\n",
       "      <td>2.087225</td>\n",
       "      <td>2.488147</td>\n",
       "    </tr>\n",
       "  </tbody>\n",
       "</table>\n",
       "</div>"
      ],
      "text/plain": [
       "   dummify__League_A  ...  standardize__Errors\n",
       "1                0.0  ...             0.213352\n",
       "2                1.0  ...             0.819964\n",
       "3                0.0  ...            -0.848219\n",
       "4                0.0  ...            -0.696566\n",
       "5                1.0  ...             2.488147\n",
       "\n",
       "[5 rows x 22 columns]"
      ]
     },
     "execution_count": null,
     "metadata": {},
     "output_type": "execute_result"
    }
   ],
   "source": [
    "#Step 2\n",
    "X = data_clean.drop([\"Salary\"], axis = 1)\n",
    "y = data_clean[\"Salary\"]\n",
    "\n",
    "X_test = ct.fit_transform(X)\n",
    "X_test.head()\n",
    "\n",
    "#len(X_test.columns)"
   ]
  },
  {
   "cell_type": "code",
   "execution_count": 16,
   "metadata": {},
   "outputs": [
    {
     "data": {
      "text/plain": [
       "array([ -31.29971152,   31.29971152,   58.42462282,  -58.42462282,\n",
       "         12.38116255,  -12.38116255, -291.0945557 ,  337.83047948,\n",
       "         37.85383676,  -60.57247861,  -26.99498379,  135.07389695,\n",
       "        -16.69335888, -391.03865466,   86.68761664,  -14.18172332,\n",
       "        480.74713477,  260.68988581, -213.89225864,   78.76129639,\n",
       "         53.73248973,  -22.16086217])"
      ]
     },
     "execution_count": null,
     "metadata": {},
     "output_type": "execute_result"
    }
   ],
   "source": [
    "lr_fit = lr_pipeline.fit(X, y)\n",
    "lr_fit['linear_regression'].coef_"
   ]
  },
  {
   "cell_type": "code",
   "execution_count": 109,
   "metadata": {},
   "outputs": [
    {
     "data": {
      "text/html": [
       "<div>\n",
       "<style scoped>\n",
       "    .dataframe tbody tr th:only-of-type {\n",
       "        vertical-align: middle;\n",
       "    }\n",
       "\n",
       "    .dataframe tbody tr th {\n",
       "        vertical-align: top;\n",
       "    }\n",
       "\n",
       "    .dataframe thead th {\n",
       "        text-align: right;\n",
       "    }\n",
       "</style>\n",
       "<table border=\"1\" class=\"dataframe\">\n",
       "  <thead>\n",
       "    <tr style=\"text-align: right;\">\n",
       "      <th></th>\n",
       "      <th>Feature</th>\n",
       "      <th>Coefficient</th>\n",
       "    </tr>\n",
       "  </thead>\n",
       "  <tbody>\n",
       "    <tr>\n",
       "      <th>16</th>\n",
       "      <td>standardize__CRuns</td>\n",
       "      <td>480.747135</td>\n",
       "    </tr>\n",
       "    <tr>\n",
       "      <th>7</th>\n",
       "      <td>standardize__Hits</td>\n",
       "      <td>337.830479</td>\n",
       "    </tr>\n",
       "    <tr>\n",
       "      <th>17</th>\n",
       "      <td>standardize__CRBI</td>\n",
       "      <td>260.689886</td>\n",
       "    </tr>\n",
       "    <tr>\n",
       "      <th>11</th>\n",
       "      <td>standardize__Walks</td>\n",
       "      <td>135.073897</td>\n",
       "    </tr>\n",
       "    <tr>\n",
       "      <th>14</th>\n",
       "      <td>standardize__CHits</td>\n",
       "      <td>86.687617</td>\n",
       "    </tr>\n",
       "    <tr>\n",
       "      <th>19</th>\n",
       "      <td>standardize__PutOuts</td>\n",
       "      <td>78.761296</td>\n",
       "    </tr>\n",
       "    <tr>\n",
       "      <th>2</th>\n",
       "      <td>dummify__Division_E</td>\n",
       "      <td>58.424623</td>\n",
       "    </tr>\n",
       "    <tr>\n",
       "      <th>20</th>\n",
       "      <td>standardize__Assists</td>\n",
       "      <td>53.732490</td>\n",
       "    </tr>\n",
       "    <tr>\n",
       "      <th>8</th>\n",
       "      <td>standardize__HmRun</td>\n",
       "      <td>37.853837</td>\n",
       "    </tr>\n",
       "    <tr>\n",
       "      <th>1</th>\n",
       "      <td>dummify__League_N</td>\n",
       "      <td>31.299712</td>\n",
       "    </tr>\n",
       "    <tr>\n",
       "      <th>4</th>\n",
       "      <td>dummify__NewLeague_A</td>\n",
       "      <td>12.381163</td>\n",
       "    </tr>\n",
       "    <tr>\n",
       "      <th>5</th>\n",
       "      <td>dummify__NewLeague_N</td>\n",
       "      <td>-12.381163</td>\n",
       "    </tr>\n",
       "    <tr>\n",
       "      <th>15</th>\n",
       "      <td>standardize__CHmRun</td>\n",
       "      <td>-14.181723</td>\n",
       "    </tr>\n",
       "    <tr>\n",
       "      <th>12</th>\n",
       "      <td>standardize__Years</td>\n",
       "      <td>-16.693359</td>\n",
       "    </tr>\n",
       "    <tr>\n",
       "      <th>21</th>\n",
       "      <td>standardize__Errors</td>\n",
       "      <td>-22.160862</td>\n",
       "    </tr>\n",
       "    <tr>\n",
       "      <th>10</th>\n",
       "      <td>standardize__RBI</td>\n",
       "      <td>-26.994984</td>\n",
       "    </tr>\n",
       "    <tr>\n",
       "      <th>0</th>\n",
       "      <td>dummify__League_A</td>\n",
       "      <td>-31.299712</td>\n",
       "    </tr>\n",
       "    <tr>\n",
       "      <th>3</th>\n",
       "      <td>dummify__Division_W</td>\n",
       "      <td>-58.424623</td>\n",
       "    </tr>\n",
       "    <tr>\n",
       "      <th>9</th>\n",
       "      <td>standardize__Runs</td>\n",
       "      <td>-60.572479</td>\n",
       "    </tr>\n",
       "    <tr>\n",
       "      <th>18</th>\n",
       "      <td>standardize__CWalks</td>\n",
       "      <td>-213.892259</td>\n",
       "    </tr>\n",
       "    <tr>\n",
       "      <th>6</th>\n",
       "      <td>standardize__AtBat</td>\n",
       "      <td>-291.094556</td>\n",
       "    </tr>\n",
       "    <tr>\n",
       "      <th>13</th>\n",
       "      <td>standardize__CAtBat</td>\n",
       "      <td>-391.038655</td>\n",
       "    </tr>\n",
       "  </tbody>\n",
       "</table>\n",
       "</div>"
      ],
      "text/plain": [
       "                 Feature  Coefficient\n",
       "16    standardize__CRuns   480.747135\n",
       "7      standardize__Hits   337.830479\n",
       "17     standardize__CRBI   260.689886\n",
       "11    standardize__Walks   135.073897\n",
       "14    standardize__CHits    86.687617\n",
       "19  standardize__PutOuts    78.761296\n",
       "2    dummify__Division_E    58.424623\n",
       "20  standardize__Assists    53.732490\n",
       "8     standardize__HmRun    37.853837\n",
       "1      dummify__League_N    31.299712\n",
       "4   dummify__NewLeague_A    12.381163\n",
       "5   dummify__NewLeague_N   -12.381163\n",
       "15   standardize__CHmRun   -14.181723\n",
       "12    standardize__Years   -16.693359\n",
       "21   standardize__Errors   -22.160862\n",
       "10      standardize__RBI   -26.994984\n",
       "0      dummify__League_A   -31.299712\n",
       "3    dummify__Division_W   -58.424623\n",
       "9      standardize__Runs   -60.572479\n",
       "18   standardize__CWalks  -213.892259\n",
       "6     standardize__AtBat  -291.094556\n",
       "13   standardize__CAtBat  -391.038655"
      ]
     },
     "execution_count": null,
     "metadata": {},
     "output_type": "execute_result"
    }
   ],
   "source": [
    "feature_labels = [\n",
    "    'dummify__League_A', 'dummify__League_N', 'dummify__Division_E', 'dummify__Division_W',\n",
    "    'dummify__NewLeague_A', 'dummify__NewLeague_N', 'standardize__AtBat', 'standardize__Hits',\n",
    "    'standardize__HmRun', 'standardize__Runs', 'standardize__RBI', 'standardize__Walks',\n",
    "    'standardize__Years', 'standardize__CAtBat', 'standardize__CHits', 'standardize__CHmRun',\n",
    "    'standardize__CRuns', 'standardize__CRBI', 'standardize__CWalks', 'standardize__PutOuts',\n",
    "    'standardize__Assists', 'standardize__Errors'\n",
    "]\n",
    "\n",
    "lr_coefficients = lr_fit['linear_regression'].coef_\n",
    "\n",
    "lr_coef_df = pd.DataFrame({\n",
    "    \"Feature\": feature_labels,\n",
    "    \"Coefficient\": lr_coefficients\n",
    "})\n",
    "\n",
    "lr_coef_df = lr_coef_df.sort_values(by=\"Coefficient\", ascending=False)\n",
    "lr_coef_df"
   ]
  },
  {
   "cell_type": "markdown",
   "metadata": {},
   "source": [
    "A few of the most important coefficients here are on the explanatory variables AtBat, Walks, and CRuns. In this context, I am considering the most important coefficients to be those which have the highest effect on salary. \n",
    "\n",
    "As at bats in 1986 increase by 1, salary on average decreases by $291. \n",
    "As Hits in 1986 increase by 1, salary on average increases by $337.\n",
    "As career at bats increase by 1, salary on average decreases by $391.\n",
    "As career runs increase by 1, salary on average increases by $480.\n"
   ]
  },
  {
   "cell_type": "code",
   "execution_count": 37,
   "metadata": {},
   "outputs": [
    {
     "data": {
      "text/plain": [
       "-0.3434950217881677"
      ]
     },
     "execution_count": null,
     "metadata": {},
     "output_type": "execute_result"
    }
   ],
   "source": [
    "#part 3\n",
    "lrr2_cv = cross_val_score(lr_pipeline, X, y, cv = 5, scoring = \"r2\")\n",
    "-lrr2_cv.mean()"
   ]
  },
  {
   "cell_type": "code",
   "execution_count": 111,
   "metadata": {},
   "outputs": [
    {
     "data": {
      "text/plain": [
       "121136.3103181688"
      ]
     },
     "execution_count": null,
     "metadata": {},
     "output_type": "execute_result"
    }
   ],
   "source": [
    "lrmse_cv = cross_val_score(lr_pipeline, X, y, cv=5, scoring=\"neg_mean_squared_error\")\n",
    "-lrmse_cv.mean()"
   ]
  },
  {
   "cell_type": "markdown",
   "metadata": {},
   "source": [
    "The R2 and MSE scores from above indicate that this linear regession model does not effectively explain the variance in salary, and is not a good fit."
   ]
  },
  {
   "cell_type": "markdown",
   "metadata": {},
   "source": [
    "B. Ridge regression\n",
    "1. Create a pipeline that includes all the columns as predictors for Salary, and performs ordinary ridge regression\n",
    "\n",
    "2. Use cross-validation to tune the \n",
    " hyperparameter.\n",
    "\n",
    "3. Fit the pipeline with your chosen \n",
    " to the full dataset, and interpret a few of the most important coefficients.\n",
    "\n",
    "4. Report the MSE you would expect if you used this pipeline to predict 1989 salaries."
   ]
  },
  {
   "cell_type": "code",
   "execution_count": 51,
   "metadata": {},
   "outputs": [],
   "source": [
    "#Step 1\n",
    "rr_pipeline = Pipeline(\n",
    "  [(\"preprocessing\", ct),\n",
    "  (\"ridge_regression\", Ridge())]\n",
    ").set_output(transform = \"pandas\")"
   ]
  },
  {
   "cell_type": "code",
   "execution_count": 66,
   "metadata": {},
   "outputs": [
    {
     "name": "stdout",
     "output_type": "stream",
     "text": [
      "best_params {'ridge_regression__alpha': 100}\n",
      "best_params {'ridge_regression__alpha': 100}\n"
     ]
    }
   ],
   "source": [
    "#Step 2\n",
    "param_grid = {\n",
    "    \"ridge_regression__alpha\": [0.001, 0.01, 0.1, 1, 10, 50, 100, 500, 1000]\n",
    "}\n",
    "\n",
    "rr_grid_search = GridSearchCV(rr_pipeline, param_grid, cv=5, scoring='r2')\n",
    "\n",
    "rr_grid_search.fit(X, y)\n",
    "print(\"best_params\", rr_grid_search.best_params_)"
   ]
  },
  {
   "cell_type": "code",
   "execution_count": 68,
   "metadata": {},
   "outputs": [
    {
     "data": {
      "text/plain": [
       "array([-11.05184162,  11.05184162,  38.02322237, -38.02322237,  -4.09159035,\n",
       "         4.09159035,  -0.56737013,  49.6123856 ,  -1.4641586 ,  29.34326268,\n",
       "        22.95801548,  41.38461684,  -2.7083058 ,  24.70584373,  44.53427648,\n",
       "        38.6853297 ,  45.5076061 ,  47.1455561 ,   4.03637066,  56.88152161,\n",
       "         7.45723865, -13.38238979])"
      ]
     },
     "execution_count": null,
     "metadata": {},
     "output_type": "execute_result"
    }
   ],
   "source": [
    "#Step 3\n",
    "rr_pipeline.set_params(ridge_regression__alpha = 100)\n",
    "rr_fit = rr_pipeline.fit(X, y)\n",
    "rr_fit['ridge_regression'].coef_"
   ]
  },
  {
   "cell_type": "code",
   "execution_count": 73,
   "metadata": {},
   "outputs": [
    {
     "data": {
      "text/html": [
       "<div>\n",
       "<style scoped>\n",
       "    .dataframe tbody tr th:only-of-type {\n",
       "        vertical-align: middle;\n",
       "    }\n",
       "\n",
       "    .dataframe tbody tr th {\n",
       "        vertical-align: top;\n",
       "    }\n",
       "\n",
       "    .dataframe thead th {\n",
       "        text-align: right;\n",
       "    }\n",
       "</style>\n",
       "<table border=\"1\" class=\"dataframe\">\n",
       "  <thead>\n",
       "    <tr style=\"text-align: right;\">\n",
       "      <th></th>\n",
       "      <th>Feature</th>\n",
       "      <th>Coefficient</th>\n",
       "    </tr>\n",
       "  </thead>\n",
       "  <tbody>\n",
       "    <tr>\n",
       "      <th>19</th>\n",
       "      <td>standardize__PutOuts</td>\n",
       "      <td>56.881522</td>\n",
       "    </tr>\n",
       "    <tr>\n",
       "      <th>7</th>\n",
       "      <td>standardize__Hits</td>\n",
       "      <td>49.612386</td>\n",
       "    </tr>\n",
       "    <tr>\n",
       "      <th>17</th>\n",
       "      <td>standardize__CRBI</td>\n",
       "      <td>47.145556</td>\n",
       "    </tr>\n",
       "    <tr>\n",
       "      <th>16</th>\n",
       "      <td>standardize__CRuns</td>\n",
       "      <td>45.507606</td>\n",
       "    </tr>\n",
       "    <tr>\n",
       "      <th>14</th>\n",
       "      <td>standardize__CHits</td>\n",
       "      <td>44.534276</td>\n",
       "    </tr>\n",
       "    <tr>\n",
       "      <th>11</th>\n",
       "      <td>standardize__Walks</td>\n",
       "      <td>41.384617</td>\n",
       "    </tr>\n",
       "    <tr>\n",
       "      <th>15</th>\n",
       "      <td>standardize__CHmRun</td>\n",
       "      <td>38.685330</td>\n",
       "    </tr>\n",
       "    <tr>\n",
       "      <th>2</th>\n",
       "      <td>dummify__Division_E</td>\n",
       "      <td>38.023222</td>\n",
       "    </tr>\n",
       "    <tr>\n",
       "      <th>9</th>\n",
       "      <td>standardize__Runs</td>\n",
       "      <td>29.343263</td>\n",
       "    </tr>\n",
       "    <tr>\n",
       "      <th>13</th>\n",
       "      <td>standardize__CAtBat</td>\n",
       "      <td>24.705844</td>\n",
       "    </tr>\n",
       "    <tr>\n",
       "      <th>10</th>\n",
       "      <td>standardize__RBI</td>\n",
       "      <td>22.958015</td>\n",
       "    </tr>\n",
       "    <tr>\n",
       "      <th>1</th>\n",
       "      <td>dummify__League_N</td>\n",
       "      <td>11.051842</td>\n",
       "    </tr>\n",
       "    <tr>\n",
       "      <th>20</th>\n",
       "      <td>standardize__Assists</td>\n",
       "      <td>7.457239</td>\n",
       "    </tr>\n",
       "    <tr>\n",
       "      <th>5</th>\n",
       "      <td>dummify__NewLeague_N</td>\n",
       "      <td>4.091590</td>\n",
       "    </tr>\n",
       "    <tr>\n",
       "      <th>18</th>\n",
       "      <td>standardize__CWalks</td>\n",
       "      <td>4.036371</td>\n",
       "    </tr>\n",
       "    <tr>\n",
       "      <th>6</th>\n",
       "      <td>standardize__AtBat</td>\n",
       "      <td>-0.567370</td>\n",
       "    </tr>\n",
       "    <tr>\n",
       "      <th>8</th>\n",
       "      <td>standardize__HmRun</td>\n",
       "      <td>-1.464159</td>\n",
       "    </tr>\n",
       "    <tr>\n",
       "      <th>12</th>\n",
       "      <td>standardize__Years</td>\n",
       "      <td>-2.708306</td>\n",
       "    </tr>\n",
       "    <tr>\n",
       "      <th>4</th>\n",
       "      <td>dummify__NewLeague_A</td>\n",
       "      <td>-4.091590</td>\n",
       "    </tr>\n",
       "    <tr>\n",
       "      <th>0</th>\n",
       "      <td>dummify__League_A</td>\n",
       "      <td>-11.051842</td>\n",
       "    </tr>\n",
       "    <tr>\n",
       "      <th>21</th>\n",
       "      <td>standardize__Errors</td>\n",
       "      <td>-13.382390</td>\n",
       "    </tr>\n",
       "    <tr>\n",
       "      <th>3</th>\n",
       "      <td>dummify__Division_W</td>\n",
       "      <td>-38.023222</td>\n",
       "    </tr>\n",
       "  </tbody>\n",
       "</table>\n",
       "</div>"
      ],
      "text/plain": [
       "                 Feature  Coefficient\n",
       "19  standardize__PutOuts    56.881522\n",
       "7      standardize__Hits    49.612386\n",
       "17     standardize__CRBI    47.145556\n",
       "16    standardize__CRuns    45.507606\n",
       "14    standardize__CHits    44.534276\n",
       "11    standardize__Walks    41.384617\n",
       "15   standardize__CHmRun    38.685330\n",
       "2    dummify__Division_E    38.023222\n",
       "9      standardize__Runs    29.343263\n",
       "13   standardize__CAtBat    24.705844\n",
       "10      standardize__RBI    22.958015\n",
       "1      dummify__League_N    11.051842\n",
       "20  standardize__Assists     7.457239\n",
       "5   dummify__NewLeague_N     4.091590\n",
       "18   standardize__CWalks     4.036371\n",
       "6     standardize__AtBat    -0.567370\n",
       "8     standardize__HmRun    -1.464159\n",
       "12    standardize__Years    -2.708306\n",
       "4   dummify__NewLeague_A    -4.091590\n",
       "0      dummify__League_A   -11.051842\n",
       "21   standardize__Errors   -13.382390\n",
       "3    dummify__Division_W   -38.023222"
      ]
     },
     "execution_count": null,
     "metadata": {},
     "output_type": "execute_result"
    }
   ],
   "source": [
    "feature_labels = [\n",
    "    'dummify__League_A', 'dummify__League_N', 'dummify__Division_E', 'dummify__Division_W',\n",
    "    'dummify__NewLeague_A', 'dummify__NewLeague_N', 'standardize__AtBat', 'standardize__Hits',\n",
    "    'standardize__HmRun', 'standardize__Runs', 'standardize__RBI', 'standardize__Walks',\n",
    "    'standardize__Years', 'standardize__CAtBat', 'standardize__CHits', 'standardize__CHmRun',\n",
    "    'standardize__CRuns', 'standardize__CRBI', 'standardize__CWalks', 'standardize__PutOuts',\n",
    "    'standardize__Assists', 'standardize__Errors'\n",
    "]\n",
    "\n",
    "rr_coefficients = rr_fit['ridge_regression'].coef_\n",
    "\n",
    "rr_coef_df = pd.DataFrame({\n",
    "    \"Feature\": feature_labels,\n",
    "    \"Coefficient\": rr_coefficients\n",
    "})\n",
    "\n",
    "rr_coef_df = rr_coef_df.sort_values(by=\"Coefficient\", ascending=False)\n",
    "rr_coef_df"
   ]
  },
  {
   "cell_type": "markdown",
   "metadata": {},
   "source": [
    "Most important coefficients are:\n",
    "PutOuts\n",
    "\n",
    "Hits\n",
    "\n",
    "CRBI\n",
    "\n",
    "CRuns\n",
    "\n",
    "Walks\n"
   ]
  },
  {
   "cell_type": "code",
   "execution_count": 74,
   "metadata": {},
   "outputs": [
    {
     "data": {
      "text/plain": [
       "120716.43558937623"
      ]
     },
     "execution_count": null,
     "metadata": {},
     "output_type": "execute_result"
    }
   ],
   "source": [
    "#Step 4\n",
    "rrmse_cv = cross_val_score(rr_fit, X, y, cv=5, scoring=\"neg_mean_squared_error\")\n",
    "-rrmse_cv.mean()"
   ]
  },
  {
   "cell_type": "markdown",
   "metadata": {},
   "source": [
    "## C. Lasso Regression\n",
    "1. Create a pipeline that includes all the columns as predictors for Salary, and performs lasso regression\n",
    "\n",
    "2. Use cross-validation to tune the \n",
    " hyperparameter.\n",
    "\n",
    "3. Fit the pipeline with your chosen \n",
    " to the full dataset, and interpret a few of the most important coefficients.\n",
    "\n",
    "4. Report the MSE you would expect if you used this pipeline to predict 1989 salaries."
   ]
  },
  {
   "cell_type": "code",
   "execution_count": 75,
   "metadata": {},
   "outputs": [],
   "source": [
    "#step 1\n",
    "lasso_pipeline = Pipeline(\n",
    "  [(\"preprocessing\", ct),\n",
    "  (\"lasso_regression\", Lasso())]\n",
    ").set_output(transform = \"pandas\")"
   ]
  },
  {
   "cell_type": "code",
   "execution_count": 78,
   "metadata": {},
   "outputs": [
    {
     "name": "stderr",
     "output_type": "stream",
     "text": [
      "C:\\Users\\owenk\\anaconda3\\Lib\\site-packages\\sklearn\\linear_model\\_coordinate_descent.py:697: ConvergenceWarning: Objective did not converge. You might want to increase the number of iterations, check the scale of the features or consider increasing regularisation. Duality gap: 1.004e+07, tolerance: 4.708e+03\n",
      "  model = cd_fast.enet_coordinate_descent(\n",
      "C:\\Users\\owenk\\anaconda3\\Lib\\site-packages\\sklearn\\linear_model\\_coordinate_descent.py:697: ConvergenceWarning: Objective did not converge. You might want to increase the number of iterations, check the scale of the features or consider increasing regularisation. Duality gap: 8.984e+06, tolerance: 3.606e+03\n",
      "  model = cd_fast.enet_coordinate_descent(\n",
      "C:\\Users\\owenk\\anaconda3\\Lib\\site-packages\\sklearn\\linear_model\\_coordinate_descent.py:697: ConvergenceWarning: Objective did not converge. You might want to increase the number of iterations, check the scale of the features or consider increasing regularisation. Duality gap: 1.012e+07, tolerance: 4.137e+03\n",
      "  model = cd_fast.enet_coordinate_descent(\n",
      "C:\\Users\\owenk\\anaconda3\\Lib\\site-packages\\sklearn\\linear_model\\_coordinate_descent.py:697: ConvergenceWarning: Objective did not converge. You might want to increase the number of iterations, check the scale of the features or consider increasing regularisation. Duality gap: 4.096e+06, tolerance: 4.281e+03\n",
      "  model = cd_fast.enet_coordinate_descent(\n",
      "C:\\Users\\owenk\\anaconda3\\Lib\\site-packages\\sklearn\\linear_model\\_coordinate_descent.py:697: ConvergenceWarning: Objective did not converge. You might want to increase the number of iterations, check the scale of the features or consider increasing regularisation. Duality gap: 9.537e+06, tolerance: 4.558e+03\n",
      "  model = cd_fast.enet_coordinate_descent(\n",
      "C:\\Users\\owenk\\anaconda3\\Lib\\site-packages\\sklearn\\linear_model\\_coordinate_descent.py:697: ConvergenceWarning: Objective did not converge. You might want to increase the number of iterations, check the scale of the features or consider increasing regularisation. Duality gap: 6.594e+06, tolerance: 4.708e+03\n",
      "  model = cd_fast.enet_coordinate_descent(\n",
      "C:\\Users\\owenk\\anaconda3\\Lib\\site-packages\\sklearn\\linear_model\\_coordinate_descent.py:697: ConvergenceWarning: Objective did not converge. You might want to increase the number of iterations, check the scale of the features or consider increasing regularisation. Duality gap: 7.059e+06, tolerance: 3.606e+03\n",
      "  model = cd_fast.enet_coordinate_descent(\n",
      "C:\\Users\\owenk\\anaconda3\\Lib\\site-packages\\sklearn\\linear_model\\_coordinate_descent.py:697: ConvergenceWarning: Objective did not converge. You might want to increase the number of iterations, check the scale of the features or consider increasing regularisation. Duality gap: 8.591e+06, tolerance: 4.137e+03\n",
      "  model = cd_fast.enet_coordinate_descent(\n"
     ]
    },
    {
     "name": "stderr",
     "output_type": "stream",
     "text": [
      "C:\\Users\\owenk\\anaconda3\\Lib\\site-packages\\sklearn\\linear_model\\_coordinate_descent.py:697: ConvergenceWarning: Objective did not converge. You might want to increase the number of iterations, check the scale of the features or consider increasing regularisation. Duality gap: 4.471e+05, tolerance: 4.281e+03\n",
      "  model = cd_fast.enet_coordinate_descent(\n",
      "C:\\Users\\owenk\\anaconda3\\Lib\\site-packages\\sklearn\\linear_model\\_coordinate_descent.py:697: ConvergenceWarning: Objective did not converge. You might want to increase the number of iterations, check the scale of the features or consider increasing regularisation. Duality gap: 8.066e+06, tolerance: 4.558e+03\n",
      "  model = cd_fast.enet_coordinate_descent(\n",
      "C:\\Users\\owenk\\anaconda3\\Lib\\site-packages\\sklearn\\linear_model\\_coordinate_descent.py:697: ConvergenceWarning: Objective did not converge. You might want to increase the number of iterations, check the scale of the features or consider increasing regularisation. Duality gap: 4.923e+04, tolerance: 4.708e+03\n",
      "  model = cd_fast.enet_coordinate_descent(\n",
      "C:\\Users\\owenk\\anaconda3\\Lib\\site-packages\\sklearn\\linear_model\\_coordinate_descent.py:697: ConvergenceWarning: Objective did not converge. You might want to increase the number of iterations, check the scale of the features or consider increasing regularisation. Duality gap: 2.726e+05, tolerance: 3.606e+03\n",
      "  model = cd_fast.enet_coordinate_descent(\n",
      "C:\\Users\\owenk\\anaconda3\\Lib\\site-packages\\sklearn\\linear_model\\_coordinate_descent.py:697: ConvergenceWarning: Objective did not converge. You might want to increase the number of iterations, check the scale of the features or consider increasing regularisation. Duality gap: 2.158e+05, tolerance: 4.137e+03\n",
      "  model = cd_fast.enet_coordinate_descent(\n",
      "C:\\Users\\owenk\\anaconda3\\Lib\\site-packages\\sklearn\\linear_model\\_coordinate_descent.py:697: ConvergenceWarning: Objective did not converge. You might want to increase the number of iterations, check the scale of the features or consider increasing regularisation. Duality gap: 2.929e+04, tolerance: 4.281e+03\n",
      "  model = cd_fast.enet_coordinate_descent(\n",
      "C:\\Users\\owenk\\anaconda3\\Lib\\site-packages\\sklearn\\linear_model\\_coordinate_descent.py:697: ConvergenceWarning: Objective did not converge. You might want to increase the number of iterations, check the scale of the features or consider increasing regularisation. Duality gap: 4.282e+05, tolerance: 4.558e+03\n",
      "  model = cd_fast.enet_coordinate_descent(\n"
     ]
    },
    {
     "name": "stderr",
     "output_type": "stream",
     "text": [
      "C:\\Users\\owenk\\anaconda3\\Lib\\site-packages\\sklearn\\linear_model\\_coordinate_descent.py:697: ConvergenceWarning: Objective did not converge. You might want to increase the number of iterations, check the scale of the features or consider increasing regularisation. Duality gap: 4.815e+03, tolerance: 4.281e+03\n",
      "  model = cd_fast.enet_coordinate_descent(\n"
     ]
    },
    {
     "name": "stdout",
     "output_type": "stream",
     "text": [
      "best_params {'lasso_regression__alpha': 10}\n",
      "best_params {'lasso_regression__alpha': 10}\n"
     ]
    }
   ],
   "source": [
    "#Step 2 \n",
    "param_grid1 = {\n",
    "    \"lasso_regression__alpha\": [0.001, 0.01, 0.1, 1, 10, 50, 100, 500, 1000]\n",
    "}\n",
    "grid_search1 = GridSearchCV(lasso_pipeline, param_grid1, cv=5, scoring='r2')\n",
    "grid_search1.fit(X, y)\n",
    "print(\"best_params\", grid_search1.best_params_)"
   ]
  },
  {
   "cell_type": "code",
   "execution_count": 79,
   "metadata": {},
   "outputs": [
    {
     "data": {
      "text/plain": [
       "array([-0.00000000e+00,  0.00000000e+00,  9.54132032e+01, -3.29335366e-12,\n",
       "       -0.00000000e+00,  0.00000000e+00, -0.00000000e+00,  8.87416269e+01,\n",
       "        0.00000000e+00,  0.00000000e+00,  0.00000000e+00,  4.99028129e+01,\n",
       "       -0.00000000e+00,  0.00000000e+00,  0.00000000e+00,  0.00000000e+00,\n",
       "        7.22275293e+01,  1.34032027e+02, -0.00000000e+00,  6.67370055e+01,\n",
       "        0.00000000e+00, -4.15828061e+00])"
      ]
     },
     "execution_count": null,
     "metadata": {},
     "output_type": "execute_result"
    }
   ],
   "source": [
    "#Step 3 \n",
    "lasso_pipeline.set_params(lasso_regression__alpha = 10)\n",
    "lasso_fit = lasso_pipeline.fit(X, y)\n",
    "lasso_fit['lasso_regression'].coef_\n"
   ]
  },
  {
   "cell_type": "code",
   "execution_count": 80,
   "metadata": {},
   "outputs": [
    {
     "data": {
      "text/html": [
       "<div>\n",
       "<style scoped>\n",
       "    .dataframe tbody tr th:only-of-type {\n",
       "        vertical-align: middle;\n",
       "    }\n",
       "\n",
       "    .dataframe tbody tr th {\n",
       "        vertical-align: top;\n",
       "    }\n",
       "\n",
       "    .dataframe thead th {\n",
       "        text-align: right;\n",
       "    }\n",
       "</style>\n",
       "<table border=\"1\" class=\"dataframe\">\n",
       "  <thead>\n",
       "    <tr style=\"text-align: right;\">\n",
       "      <th></th>\n",
       "      <th>Feature</th>\n",
       "      <th>Coefficient</th>\n",
       "    </tr>\n",
       "  </thead>\n",
       "  <tbody>\n",
       "    <tr>\n",
       "      <th>17</th>\n",
       "      <td>standardize__CRBI</td>\n",
       "      <td>1.340320e+02</td>\n",
       "    </tr>\n",
       "    <tr>\n",
       "      <th>2</th>\n",
       "      <td>dummify__Division_E</td>\n",
       "      <td>9.541320e+01</td>\n",
       "    </tr>\n",
       "    <tr>\n",
       "      <th>7</th>\n",
       "      <td>standardize__Hits</td>\n",
       "      <td>8.874163e+01</td>\n",
       "    </tr>\n",
       "    <tr>\n",
       "      <th>16</th>\n",
       "      <td>standardize__CRuns</td>\n",
       "      <td>7.222753e+01</td>\n",
       "    </tr>\n",
       "    <tr>\n",
       "      <th>19</th>\n",
       "      <td>standardize__PutOuts</td>\n",
       "      <td>6.673701e+01</td>\n",
       "    </tr>\n",
       "    <tr>\n",
       "      <th>11</th>\n",
       "      <td>standardize__Walks</td>\n",
       "      <td>4.990281e+01</td>\n",
       "    </tr>\n",
       "    <tr>\n",
       "      <th>12</th>\n",
       "      <td>standardize__Years</td>\n",
       "      <td>-0.000000e+00</td>\n",
       "    </tr>\n",
       "    <tr>\n",
       "      <th>20</th>\n",
       "      <td>standardize__Assists</td>\n",
       "      <td>0.000000e+00</td>\n",
       "    </tr>\n",
       "    <tr>\n",
       "      <th>18</th>\n",
       "      <td>standardize__CWalks</td>\n",
       "      <td>-0.000000e+00</td>\n",
       "    </tr>\n",
       "    <tr>\n",
       "      <th>15</th>\n",
       "      <td>standardize__CHmRun</td>\n",
       "      <td>0.000000e+00</td>\n",
       "    </tr>\n",
       "    <tr>\n",
       "      <th>14</th>\n",
       "      <td>standardize__CHits</td>\n",
       "      <td>0.000000e+00</td>\n",
       "    </tr>\n",
       "    <tr>\n",
       "      <th>13</th>\n",
       "      <td>standardize__CAtBat</td>\n",
       "      <td>0.000000e+00</td>\n",
       "    </tr>\n",
       "    <tr>\n",
       "      <th>0</th>\n",
       "      <td>dummify__League_A</td>\n",
       "      <td>-0.000000e+00</td>\n",
       "    </tr>\n",
       "    <tr>\n",
       "      <th>1</th>\n",
       "      <td>dummify__League_N</td>\n",
       "      <td>0.000000e+00</td>\n",
       "    </tr>\n",
       "    <tr>\n",
       "      <th>10</th>\n",
       "      <td>standardize__RBI</td>\n",
       "      <td>0.000000e+00</td>\n",
       "    </tr>\n",
       "    <tr>\n",
       "      <th>9</th>\n",
       "      <td>standardize__Runs</td>\n",
       "      <td>0.000000e+00</td>\n",
       "    </tr>\n",
       "    <tr>\n",
       "      <th>8</th>\n",
       "      <td>standardize__HmRun</td>\n",
       "      <td>0.000000e+00</td>\n",
       "    </tr>\n",
       "    <tr>\n",
       "      <th>6</th>\n",
       "      <td>standardize__AtBat</td>\n",
       "      <td>-0.000000e+00</td>\n",
       "    </tr>\n",
       "    <tr>\n",
       "      <th>5</th>\n",
       "      <td>dummify__NewLeague_N</td>\n",
       "      <td>0.000000e+00</td>\n",
       "    </tr>\n",
       "    <tr>\n",
       "      <th>4</th>\n",
       "      <td>dummify__NewLeague_A</td>\n",
       "      <td>-0.000000e+00</td>\n",
       "    </tr>\n",
       "    <tr>\n",
       "      <th>3</th>\n",
       "      <td>dummify__Division_W</td>\n",
       "      <td>-3.293354e-12</td>\n",
       "    </tr>\n",
       "    <tr>\n",
       "      <th>21</th>\n",
       "      <td>standardize__Errors</td>\n",
       "      <td>-4.158281e+00</td>\n",
       "    </tr>\n",
       "  </tbody>\n",
       "</table>\n",
       "</div>"
      ],
      "text/plain": [
       "                 Feature   Coefficient\n",
       "17     standardize__CRBI  1.340320e+02\n",
       "2    dummify__Division_E  9.541320e+01\n",
       "7      standardize__Hits  8.874163e+01\n",
       "16    standardize__CRuns  7.222753e+01\n",
       "19  standardize__PutOuts  6.673701e+01\n",
       "11    standardize__Walks  4.990281e+01\n",
       "12    standardize__Years -0.000000e+00\n",
       "20  standardize__Assists  0.000000e+00\n",
       "18   standardize__CWalks -0.000000e+00\n",
       "15   standardize__CHmRun  0.000000e+00\n",
       "14    standardize__CHits  0.000000e+00\n",
       "13   standardize__CAtBat  0.000000e+00\n",
       "0      dummify__League_A -0.000000e+00\n",
       "1      dummify__League_N  0.000000e+00\n",
       "10      standardize__RBI  0.000000e+00\n",
       "9      standardize__Runs  0.000000e+00\n",
       "8     standardize__HmRun  0.000000e+00\n",
       "6     standardize__AtBat -0.000000e+00\n",
       "5   dummify__NewLeague_N  0.000000e+00\n",
       "4   dummify__NewLeague_A -0.000000e+00\n",
       "3    dummify__Division_W -3.293354e-12\n",
       "21   standardize__Errors -4.158281e+00"
      ]
     },
     "execution_count": null,
     "metadata": {},
     "output_type": "execute_result"
    }
   ],
   "source": [
    "lasso_coefficients = lasso_fit['lasso_regression'].coef_\n",
    "lasso_coef_df = pd.DataFrame({\n",
    "    \"Feature\": feature_labels,\n",
    "    \"Coefficient\": lasso_coefficients\n",
    "})\n",
    "\n",
    "lasso_coef_df = lasso_coef_df.sort_values(by=\"Coefficient\", ascending=False)\n",
    "lasso_coef_df"
   ]
  },
  {
   "cell_type": "markdown",
   "metadata": {},
   "source": [
    "Most important lasso coeffiecients: \n",
    "\n",
    "Division W\n",
    "\n",
    "CRBI \n",
    "\n",
    "Division E \n",
    "\n",
    "Hits\n",
    "\n",
    "CRuns"
   ]
  },
  {
   "cell_type": "code",
   "execution_count": 81,
   "metadata": {},
   "outputs": [
    {
     "data": {
      "text/plain": [
       "121828.14133338635"
      ]
     },
     "execution_count": null,
     "metadata": {},
     "output_type": "execute_result"
    }
   ],
   "source": [
    "#Step 4 \n",
    "lassomse_cv = cross_val_score(lasso_fit, X, y, cv=5, scoring=\"neg_mean_squared_error\")\n",
    "-lassomse_cv.mean()"
   ]
  },
  {
   "cell_type": "markdown",
   "metadata": {},
   "source": [
    "## D. Elastic Net\n",
    "1. Create a pipeline that includes all the columns as predictors for Salary, and performs ordinary ridge regression\n",
    "\n",
    "2. Use cross-validation to tune the lambda and alpha hyperparameters.\n",
    "\n",
    "3. Fit the pipeline with your chosen hyperparameters to the full dataset, and interpret a few of the most important coefficients.\n",
    "\n",
    "4. Report the MSE you would expect if you used this pipeline to predict 1989 salaries."
   ]
  },
  {
   "cell_type": "code",
   "execution_count": 92,
   "metadata": {},
   "outputs": [],
   "source": [
    "#Step 1\n",
    "elastic_net_pipeline = Pipeline(\n",
    "  [(\"preprocessing\", ct),\n",
    "  (\"elastic_net\", ElasticNet())]\n",
    ").set_output(transform = \"pandas\")"
   ]
  },
  {
   "cell_type": "code",
   "execution_count": 100,
   "metadata": {},
   "outputs": [
    {
     "name": "stderr",
     "output_type": "stream",
     "text": [
      "C:\\Users\\owenk\\anaconda3\\Lib\\site-packages\\sklearn\\linear_model\\_coordinate_descent.py:697: ConvergenceWarning: Objective did not converge. You might want to increase the number of iterations, check the scale of the features or consider increasing regularisation. Duality gap: 1.025e+07, tolerance: 4.708e+03\n",
      "  model = cd_fast.enet_coordinate_descent(\n",
      "C:\\Users\\owenk\\anaconda3\\Lib\\site-packages\\sklearn\\linear_model\\_coordinate_descent.py:697: ConvergenceWarning: Objective did not converge. You might want to increase the number of iterations, check the scale of the features or consider increasing regularisation. Duality gap: 9.075e+06, tolerance: 3.606e+03\n",
      "  model = cd_fast.enet_coordinate_descent(\n",
      "C:\\Users\\owenk\\anaconda3\\Lib\\site-packages\\sklearn\\linear_model\\_coordinate_descent.py:697: ConvergenceWarning: Objective did not converge. You might want to increase the number of iterations, check the scale of the features or consider increasing regularisation. Duality gap: 1.025e+07, tolerance: 4.137e+03\n",
      "  model = cd_fast.enet_coordinate_descent(\n",
      "C:\\Users\\owenk\\anaconda3\\Lib\\site-packages\\sklearn\\linear_model\\_coordinate_descent.py:697: ConvergenceWarning: Objective did not converge. You might want to increase the number of iterations, check the scale of the features or consider increasing regularisation. Duality gap: 7.278e+06, tolerance: 4.281e+03\n",
      "  model = cd_fast.enet_coordinate_descent(\n",
      "C:\\Users\\owenk\\anaconda3\\Lib\\site-packages\\sklearn\\linear_model\\_coordinate_descent.py:697: ConvergenceWarning: Objective did not converge. You might want to increase the number of iterations, check the scale of the features or consider increasing regularisation. Duality gap: 9.657e+06, tolerance: 4.558e+03\n",
      "  model = cd_fast.enet_coordinate_descent(\n",
      "C:\\Users\\owenk\\anaconda3\\Lib\\site-packages\\sklearn\\linear_model\\_coordinate_descent.py:697: ConvergenceWarning: Objective did not converge. You might want to increase the number of iterations, check the scale of the features or consider increasing regularisation. Duality gap: 1.012e+07, tolerance: 4.708e+03\n",
      "  model = cd_fast.enet_coordinate_descent(\n",
      "C:\\Users\\owenk\\anaconda3\\Lib\\site-packages\\sklearn\\linear_model\\_coordinate_descent.py:697: ConvergenceWarning: Objective did not converge. You might want to increase the number of iterations, check the scale of the features or consider increasing regularisation. Duality gap: 8.995e+06, tolerance: 3.606e+03\n",
      "  model = cd_fast.enet_coordinate_descent(\n"
     ]
    },
    {
     "name": "stderr",
     "output_type": "stream",
     "text": [
      "C:\\Users\\owenk\\anaconda3\\Lib\\site-packages\\sklearn\\linear_model\\_coordinate_descent.py:697: ConvergenceWarning: Objective did not converge. You might want to increase the number of iterations, check the scale of the features or consider increasing regularisation. Duality gap: 1.018e+07, tolerance: 4.137e+03\n",
      "  model = cd_fast.enet_coordinate_descent(\n",
      "C:\\Users\\owenk\\anaconda3\\Lib\\site-packages\\sklearn\\linear_model\\_coordinate_descent.py:697: ConvergenceWarning: Objective did not converge. You might want to increase the number of iterations, check the scale of the features or consider increasing regularisation. Duality gap: 7.060e+06, tolerance: 4.281e+03\n",
      "  model = cd_fast.enet_coordinate_descent(\n",
      "C:\\Users\\owenk\\anaconda3\\Lib\\site-packages\\sklearn\\linear_model\\_coordinate_descent.py:697: ConvergenceWarning: Objective did not converge. You might want to increase the number of iterations, check the scale of the features or consider increasing regularisation. Duality gap: 9.579e+06, tolerance: 4.558e+03\n",
      "  model = cd_fast.enet_coordinate_descent(\n",
      "C:\\Users\\owenk\\anaconda3\\Lib\\site-packages\\sklearn\\linear_model\\_coordinate_descent.py:697: ConvergenceWarning: Objective did not converge. You might want to increase the number of iterations, check the scale of the features or consider increasing regularisation. Duality gap: 1.007e+07, tolerance: 4.708e+03\n",
      "  model = cd_fast.enet_coordinate_descent(\n"
     ]
    },
    {
     "name": "stderr",
     "output_type": "stream",
     "text": [
      "C:\\Users\\owenk\\anaconda3\\Lib\\site-packages\\sklearn\\linear_model\\_coordinate_descent.py:697: ConvergenceWarning: Objective did not converge. You might want to increase the number of iterations, check the scale of the features or consider increasing regularisation. Duality gap: 8.981e+06, tolerance: 3.606e+03\n",
      "  model = cd_fast.enet_coordinate_descent(\n",
      "C:\\Users\\owenk\\anaconda3\\Lib\\site-packages\\sklearn\\linear_model\\_coordinate_descent.py:697: ConvergenceWarning: Objective did not converge. You might want to increase the number of iterations, check the scale of the features or consider increasing regularisation. Duality gap: 1.014e+07, tolerance: 4.137e+03\n",
      "  model = cd_fast.enet_coordinate_descent(\n",
      "C:\\Users\\owenk\\anaconda3\\Lib\\site-packages\\sklearn\\linear_model\\_coordinate_descent.py:697: ConvergenceWarning: Objective did not converge. You might want to increase the number of iterations, check the scale of the features or consider increasing regularisation. Duality gap: 6.525e+06, tolerance: 4.281e+03\n",
      "  model = cd_fast.enet_coordinate_descent(\n",
      "C:\\Users\\owenk\\anaconda3\\Lib\\site-packages\\sklearn\\linear_model\\_coordinate_descent.py:697: ConvergenceWarning: Objective did not converge. You might want to increase the number of iterations, check the scale of the features or consider increasing regularisation. Duality gap: 9.550e+06, tolerance: 4.558e+03\n",
      "  model = cd_fast.enet_coordinate_descent(\n"
     ]
    },
    {
     "name": "stderr",
     "output_type": "stream",
     "text": [
      "C:\\Users\\owenk\\anaconda3\\Lib\\site-packages\\sklearn\\linear_model\\_coordinate_descent.py:697: ConvergenceWarning: Objective did not converge. You might want to increase the number of iterations, check the scale of the features or consider increasing regularisation. Duality gap: 3.133e+05, tolerance: 4.708e+03\n",
      "  model = cd_fast.enet_coordinate_descent(\n",
      "C:\\Users\\owenk\\anaconda3\\Lib\\site-packages\\sklearn\\linear_model\\_coordinate_descent.py:697: ConvergenceWarning: Objective did not converge. You might want to increase the number of iterations, check the scale of the features or consider increasing regularisation. Duality gap: 5.634e+04, tolerance: 3.606e+03\n",
      "  model = cd_fast.enet_coordinate_descent(\n",
      "C:\\Users\\owenk\\anaconda3\\Lib\\site-packages\\sklearn\\linear_model\\_coordinate_descent.py:697: ConvergenceWarning: Objective did not converge. You might want to increase the number of iterations, check the scale of the features or consider increasing regularisation. Duality gap: 9.792e+05, tolerance: 4.137e+03\n",
      "  model = cd_fast.enet_coordinate_descent(\n",
      "C:\\Users\\owenk\\anaconda3\\Lib\\site-packages\\sklearn\\linear_model\\_coordinate_descent.py:697: ConvergenceWarning: Objective did not converge. You might want to increase the number of iterations, check the scale of the features or consider increasing regularisation. Duality gap: 3.632e+04, tolerance: 4.281e+03\n",
      "  model = cd_fast.enet_coordinate_descent(\n",
      "C:\\Users\\owenk\\anaconda3\\Lib\\site-packages\\sklearn\\linear_model\\_coordinate_descent.py:697: ConvergenceWarning: Objective did not converge. You might want to increase the number of iterations, check the scale of the features or consider increasing regularisation. Duality gap: 4.947e+04, tolerance: 4.558e+03\n",
      "  model = cd_fast.enet_coordinate_descent(\n"
     ]
    },
    {
     "name": "stdout",
     "output_type": "stream",
     "text": [
      "best_params {'elastic_net__alpha': 1, 'elastic_net__l1_ratio': 0.2}\n",
      "best_params {'elastic_net__alpha': 1, 'elastic_net__l1_ratio': 0.2}\n"
     ]
    }
   ],
   "source": [
    "#Step 2\n",
    "param_grid3 = {\n",
    "    \"elastic_net__alpha\": [0.001, 0.01, 0.1, 1, 10, 50, 100, 500, 1000],\n",
    "    \"elastic_net__l1_ratio\": [.2, .5, .8]\n",
    "}\n",
    "grid_search3 = GridSearchCV(elastic_net_pipeline, param_grid3, cv=5, scoring='r2')\n",
    "grid_search3.fit(X, y)\n",
    "print(\"best_params\", grid_search3.best_params_)"
   ]
  },
  {
   "cell_type": "code",
   "execution_count": 106,
   "metadata": {},
   "outputs": [
    {
     "data": {
      "text/plain": [
       "array([ -7.24856851,   7.24859489,  26.10398424, -26.10397086,  -4.11652343,\n",
       "         4.11654601,  12.17941865,  37.45066774,   5.60999921,  27.01102791,\n",
       "        22.98319164,  34.56856302,   7.63421154,  25.86740349,  36.12482194,\n",
       "        32.31244032,  36.94311439,  37.88046512,  15.35577323,  44.83514184,\n",
       "         3.83655838,  -8.0361849 ])"
      ]
     },
     "execution_count": null,
     "metadata": {},
     "output_type": "execute_result"
    }
   ],
   "source": [
    "#Step 3\n",
    "elastic_net_pipeline.set_params(elastic_net__alpha=1, elastic_net__l1_ratio=0.2)\n",
    "en_fit = elastic_net_pipeline.fit(X, y)\n",
    "en_fit['elastic_net'].coef_"
   ]
  },
  {
   "cell_type": "code",
   "execution_count": 107,
   "metadata": {},
   "outputs": [
    {
     "data": {
      "text/html": [
       "<div>\n",
       "<style scoped>\n",
       "    .dataframe tbody tr th:only-of-type {\n",
       "        vertical-align: middle;\n",
       "    }\n",
       "\n",
       "    .dataframe tbody tr th {\n",
       "        vertical-align: top;\n",
       "    }\n",
       "\n",
       "    .dataframe thead th {\n",
       "        text-align: right;\n",
       "    }\n",
       "</style>\n",
       "<table border=\"1\" class=\"dataframe\">\n",
       "  <thead>\n",
       "    <tr style=\"text-align: right;\">\n",
       "      <th></th>\n",
       "      <th>Feature</th>\n",
       "      <th>Coefficient</th>\n",
       "    </tr>\n",
       "  </thead>\n",
       "  <tbody>\n",
       "    <tr>\n",
       "      <th>19</th>\n",
       "      <td>standardize__PutOuts</td>\n",
       "      <td>44.835142</td>\n",
       "    </tr>\n",
       "    <tr>\n",
       "      <th>17</th>\n",
       "      <td>standardize__CRBI</td>\n",
       "      <td>37.880465</td>\n",
       "    </tr>\n",
       "    <tr>\n",
       "      <th>7</th>\n",
       "      <td>standardize__Hits</td>\n",
       "      <td>37.450668</td>\n",
       "    </tr>\n",
       "    <tr>\n",
       "      <th>16</th>\n",
       "      <td>standardize__CRuns</td>\n",
       "      <td>36.943114</td>\n",
       "    </tr>\n",
       "    <tr>\n",
       "      <th>14</th>\n",
       "      <td>standardize__CHits</td>\n",
       "      <td>36.124822</td>\n",
       "    </tr>\n",
       "    <tr>\n",
       "      <th>11</th>\n",
       "      <td>standardize__Walks</td>\n",
       "      <td>34.568563</td>\n",
       "    </tr>\n",
       "    <tr>\n",
       "      <th>15</th>\n",
       "      <td>standardize__CHmRun</td>\n",
       "      <td>32.312440</td>\n",
       "    </tr>\n",
       "    <tr>\n",
       "      <th>9</th>\n",
       "      <td>standardize__Runs</td>\n",
       "      <td>27.011028</td>\n",
       "    </tr>\n",
       "    <tr>\n",
       "      <th>2</th>\n",
       "      <td>dummify__Division_E</td>\n",
       "      <td>26.103984</td>\n",
       "    </tr>\n",
       "    <tr>\n",
       "      <th>13</th>\n",
       "      <td>standardize__CAtBat</td>\n",
       "      <td>25.867403</td>\n",
       "    </tr>\n",
       "    <tr>\n",
       "      <th>10</th>\n",
       "      <td>standardize__RBI</td>\n",
       "      <td>22.983192</td>\n",
       "    </tr>\n",
       "    <tr>\n",
       "      <th>18</th>\n",
       "      <td>standardize__CWalks</td>\n",
       "      <td>15.355773</td>\n",
       "    </tr>\n",
       "    <tr>\n",
       "      <th>6</th>\n",
       "      <td>standardize__AtBat</td>\n",
       "      <td>12.179419</td>\n",
       "    </tr>\n",
       "    <tr>\n",
       "      <th>12</th>\n",
       "      <td>standardize__Years</td>\n",
       "      <td>7.634212</td>\n",
       "    </tr>\n",
       "    <tr>\n",
       "      <th>1</th>\n",
       "      <td>dummify__League_N</td>\n",
       "      <td>7.248595</td>\n",
       "    </tr>\n",
       "    <tr>\n",
       "      <th>8</th>\n",
       "      <td>standardize__HmRun</td>\n",
       "      <td>5.609999</td>\n",
       "    </tr>\n",
       "    <tr>\n",
       "      <th>5</th>\n",
       "      <td>dummify__NewLeague_N</td>\n",
       "      <td>4.116546</td>\n",
       "    </tr>\n",
       "    <tr>\n",
       "      <th>20</th>\n",
       "      <td>standardize__Assists</td>\n",
       "      <td>3.836558</td>\n",
       "    </tr>\n",
       "    <tr>\n",
       "      <th>4</th>\n",
       "      <td>dummify__NewLeague_A</td>\n",
       "      <td>-4.116523</td>\n",
       "    </tr>\n",
       "    <tr>\n",
       "      <th>0</th>\n",
       "      <td>dummify__League_A</td>\n",
       "      <td>-7.248569</td>\n",
       "    </tr>\n",
       "    <tr>\n",
       "      <th>21</th>\n",
       "      <td>standardize__Errors</td>\n",
       "      <td>-8.036185</td>\n",
       "    </tr>\n",
       "    <tr>\n",
       "      <th>3</th>\n",
       "      <td>dummify__Division_W</td>\n",
       "      <td>-26.103971</td>\n",
       "    </tr>\n",
       "  </tbody>\n",
       "</table>\n",
       "</div>"
      ],
      "text/plain": [
       "                 Feature  Coefficient\n",
       "19  standardize__PutOuts    44.835142\n",
       "17     standardize__CRBI    37.880465\n",
       "7      standardize__Hits    37.450668\n",
       "16    standardize__CRuns    36.943114\n",
       "14    standardize__CHits    36.124822\n",
       "11    standardize__Walks    34.568563\n",
       "15   standardize__CHmRun    32.312440\n",
       "9      standardize__Runs    27.011028\n",
       "2    dummify__Division_E    26.103984\n",
       "13   standardize__CAtBat    25.867403\n",
       "10      standardize__RBI    22.983192\n",
       "18   standardize__CWalks    15.355773\n",
       "6     standardize__AtBat    12.179419\n",
       "12    standardize__Years     7.634212\n",
       "1      dummify__League_N     7.248595\n",
       "8     standardize__HmRun     5.609999\n",
       "5   dummify__NewLeague_N     4.116546\n",
       "20  standardize__Assists     3.836558\n",
       "4   dummify__NewLeague_A    -4.116523\n",
       "0      dummify__League_A    -7.248569\n",
       "21   standardize__Errors    -8.036185\n",
       "3    dummify__Division_W   -26.103971"
      ]
     },
     "execution_count": null,
     "metadata": {},
     "output_type": "execute_result"
    }
   ],
   "source": [
    "en_coefficients = en_fit['elastic_net'].coef_\n",
    "\n",
    "en_coef_df = pd.DataFrame({\n",
    "    \"Feature\": feature_labels,\n",
    "    \"Coefficient\": en_coefficients\n",
    "})\n",
    "\n",
    "en_coef_df = en_coef_df.sort_values(by=\"Coefficient\", ascending=False)\n",
    "en_coef_df"
   ]
  },
  {
   "cell_type": "markdown",
   "metadata": {},
   "source": [
    "Elastic Net most Important variables: \n",
    "\n",
    "PutOuts\n",
    "\n",
    "Hits\n",
    "\n",
    "CRBI\n",
    "\n",
    "CRuns\n",
    "\n",
    "CHits"
   ]
  },
  {
   "cell_type": "code",
   "execution_count": 108,
   "metadata": {},
   "outputs": [
    {
     "data": {
      "text/plain": [
       "121500.81646251371"
      ]
     },
     "execution_count": null,
     "metadata": {},
     "output_type": "execute_result"
    }
   ],
   "source": [
    "#Step 4\n",
    "enmse_cv = cross_val_score(en_fit, X, y, cv=5, scoring=\"neg_mean_squared_error\")\n",
    "-enmse_cv.mean()"
   ]
  },
  {
   "cell_type": "markdown",
   "metadata": {},
   "source": [
    "## Part II. Variable Selection\n",
    "Based on the above results, decide on:\n",
    "\n",
    "Which numeric variable is most important.\n",
    "\n",
    "Which five numeric variables are most important\n",
    "\n",
    "Which categorical variable is most important\n",
    "\n",
    "For each of the four model specifications, compare the following possible feature sets:\n",
    "\n",
    "1. Using only the one best numeric variable.\n",
    "\n",
    "2. Using only the five best variables.\n",
    "\n",
    "3. Using the five best numeric variables and their interactions with the one best categorical variable.\n",
    "\n",
    "Report which combination of features and model performed best, based on the validation metric of MSE.\n",
    "\n",
    "(Note: lambda and alpha must be re-tuned for each feature set.)"
   ]
  },
  {
   "cell_type": "markdown",
   "metadata": {},
   "source": [
    "The common most important variable from the above models is CRuns, based on model validity and magnitude.\n",
    "\n",
    "5 most important numeric variables:\n",
    "\n",
    "CRuns\n",
    "\n",
    "Hits\n",
    "\n",
    "CRBI\n",
    "\n",
    "CHits\n",
    "\n",
    "Walks\n",
    "\n",
    "Most important categorical variable is Division (E vs W)"
   ]
  },
  {
   "cell_type": "markdown",
   "metadata": {},
   "source": [
    "#### 1 numerical variable \n"
   ]
  },
  {
   "cell_type": "code",
   "execution_count": 117,
   "metadata": {},
   "outputs": [],
   "source": [
    "#step 1 \n",
    "X1 = data_clean[[\"CRuns\"]]\n",
    "y1 = data_clean[\"Salary\"]\n"
   ]
  },
  {
   "cell_type": "code",
   "execution_count": 120,
   "metadata": {},
   "outputs": [
    {
     "data": {
      "text/plain": [
       "143812.93591629737"
      ]
     },
     "execution_count": null,
     "metadata": {},
     "output_type": "execute_result"
    }
   ],
   "source": [
    "#Linear Regression\n",
    "\n",
    "lr_fit2 = lr_pipeline.fit(X1, y1)\n",
    "lr_fit2['linear_regression'].coef_\n",
    "lr2mse_cv = cross_val_score(lr_pipeline, X1, y1, cv=5, scoring=\"neg_mean_squared_error\")\n",
    "-lr2mse_cv.mean()"
   ]
  },
  {
   "cell_type": "code",
   "execution_count": 121,
   "metadata": {},
   "outputs": [
    {
     "name": "stdout",
     "output_type": "stream",
     "text": [
      "best_params {'ridge_regression__alpha': 10}\n",
      "best_params {'ridge_regression__alpha': 10}\n"
     ]
    }
   ],
   "source": [
    "# Ridge Regression \n",
    "\n",
    "rr_grid_search2 = GridSearchCV(rr_pipeline, param_grid, cv=5, scoring='r2')\n",
    "\n",
    "rr_grid_search2.fit(X1, y1)\n",
    "print(\"best_params\", rr_grid_search2.best_params_)"
   ]
  },
  {
   "cell_type": "code",
   "execution_count": 125,
   "metadata": {},
   "outputs": [
    {
     "data": {
      "text/plain": [
       "143658.5173685888"
      ]
     },
     "execution_count": null,
     "metadata": {},
     "output_type": "execute_result"
    }
   ],
   "source": [
    "rr_pipeline.set_params(ridge_regression__alpha = 10)\n",
    "rr_fit2 = rr_pipeline.fit(X1, y1)\n",
    "rr_fit2['ridge_regression'].coef_\n",
    "rrmse_cv2 = cross_val_score(rr_fit2, X1, y1, cv=5, scoring=\"neg_mean_squared_error\")\n",
    "-rrmse_cv2.mean()"
   ]
  },
  {
   "cell_type": "code",
   "execution_count": 124,
   "metadata": {},
   "outputs": [
    {
     "name": "stdout",
     "output_type": "stream",
     "text": [
      "best_params {'lasso_regression__alpha': 10}\n",
      "best_params {'lasso_regression__alpha': 10}\n"
     ]
    }
   ],
   "source": [
    "#Lasso Regression \n",
    "\n",
    "lasso_grid_search2 = GridSearchCV(lasso_pipeline, param_grid1, cv=5, scoring='r2')\n",
    "lasso_grid_search2.fit(X1, y1)\n",
    "print(\"best_params\", lasso_grid_search2.best_params_)\n"
   ]
  },
  {
   "cell_type": "code",
   "execution_count": 126,
   "metadata": {},
   "outputs": [
    {
     "data": {
      "text/plain": [
       "143793.4491585397"
      ]
     },
     "execution_count": null,
     "metadata": {},
     "output_type": "execute_result"
    }
   ],
   "source": [
    "lasso_pipeline.set_params(lasso_regression__alpha = 10)\n",
    "lasso_fit2 = lasso_pipeline.fit(X1, y1)\n",
    "lasso_fit2['lasso_regression'].coef_\n",
    "lassomse_cv2 = cross_val_score(lasso_fit2, X1, y1, cv=5, scoring=\"neg_mean_squared_error\")\n",
    "-lassomse_cv2.mean()"
   ]
  },
  {
   "cell_type": "code",
   "execution_count": 127,
   "metadata": {},
   "outputs": [
    {
     "name": "stdout",
     "output_type": "stream",
     "text": [
      "best_params {'elastic_net__alpha': 0.1, 'elastic_net__l1_ratio': 0.5}\n",
      "best_params {'elastic_net__alpha': 0.1, 'elastic_net__l1_ratio': 0.5}\n"
     ]
    }
   ],
   "source": [
    "#Elastic Net \n",
    "en_grid_search2 = GridSearchCV(elastic_net_pipeline, param_grid3, cv=5, scoring='r2')\n",
    "en_grid_search2.fit(X1, y1)\n",
    "print(\"best_params\", en_grid_search2.best_params_)"
   ]
  },
  {
   "cell_type": "code",
   "execution_count": 129,
   "metadata": {},
   "outputs": [
    {
     "data": {
      "text/plain": [
       "143655.07604766646"
      ]
     },
     "execution_count": null,
     "metadata": {},
     "output_type": "execute_result"
    }
   ],
   "source": [
    "elastic_net_pipeline.set_params(elastic_net__alpha=.1, elastic_net__l1_ratio=0.5)\n",
    "en_fit2 = elastic_net_pipeline.fit(X1, y1)\n",
    "en_fit2['elastic_net'].coef_\n",
    "enmse_cv2 = cross_val_score(en_fit2, X1, y1, cv=5, scoring=\"neg_mean_squared_error\")\n",
    "-enmse_cv2.mean()"
   ]
  },
  {
   "cell_type": "markdown",
   "metadata": {},
   "source": [
    "#### 5 Numerical Varaibles"
   ]
  },
  {
   "cell_type": "code",
   "execution_count": 130,
   "metadata": {},
   "outputs": [],
   "source": [
    "#Step 2\n",
    "X2 = data_clean[[\"CRuns\", \"Hits\", \"CRBI\", \"CHits\", \"Walks\"]]\n",
    "y2 = data_clean[\"Salary\"]"
   ]
  },
  {
   "cell_type": "code",
   "execution_count": 131,
   "metadata": {},
   "outputs": [
    {
     "data": {
      "text/plain": [
       "126047.77085146765"
      ]
     },
     "execution_count": null,
     "metadata": {},
     "output_type": "execute_result"
    }
   ],
   "source": [
    "#Linear Regression \n",
    "lr_fit3 = lr_pipeline.fit(X2, y2)\n",
    "lr_fit3['linear_regression'].coef_\n",
    "lrmse_cv3 = cross_val_score(lr_pipeline, X2, y2, cv=5, scoring=\"neg_mean_squared_error\")\n",
    "-lrmse_cv3.mean()"
   ]
  },
  {
   "cell_type": "code",
   "execution_count": 132,
   "metadata": {},
   "outputs": [
    {
     "name": "stdout",
     "output_type": "stream",
     "text": [
      "best_params {'ridge_regression__alpha': 100}\n",
      "best_params {'ridge_regression__alpha': 100}\n"
     ]
    }
   ],
   "source": [
    "#Ridge Regression \n",
    "rr_grid_search3 = GridSearchCV(rr_pipeline, param_grid, cv=5, scoring='r2')\n",
    "\n",
    "rr_grid_search3.fit(X2, y2)\n",
    "print(\"best_params\", rr_grid_search3.best_params_)"
   ]
  },
  {
   "cell_type": "code",
   "execution_count": 133,
   "metadata": {},
   "outputs": [
    {
     "data": {
      "text/plain": [
       "122492.15914539216"
      ]
     },
     "execution_count": null,
     "metadata": {},
     "output_type": "execute_result"
    }
   ],
   "source": [
    "rr_pipeline.set_params(ridge_regression__alpha = 100)\n",
    "rr_fit3 = rr_pipeline.fit(X1, y1)\n",
    "rr_fit3['ridge_regression'].coef_\n",
    "rrmse_cv3 = cross_val_score(rr_fit3, X2, y2, cv=5, scoring=\"neg_mean_squared_error\")\n",
    "-rrmse_cv3.mean()"
   ]
  },
  {
   "cell_type": "code",
   "execution_count": 134,
   "metadata": {},
   "outputs": [
    {
     "name": "stdout",
     "output_type": "stream",
     "text": [
      "best_params {'lasso_regression__alpha': 10}\n",
      "best_params {'lasso_regression__alpha': 10}\n"
     ]
    }
   ],
   "source": [
    "#Lasso Regression \n",
    "lasso_grid_search3 = GridSearchCV(lasso_pipeline, param_grid1, cv=5, scoring='r2')\n",
    "lasso_grid_search3.fit(X2, y2)\n",
    "print(\"best_params\", lasso_grid_search3.best_params_)\n"
   ]
  },
  {
   "cell_type": "code",
   "execution_count": 135,
   "metadata": {},
   "outputs": [
    {
     "data": {
      "text/plain": [
       "124607.12392785048"
      ]
     },
     "execution_count": null,
     "metadata": {},
     "output_type": "execute_result"
    }
   ],
   "source": [
    "lasso_pipeline.set_params(lasso_regression__alpha = 10)\n",
    "lasso_fit3 = lasso_pipeline.fit(X2, y2)\n",
    "lasso_fit3['lasso_regression'].coef_\n",
    "lassomse_cv3 = cross_val_score(lasso_fit3, X2, y2, cv=5, scoring=\"neg_mean_squared_error\")\n",
    "-lassomse_cv3.mean()"
   ]
  },
  {
   "cell_type": "code",
   "execution_count": 136,
   "metadata": {},
   "outputs": [
    {
     "name": "stdout",
     "output_type": "stream",
     "text": [
      "best_params {'elastic_net__alpha': 1, 'elastic_net__l1_ratio': 0.5}\n",
      "best_params {'elastic_net__alpha': 1, 'elastic_net__l1_ratio': 0.5}\n"
     ]
    }
   ],
   "source": [
    "#Elastic Net \n",
    "en_grid_search3 = GridSearchCV(elastic_net_pipeline, param_grid3, cv=5, scoring='r2')\n",
    "en_grid_search3.fit(X2, y2)\n",
    "print(\"best_params\", en_grid_search3.best_params_)"
   ]
  },
  {
   "cell_type": "code",
   "execution_count": 137,
   "metadata": {},
   "outputs": [
    {
     "data": {
      "text/plain": [
       "122622.90548639369"
      ]
     },
     "execution_count": null,
     "metadata": {},
     "output_type": "execute_result"
    }
   ],
   "source": [
    "elastic_net_pipeline.set_params(elastic_net__alpha=1, elastic_net__l1_ratio=0.5)\n",
    "en_fit3 = elastic_net_pipeline.fit(X2, y2)\n",
    "en_fit3['elastic_net'].coef_\n",
    "enmse_cv3 = cross_val_score(en_fit3, X2, y2, cv=5, scoring=\"neg_mean_squared_error\")\n",
    "-enmse_cv3.mean()"
   ]
  },
  {
   "cell_type": "markdown",
   "metadata": {},
   "source": [
    "#### 5 Numerical Variables and their interactions with the categorical "
   ]
  },
  {
   "cell_type": "code",
   "execution_count": 141,
   "metadata": {},
   "outputs": [
    {
     "data": {
      "text/html": [
       "<div>\n",
       "<style scoped>\n",
       "    .dataframe tbody tr th:only-of-type {\n",
       "        vertical-align: middle;\n",
       "    }\n",
       "\n",
       "    .dataframe tbody tr th {\n",
       "        vertical-align: top;\n",
       "    }\n",
       "\n",
       "    .dataframe thead th {\n",
       "        text-align: right;\n",
       "    }\n",
       "</style>\n",
       "<table border=\"1\" class=\"dataframe\">\n",
       "  <thead>\n",
       "    <tr style=\"text-align: right;\">\n",
       "      <th></th>\n",
       "      <th>AtBat</th>\n",
       "      <th>Hits</th>\n",
       "      <th>HmRun</th>\n",
       "      <th>Runs</th>\n",
       "      <th>RBI</th>\n",
       "      <th>Walks</th>\n",
       "      <th>Years</th>\n",
       "      <th>CAtBat</th>\n",
       "      <th>CHits</th>\n",
       "      <th>CHmRun</th>\n",
       "      <th>CRuns</th>\n",
       "      <th>CRBI</th>\n",
       "      <th>CWalks</th>\n",
       "      <th>League</th>\n",
       "      <th>Division</th>\n",
       "      <th>PutOuts</th>\n",
       "      <th>Assists</th>\n",
       "      <th>Errors</th>\n",
       "      <th>Salary</th>\n",
       "      <th>NewLeague</th>\n",
       "      <th>dummify__League_A_x_Division_W</th>\n",
       "      <th>dummify__League_N_x_Division_W</th>\n",
       "      <th>dummify__Division_E_x_Division_W</th>\n",
       "      <th>dummify__Division_W_x_Division_W</th>\n",
       "      <th>dummify__NewLeague_A_x_Division_W</th>\n",
       "      <th>dummify__NewLeague_N_x_Division_W</th>\n",
       "      <th>standardize__AtBat_x_Division_W</th>\n",
       "      <th>standardize__Hits_x_Division_W</th>\n",
       "      <th>standardize__HmRun_x_Division_W</th>\n",
       "      <th>standardize__Runs_x_Division_W</th>\n",
       "      <th>standardize__RBI_x_Division_W</th>\n",
       "      <th>standardize__Walks_x_Division_W</th>\n",
       "      <th>standardize__Years_x_Division_W</th>\n",
       "      <th>standardize__CAtBat_x_Division_W</th>\n",
       "      <th>standardize__CHits_x_Division_W</th>\n",
       "      <th>standardize__CHmRun_x_Division_W</th>\n",
       "      <th>standardize__CRuns_x_Division_W</th>\n",
       "      <th>standardize__CRBI_x_Division_W</th>\n",
       "      <th>standardize__CWalks_x_Division_W</th>\n",
       "      <th>standardize__PutOuts_x_Division_W</th>\n",
       "      <th>standardize__Assists_x_Division_W</th>\n",
       "      <th>standardize__Errors_x_Division_W</th>\n",
       "      <th>standardize__Salary_x_Division_W</th>\n",
       "    </tr>\n",
       "  </thead>\n",
       "  <tbody>\n",
       "    <tr>\n",
       "      <th>1</th>\n",
       "      <td>315.0</td>\n",
       "      <td>81.0</td>\n",
       "      <td>7.0</td>\n",
       "      <td>24.0</td>\n",
       "      <td>38.0</td>\n",
       "      <td>39.0</td>\n",
       "      <td>14.0</td>\n",
       "      <td>3449.0</td>\n",
       "      <td>835.0</td>\n",
       "      <td>69.0</td>\n",
       "      <td>321.0</td>\n",
       "      <td>414.0</td>\n",
       "      <td>375.0</td>\n",
       "      <td>N</td>\n",
       "      <td>W</td>\n",
       "      <td>632.0</td>\n",
       "      <td>43.0</td>\n",
       "      <td>10.0</td>\n",
       "      <td>475.0</td>\n",
       "      <td>N</td>\n",
       "      <td>0.0</td>\n",
       "      <td>1.0</td>\n",
       "      <td>0.0</td>\n",
       "      <td>1.0</td>\n",
       "      <td>0.0</td>\n",
       "      <td>1.0</td>\n",
       "      <td>-0.430437</td>\n",
       "      <td>-0.431732</td>\n",
       "      <td>-0.433579</td>\n",
       "      <td>-1.035649</td>\n",
       "      <td>-0.383827</td>\n",
       "      <td>0.011930</td>\n",
       "      <td>1.332925</td>\n",
       "      <td>0.344876</td>\n",
       "      <td>0.179704</td>\n",
       "      <td>-0.005697</td>\n",
       "      <td>-0.113299</td>\n",
       "      <td>0.252124</td>\n",
       "      <td>0.430391</td>\n",
       "      <td>1.224048</td>\n",
       "      <td>-0.467740</td>\n",
       "      <td>0.308192</td>\n",
       "      <td>-0.135313</td>\n",
       "    </tr>\n",
       "    <tr>\n",
       "      <th>2</th>\n",
       "      <td>479.0</td>\n",
       "      <td>130.0</td>\n",
       "      <td>18.0</td>\n",
       "      <td>66.0</td>\n",
       "      <td>72.0</td>\n",
       "      <td>76.0</td>\n",
       "      <td>3.0</td>\n",
       "      <td>1624.0</td>\n",
       "      <td>457.0</td>\n",
       "      <td>63.0</td>\n",
       "      <td>224.0</td>\n",
       "      <td>266.0</td>\n",
       "      <td>263.0</td>\n",
       "      <td>A</td>\n",
       "      <td>W</td>\n",
       "      <td>880.0</td>\n",
       "      <td>82.0</td>\n",
       "      <td>14.0</td>\n",
       "      <td>480.0</td>\n",
       "      <td>A</td>\n",
       "      <td>1.0</td>\n",
       "      <td>0.0</td>\n",
       "      <td>0.0</td>\n",
       "      <td>1.0</td>\n",
       "      <td>1.0</td>\n",
       "      <td>0.0</td>\n",
       "      <td>0.640293</td>\n",
       "      <td>0.624699</td>\n",
       "      <td>0.831443</td>\n",
       "      <td>0.580752</td>\n",
       "      <td>0.917547</td>\n",
       "      <td>1.724442</td>\n",
       "      <td>-0.903560</td>\n",
       "      <td>-0.441561</td>\n",
       "      <td>-0.398759</td>\n",
       "      <td>-0.075357</td>\n",
       "      <td>-0.404078</td>\n",
       "      <td>-0.192719</td>\n",
       "      <td>0.010354</td>\n",
       "      <td>2.108915</td>\n",
       "      <td>-0.182323</td>\n",
       "      <td>0.937275</td>\n",
       "      <td>-0.124208</td>\n",
       "    </tr>\n",
       "    <tr>\n",
       "      <th>3</th>\n",
       "      <td>496.0</td>\n",
       "      <td>141.0</td>\n",
       "      <td>20.0</td>\n",
       "      <td>65.0</td>\n",
       "      <td>78.0</td>\n",
       "      <td>37.0</td>\n",
       "      <td>11.0</td>\n",
       "      <td>5628.0</td>\n",
       "      <td>1575.0</td>\n",
       "      <td>225.0</td>\n",
       "      <td>828.0</td>\n",
       "      <td>838.0</td>\n",
       "      <td>354.0</td>\n",
       "      <td>N</td>\n",
       "      <td>E</td>\n",
       "      <td>200.0</td>\n",
       "      <td>11.0</td>\n",
       "      <td>3.0</td>\n",
       "      <td>500.0</td>\n",
       "      <td>N</td>\n",
       "      <td>0.0</td>\n",
       "      <td>0.0</td>\n",
       "      <td>0.0</td>\n",
       "      <td>0.0</td>\n",
       "      <td>0.0</td>\n",
       "      <td>0.0</td>\n",
       "      <td>0.000000</td>\n",
       "      <td>0.000000</td>\n",
       "      <td>0.000000</td>\n",
       "      <td>0.000000</td>\n",
       "      <td>0.000000</td>\n",
       "      <td>-0.000000</td>\n",
       "      <td>0.000000</td>\n",
       "      <td>0.000000</td>\n",
       "      <td>0.000000</td>\n",
       "      <td>0.000000</td>\n",
       "      <td>0.000000</td>\n",
       "      <td>0.000000</td>\n",
       "      <td>0.000000</td>\n",
       "      <td>-0.000000</td>\n",
       "      <td>-0.000000</td>\n",
       "      <td>-0.000000</td>\n",
       "      <td>-0.000000</td>\n",
       "    </tr>\n",
       "    <tr>\n",
       "      <th>4</th>\n",
       "      <td>321.0</td>\n",
       "      <td>87.0</td>\n",
       "      <td>10.0</td>\n",
       "      <td>39.0</td>\n",
       "      <td>42.0</td>\n",
       "      <td>30.0</td>\n",
       "      <td>2.0</td>\n",
       "      <td>396.0</td>\n",
       "      <td>101.0</td>\n",
       "      <td>12.0</td>\n",
       "      <td>48.0</td>\n",
       "      <td>46.0</td>\n",
       "      <td>33.0</td>\n",
       "      <td>N</td>\n",
       "      <td>E</td>\n",
       "      <td>805.0</td>\n",
       "      <td>40.0</td>\n",
       "      <td>4.0</td>\n",
       "      <td>91.5</td>\n",
       "      <td>N</td>\n",
       "      <td>0.0</td>\n",
       "      <td>0.0</td>\n",
       "      <td>0.0</td>\n",
       "      <td>0.0</td>\n",
       "      <td>0.0</td>\n",
       "      <td>0.0</td>\n",
       "      <td>-0.000000</td>\n",
       "      <td>-0.000000</td>\n",
       "      <td>-0.000000</td>\n",
       "      <td>-0.000000</td>\n",
       "      <td>-0.000000</td>\n",
       "      <td>-0.000000</td>\n",
       "      <td>-0.000000</td>\n",
       "      <td>-0.000000</td>\n",
       "      <td>-0.000000</td>\n",
       "      <td>-0.000000</td>\n",
       "      <td>-0.000000</td>\n",
       "      <td>-0.000000</td>\n",
       "      <td>-0.000000</td>\n",
       "      <td>0.000000</td>\n",
       "      <td>-0.000000</td>\n",
       "      <td>-0.000000</td>\n",
       "      <td>-0.000000</td>\n",
       "    </tr>\n",
       "    <tr>\n",
       "      <th>5</th>\n",
       "      <td>594.0</td>\n",
       "      <td>169.0</td>\n",
       "      <td>4.0</td>\n",
       "      <td>74.0</td>\n",
       "      <td>51.0</td>\n",
       "      <td>35.0</td>\n",
       "      <td>11.0</td>\n",
       "      <td>4408.0</td>\n",
       "      <td>1133.0</td>\n",
       "      <td>19.0</td>\n",
       "      <td>501.0</td>\n",
       "      <td>336.0</td>\n",
       "      <td>194.0</td>\n",
       "      <td>A</td>\n",
       "      <td>W</td>\n",
       "      <td>282.0</td>\n",
       "      <td>421.0</td>\n",
       "      <td>25.0</td>\n",
       "      <td>750.0</td>\n",
       "      <td>A</td>\n",
       "      <td>1.0</td>\n",
       "      <td>0.0</td>\n",
       "      <td>0.0</td>\n",
       "      <td>1.0</td>\n",
       "      <td>1.0</td>\n",
       "      <td>0.0</td>\n",
       "      <td>1.391109</td>\n",
       "      <td>1.465533</td>\n",
       "      <td>-0.778585</td>\n",
       "      <td>0.888638</td>\n",
       "      <td>0.113757</td>\n",
       "      <td>-0.173206</td>\n",
       "      <td>0.722974</td>\n",
       "      <td>0.758132</td>\n",
       "      <td>0.635741</td>\n",
       "      <td>-0.586201</td>\n",
       "      <td>0.426291</td>\n",
       "      <td>0.017679</td>\n",
       "      <td>-0.248419</td>\n",
       "      <td>-0.024754</td>\n",
       "      <td>2.298609</td>\n",
       "      <td>2.667253</td>\n",
       "      <td>0.475445</td>\n",
       "    </tr>\n",
       "  </tbody>\n",
       "</table>\n",
       "</div>"
      ],
      "text/plain": [
       "   AtBat  ...  standardize__Salary_x_Division_W\n",
       "1  315.0  ...                         -0.135313\n",
       "2  479.0  ...                         -0.124208\n",
       "3  496.0  ...                         -0.000000\n",
       "4  321.0  ...                         -0.000000\n",
       "5  594.0  ...                          0.475445\n",
       "\n",
       "[5 rows x 43 columns]"
      ]
     },
     "execution_count": null,
     "metadata": {},
     "output_type": "execute_result"
    }
   ],
   "source": [
    "#Step 3\n",
    "#Begin by creating a new dataframe with the interaction terms appended to data clean. Method referenced from Chat 4o\n",
    "ct.fit(data)\n",
    "X_transformed = ct.transform(data)\n",
    "\n",
    "division_w = X_transformed['dummify__Division_W']\n",
    "numeric_features = X_transformed.select_dtypes(include=np.number)\n",
    "\n",
    "interaction_terms = numeric_features.multiply(division_w, axis=0)\n",
    "interaction_terms.columns = [f\"{col}_x_Division_W\" for col in numeric_features.columns]\n",
    "\n",
    "inter_df = pd.concat([data_clean, interaction_terms], axis=1)\n",
    "inter_df.head()"
   ]
  },
  {
   "cell_type": "code",
   "execution_count": 146,
   "metadata": {},
   "outputs": [],
   "source": [
    "inter_df = inter_df.dropna()\n",
    "X3 = inter_df[[\"CRuns\", \"Hits\", \"CRBI\", \"CHits\", \"Walks\", \"standardize__CRuns_x_Division_W\", \"standardize__Hits_x_Division_W\", \"standardize__CRBI_x_Division_W\", \"standardize__CHits_x_Division_W\", \"standardize__Walks_x_Division_W\"]]\n",
    "y3 = inter_df[\"Salary\"]"
   ]
  },
  {
   "cell_type": "code",
   "execution_count": 147,
   "metadata": {},
   "outputs": [
    {
     "data": {
      "text/plain": [
       "139109.8679660936"
      ]
     },
     "execution_count": null,
     "metadata": {},
     "output_type": "execute_result"
    }
   ],
   "source": [
    "#Linear Regression \n",
    "lr_fit4 = lr_pipeline.fit(X3, y3)\n",
    "lr_fit4['linear_regression'].coef_\n",
    "lrmse_cv4 = cross_val_score(lr_pipeline, X3, y3, cv=5, scoring=\"neg_mean_squared_error\")\n",
    "-lrmse_cv4.mean()"
   ]
  },
  {
   "cell_type": "code",
   "execution_count": 149,
   "metadata": {},
   "outputs": [
    {
     "name": "stdout",
     "output_type": "stream",
     "text": [
      "best_params {'ridge_regression__alpha': 50}\n",
      "best_params {'ridge_regression__alpha': 50}\n"
     ]
    }
   ],
   "source": [
    "#Ridge Regression \n",
    "rr_grid_search4 = GridSearchCV(rr_pipeline, param_grid, cv=5, scoring='r2')\n",
    "\n",
    "rr_grid_search4.fit(X3, y3)\n",
    "print(\"best_params\", rr_grid_search4.best_params_)"
   ]
  },
  {
   "cell_type": "code",
   "execution_count": 150,
   "metadata": {},
   "outputs": [
    {
     "data": {
      "text/plain": [
       "121758.00496001463"
      ]
     },
     "execution_count": null,
     "metadata": {},
     "output_type": "execute_result"
    }
   ],
   "source": [
    "rr_pipeline.set_params(ridge_regression__alpha = 50)\n",
    "rr_fit4 = rr_pipeline.fit(X3, y3)\n",
    "rr_fit4['ridge_regression'].coef_\n",
    "rrmse_cv4 = cross_val_score(rr_fit4, X3, y3, cv=5, scoring=\"neg_mean_squared_error\")\n",
    "-rrmse_cv4.mean()"
   ]
  },
  {
   "cell_type": "code",
   "execution_count": 151,
   "metadata": {},
   "outputs": [
    {
     "name": "stderr",
     "output_type": "stream",
     "text": [
      "C:\\Users\\owenk\\anaconda3\\Lib\\site-packages\\sklearn\\linear_model\\_coordinate_descent.py:697: ConvergenceWarning: Objective did not converge. You might want to increase the number of iterations, check the scale of the features or consider increasing regularisation. Duality gap: 6.166e+06, tolerance: 4.708e+03\n",
      "  model = cd_fast.enet_coordinate_descent(\n",
      "C:\\Users\\owenk\\anaconda3\\Lib\\site-packages\\sklearn\\linear_model\\_coordinate_descent.py:697: ConvergenceWarning: Objective did not converge. You might want to increase the number of iterations, check the scale of the features or consider increasing regularisation. Duality gap: 3.487e+06, tolerance: 3.606e+03\n",
      "  model = cd_fast.enet_coordinate_descent(\n",
      "C:\\Users\\owenk\\anaconda3\\Lib\\site-packages\\sklearn\\linear_model\\_coordinate_descent.py:697: ConvergenceWarning: Objective did not converge. You might want to increase the number of iterations, check the scale of the features or consider increasing regularisation. Duality gap: 6.175e+05, tolerance: 4.137e+03\n",
      "  model = cd_fast.enet_coordinate_descent(\n",
      "C:\\Users\\owenk\\anaconda3\\Lib\\site-packages\\sklearn\\linear_model\\_coordinate_descent.py:697: ConvergenceWarning: Objective did not converge. You might want to increase the number of iterations, check the scale of the features or consider increasing regularisation. Duality gap: 4.371e+06, tolerance: 4.281e+03\n",
      "  model = cd_fast.enet_coordinate_descent(\n",
      "C:\\Users\\owenk\\anaconda3\\Lib\\site-packages\\sklearn\\linear_model\\_coordinate_descent.py:697: ConvergenceWarning: Objective did not converge. You might want to increase the number of iterations, check the scale of the features or consider increasing regularisation. Duality gap: 3.138e+06, tolerance: 4.558e+03\n",
      "  model = cd_fast.enet_coordinate_descent(\n",
      "C:\\Users\\owenk\\anaconda3\\Lib\\site-packages\\sklearn\\linear_model\\_coordinate_descent.py:697: ConvergenceWarning: Objective did not converge. You might want to increase the number of iterations, check the scale of the features or consider increasing regularisation. Duality gap: 4.470e+05, tolerance: 4.708e+03\n",
      "  model = cd_fast.enet_coordinate_descent(\n",
      "C:\\Users\\owenk\\anaconda3\\Lib\\site-packages\\sklearn\\linear_model\\_coordinate_descent.py:697: ConvergenceWarning: Objective did not converge. You might want to increase the number of iterations, check the scale of the features or consider increasing regularisation. Duality gap: 1.585e+05, tolerance: 3.606e+03\n",
      "  model = cd_fast.enet_coordinate_descent(\n",
      "C:\\Users\\owenk\\anaconda3\\Lib\\site-packages\\sklearn\\linear_model\\_coordinate_descent.py:697: ConvergenceWarning: Objective did not converge. You might want to increase the number of iterations, check the scale of the features or consider increasing regularisation. Duality gap: 7.737e+03, tolerance: 4.137e+03\n",
      "  model = cd_fast.enet_coordinate_descent(\n",
      "C:\\Users\\owenk\\anaconda3\\Lib\\site-packages\\sklearn\\linear_model\\_coordinate_descent.py:697: ConvergenceWarning: Objective did not converge. You might want to increase the number of iterations, check the scale of the features or consider increasing regularisation. Duality gap: 3.277e+05, tolerance: 4.281e+03\n",
      "  model = cd_fast.enet_coordinate_descent(\n"
     ]
    },
    {
     "name": "stderr",
     "output_type": "stream",
     "text": [
      "C:\\Users\\owenk\\anaconda3\\Lib\\site-packages\\sklearn\\linear_model\\_coordinate_descent.py:697: ConvergenceWarning: Objective did not converge. You might want to increase the number of iterations, check the scale of the features or consider increasing regularisation. Duality gap: 1.040e+05, tolerance: 4.558e+03\n",
      "  model = cd_fast.enet_coordinate_descent(\n",
      "C:\\Users\\owenk\\anaconda3\\Lib\\site-packages\\sklearn\\linear_model\\_coordinate_descent.py:697: ConvergenceWarning: Objective did not converge. You might want to increase the number of iterations, check the scale of the features or consider increasing regularisation. Duality gap: 7.567e+03, tolerance: 4.708e+03\n",
      "  model = cd_fast.enet_coordinate_descent(\n"
     ]
    },
    {
     "name": "stdout",
     "output_type": "stream",
     "text": [
      "best_params {'lasso_regression__alpha': 10}\n",
      "best_params {'lasso_regression__alpha': 10}\n"
     ]
    }
   ],
   "source": [
    "#Lasso Regression \n",
    "lasso_grid_search4 = GridSearchCV(lasso_pipeline, param_grid1, cv=5, scoring='r2')\n",
    "lasso_grid_search4.fit(X3, y3)\n",
    "print(\"best_params\", lasso_grid_search4.best_params_)"
   ]
  },
  {
   "cell_type": "code",
   "execution_count": 152,
   "metadata": {},
   "outputs": [
    {
     "data": {
      "text/plain": [
       "125156.01466429807"
      ]
     },
     "execution_count": null,
     "metadata": {},
     "output_type": "execute_result"
    }
   ],
   "source": [
    "lasso_pipeline.set_params(lasso_regression__alpha = 10)\n",
    "lasso_fit4 = lasso_pipeline.fit(X3, y3)\n",
    "lasso_fit4['lasso_regression'].coef_\n",
    "lassomse_cv4 = cross_val_score(lasso_fit4, X3, y3, cv=5, scoring=\"neg_mean_squared_error\")\n",
    "-lassomse_cv4.mean()"
   ]
  },
  {
   "cell_type": "code",
   "execution_count": 153,
   "metadata": {},
   "outputs": [
    {
     "name": "stderr",
     "output_type": "stream",
     "text": [
      "C:\\Users\\owenk\\anaconda3\\Lib\\site-packages\\sklearn\\linear_model\\_coordinate_descent.py:697: ConvergenceWarning: Objective did not converge. You might want to increase the number of iterations, check the scale of the features or consider increasing regularisation. Duality gap: 7.029e+06, tolerance: 4.708e+03\n",
      "  model = cd_fast.enet_coordinate_descent(\n",
      "C:\\Users\\owenk\\anaconda3\\Lib\\site-packages\\sklearn\\linear_model\\_coordinate_descent.py:697: ConvergenceWarning: Objective did not converge. You might want to increase the number of iterations, check the scale of the features or consider increasing regularisation. Duality gap: 2.397e+06, tolerance: 3.606e+03\n",
      "  model = cd_fast.enet_coordinate_descent(\n",
      "C:\\Users\\owenk\\anaconda3\\Lib\\site-packages\\sklearn\\linear_model\\_coordinate_descent.py:697: ConvergenceWarning: Objective did not converge. You might want to increase the number of iterations, check the scale of the features or consider increasing regularisation. Duality gap: 3.332e+06, tolerance: 4.281e+03\n",
      "  model = cd_fast.enet_coordinate_descent(\n",
      "C:\\Users\\owenk\\anaconda3\\Lib\\site-packages\\sklearn\\linear_model\\_coordinate_descent.py:697: ConvergenceWarning: Objective did not converge. You might want to increase the number of iterations, check the scale of the features or consider increasing regularisation. Duality gap: 5.282e+05, tolerance: 4.558e+03\n",
      "  model = cd_fast.enet_coordinate_descent(\n",
      "C:\\Users\\owenk\\anaconda3\\Lib\\site-packages\\sklearn\\linear_model\\_coordinate_descent.py:697: ConvergenceWarning: Objective did not converge. You might want to increase the number of iterations, check the scale of the features or consider increasing regularisation. Duality gap: 5.688e+06, tolerance: 4.708e+03\n",
      "  model = cd_fast.enet_coordinate_descent(\n",
      "C:\\Users\\owenk\\anaconda3\\Lib\\site-packages\\sklearn\\linear_model\\_coordinate_descent.py:697: ConvergenceWarning: Objective did not converge. You might want to increase the number of iterations, check the scale of the features or consider increasing regularisation. Duality gap: 2.061e+06, tolerance: 3.606e+03\n",
      "  model = cd_fast.enet_coordinate_descent(\n",
      "C:\\Users\\owenk\\anaconda3\\Lib\\site-packages\\sklearn\\linear_model\\_coordinate_descent.py:697: ConvergenceWarning: Objective did not converge. You might want to increase the number of iterations, check the scale of the features or consider increasing regularisation. Duality gap: 3.024e+06, tolerance: 4.281e+03\n",
      "  model = cd_fast.enet_coordinate_descent(\n",
      "C:\\Users\\owenk\\anaconda3\\Lib\\site-packages\\sklearn\\linear_model\\_coordinate_descent.py:697: ConvergenceWarning: Objective did not converge. You might want to increase the number of iterations, check the scale of the features or consider increasing regularisation. Duality gap: 9.181e+05, tolerance: 4.558e+03\n",
      "  model = cd_fast.enet_coordinate_descent(\n"
     ]
    },
    {
     "name": "stderr",
     "output_type": "stream",
     "text": [
      "C:\\Users\\owenk\\anaconda3\\Lib\\site-packages\\sklearn\\linear_model\\_coordinate_descent.py:697: ConvergenceWarning: Objective did not converge. You might want to increase the number of iterations, check the scale of the features or consider increasing regularisation. Duality gap: 5.836e+06, tolerance: 4.708e+03\n",
      "  model = cd_fast.enet_coordinate_descent(\n",
      "C:\\Users\\owenk\\anaconda3\\Lib\\site-packages\\sklearn\\linear_model\\_coordinate_descent.py:697: ConvergenceWarning: Objective did not converge. You might want to increase the number of iterations, check the scale of the features or consider increasing regularisation. Duality gap: 2.751e+06, tolerance: 3.606e+03\n",
      "  model = cd_fast.enet_coordinate_descent(\n",
      "C:\\Users\\owenk\\anaconda3\\Lib\\site-packages\\sklearn\\linear_model\\_coordinate_descent.py:697: ConvergenceWarning: Objective did not converge. You might want to increase the number of iterations, check the scale of the features or consider increasing regularisation. Duality gap: 1.466e+05, tolerance: 4.137e+03\n",
      "  model = cd_fast.enet_coordinate_descent(\n",
      "C:\\Users\\owenk\\anaconda3\\Lib\\site-packages\\sklearn\\linear_model\\_coordinate_descent.py:697: ConvergenceWarning: Objective did not converge. You might want to increase the number of iterations, check the scale of the features or consider increasing regularisation. Duality gap: 3.725e+06, tolerance: 4.281e+03\n",
      "  model = cd_fast.enet_coordinate_descent(\n",
      "C:\\Users\\owenk\\anaconda3\\Lib\\site-packages\\sklearn\\linear_model\\_coordinate_descent.py:697: ConvergenceWarning: Objective did not converge. You might want to increase the number of iterations, check the scale of the features or consider increasing regularisation. Duality gap: 1.998e+06, tolerance: 4.558e+03\n",
      "  model = cd_fast.enet_coordinate_descent(\n"
     ]
    },
    {
     "name": "stdout",
     "output_type": "stream",
     "text": [
      "best_params {'elastic_net__alpha': 1, 'elastic_net__l1_ratio': 0.8}\n",
      "best_params {'elastic_net__alpha': 1, 'elastic_net__l1_ratio': 0.8}\n"
     ]
    }
   ],
   "source": [
    "#Elastic Net \n",
    "en_grid_search4 = GridSearchCV(elastic_net_pipeline, param_grid3, cv=5, scoring='r2')\n",
    "en_grid_search4.fit(X3, y3)\n",
    "print(\"best_params\", en_grid_search4.best_params_)"
   ]
  },
  {
   "cell_type": "code",
   "execution_count": 154,
   "metadata": {},
   "outputs": [
    {
     "data": {
      "text/plain": [
       "121736.27819808872"
      ]
     },
     "execution_count": null,
     "metadata": {},
     "output_type": "execute_result"
    }
   ],
   "source": [
    "elastic_net_pipeline.set_params(elastic_net__alpha=1, elastic_net__l1_ratio=0.8)\n",
    "en_fit4 = elastic_net_pipeline.fit(X3, y3)\n",
    "en_fit4['elastic_net'].coef_\n",
    "enmse_cv4 = cross_val_score(en_fit4, X3, y3, cv=5, scoring=\"neg_mean_squared_error\")\n",
    "-enmse_cv4.mean()"
   ]
  },
  {
   "cell_type": "markdown",
   "metadata": {},
   "source": [
    "##### MSEs\n",
    "\n",
    "Best Numerical: <br>\n",
    "lr: 143812.9359162973 <br>\n",
    "rr: 143658.5173685888 <br>\n",
    "lasso: 143793.4491585397 <br>\n",
    "elastic net: 143655.07604766646 \n",
    "\n",
    "Best 5 Numericals <br>\n",
    "lr: 126047.77085146765 <br>\n",
    "rr: 122492.15914539216 <br>\n",
    "lasso: 124607.12392785048 <br>\n",
    "elastic net: 122622.90548639369 <br>\n",
    "\n",
    "Best Numerical with Interaction \n",
    "lr: 139109.8679660936 <br>\n",
    "rr: 121758.00496001463 <br>\n",
    "lasso: 125156.01466429807 <br>\n",
    "elastic net: 121736.27819808872 <br>\n",
    " \n",
    "The model with the best MSE is the Elastic Net with 5 best numerical variables and their interaction with Division. "
   ]
  },
  {
   "cell_type": "markdown",
   "metadata": {},
   "source": [
    "## Part III. Discussion"
   ]
  },
  {
   "cell_type": "markdown",
   "metadata": {},
   "source": [
    "### A. Ridge"
   ]
  },
  {
   "cell_type": "markdown",
   "metadata": {},
   "source": [
    "The ridge model consistenly performs better than the ordinary linear regression model in terms of MSE, across all 3 situations. The coefficients in the ridge model are generally much lower than the coefficients in the linear regression models. This is becasue of L2 regularization, which penalizes large coefficients. The ridge models are less likely to overfit becasue of the regularization. "
   ]
  },
  {
   "cell_type": "markdown",
   "metadata": {},
   "source": [
    "### B. Lasso\n",
    "        "
   ]
  },
  {
   "cell_type": "markdown",
   "metadata": {},
   "source": [
    "The lambda produced in the lasso model from part 1 was 10, which is the same lambda produced by the models in part 2. This could make sense for the models with 5 most important numerical variables, because the penalty applied to the model in part 1 will reduce less important coefficients toward 0. Since the lambda is 10, more variables are shifted toward 0. However,, when evaluating only 1 important variable, the lambda remained 10. This could be because the marginal effect of the other variables does not increase the fit as much as CRuns, in which case the lambda should be roughly similar across models with similar performance. \n",
    "\n",
    "The MSE in the Lasso model from part 1 was lower than any of the lasso models in part 2. This is due to the L1 regularization effect of lasso regression. In other words, the most important variables which were used in the lasso models of part 2 remain present in the lasso model of part 1, while the unimportant variables are penalized toward 0, creating a better fit. There could be more important varaibles that were left out from part 2, which could have influenced the fit in part 1. "
   ]
  },
  {
   "cell_type": "markdown",
   "metadata": {},
   "source": [
    "### C. Elastic Net\n"
   ]
  },
  {
   "cell_type": "markdown",
   "metadata": {},
   "source": [
    "The MSE in the elastic net models from part 2 consistently perform better than the ridge or lasso models, across the 3 situations of variables. This makes sense (the fact that elastic net \"always wins\") because it combines L1 and L2 regularization from ridge and lasso models. It is more flexible and robust, especially with data sets such as this, with many variables, of different types, and some which are likely to be correlated.  "
   ]
  },
  {
   "cell_type": "markdown",
   "metadata": {},
   "source": [
    "### Part IV: Final Model\n"
   ]
  },
  {
   "cell_type": "code",
   "execution_count": 157,
   "metadata": {},
   "outputs": [
    {
     "name": "stdout",
     "output_type": "stream",
     "text": [
      "0.45875395235867\n",
      "109729.12190340909\n",
      "                 Feature  Coefficient\n",
      "19  standardize__PutOuts    44.835142\n",
      "17     standardize__CRBI    37.880465\n",
      "7      standardize__Hits    37.450668\n",
      "16    standardize__CRuns    36.943114\n",
      "14    standardize__CHits    36.124822\n",
      "11    standardize__Walks    34.568563\n",
      "15   standardize__CHmRun    32.312440\n",
      "9      standardize__Runs    27.011028\n",
      "2    dummify__Division_E    26.103984\n",
      "13   standardize__CAtBat    25.867403\n",
      "10      standardize__RBI    22.983192\n",
      "18   standardize__CWalks    15.355773\n",
      "6     standardize__AtBat    12.179419\n",
      "12    standardize__Years     7.634212\n",
      "1      dummify__League_N     7.248595\n",
      "8     standardize__HmRun     5.609999\n",
      "5   dummify__NewLeague_N     4.116546\n",
      "20  standardize__Assists     3.836558\n",
      "4   dummify__NewLeague_A    -4.116523\n",
      "0      dummify__League_A    -7.248569\n",
      "21   standardize__Errors    -8.036185\n",
      "3    dummify__Division_W   -26.103971\n",
      "0.45875395235867\n",
      "109729.12190340909\n",
      "                 Feature  Coefficient\n",
      "19  standardize__PutOuts    44.835142\n",
      "17     standardize__CRBI    37.880465\n",
      "7      standardize__Hits    37.450668\n",
      "16    standardize__CRuns    36.943114\n",
      "14    standardize__CHits    36.124822\n",
      "11    standardize__Walks    34.568563\n",
      "15   standardize__CHmRun    32.312440\n",
      "9      standardize__Runs    27.011028\n",
      "2    dummify__Division_E    26.103984\n",
      "13   standardize__CAtBat    25.867403\n",
      "10      standardize__RBI    22.983192\n",
      "18   standardize__CWalks    15.355773\n",
      "6     standardize__AtBat    12.179419\n",
      "12    standardize__Years     7.634212\n",
      "1      dummify__League_N     7.248595\n",
      "8     standardize__HmRun     5.609999\n",
      "5   dummify__NewLeague_N     4.116546\n",
      "20  standardize__Assists     3.836558\n",
      "4   dummify__NewLeague_A    -4.116523\n",
      "0      dummify__League_A    -7.248569\n",
      "21   standardize__Errors    -8.036185\n",
      "3    dummify__Division_W   -26.103971\n"
     ]
    }
   ],
   "source": [
    "elastic_net_pipeline.set_params(elastic_net__alpha=1, elastic_net__l1_ratio=0.2)\n",
    "en_fitf = elastic_net_pipeline.fit(X, y)\n",
    "\n",
    "y_pred_en = en_fitf.predict(X)\n",
    "R2f = r2_score(y, y_pred_en)\n",
    "MSEf = mean_squared_error(y, y_pred_en)\n",
    "\n",
    "print(R2f)\n",
    "print(MSEf)\n",
    "print(en_coef_df)"
   ]
  },
  {
   "cell_type": "markdown",
   "metadata": {},
   "source": [
    "When fitted on the whole data set, the Elastic net model has an r2 score of .46, meaning that 46% of the varation in salary is explained by the model. The model also has a relatively low MSE, meaning that the model does moderately well in terms of fit. The most important coefficients are PutOuts, CRBI, and Hits, although there are other important explantory variables as well. "
   ]
  },
  {
   "cell_type": "code",
   "execution_count": 166,
   "metadata": {},
   "outputs": [
    {
     "data": {
      "image/png": "[encoded data removed]"
     },
     "metadata": {},
     "output_type": "display_data"
    }
   ],
   "source": [
    "#plot \n",
    "from plotnine import *\n",
    "\n",
    "plot_df = data_clean[[\"Salary\"]].copy() \n",
    "plot_df[\"y_pred_en\"] = y_pred_en\n",
    "\n",
    "(ggplot(plot_df, aes(x=\"Salary\", y=\"y_pred_en\"))  # Use column names correctly in aes\n",
    " + geom_point(alpha = .5)\n",
    " + geom_smooth(method = \"lm\", color = \"red\")\n",
    " + labs(x=\"Actual Values\", y=\"Predicted Values\", title=\"Elastic Net Salary Prediction\")\n",
    " + theme_minimal())"
   ]
  }
 ],
 "metadata": {
  "kernelspec": {
   "display_name": "base",
   "language": "python",
   "name": "python3"
  },
  "language_info": {
   "codemirror_mode": {
    "name": "ipython",
    "version": 3
   },
   "file_extension": ".py",
   "mimetype": "text/x-python",
   "name": "python",
   "nbconvert_exporter": "python",
   "pygments_lexer": "ipython3",
   "version": "3.12.4"
  }
 },
 "nbformat": 4,
 "nbformat_minor": 2
}
