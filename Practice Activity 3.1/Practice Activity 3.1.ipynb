{
  "cells": [
    {
      "cell_type": "markdown",
      "metadata": {
        "id": "1Q8_a-5qociG"
      },
      "source": [
        "1. Fill in the necessary code to write a function called `times_seven()`. The function should take a single argument (`x`) and multiply the input by 7.\n",
        "  + This function should check that the argument is numeric.\n",
        "  + This function should also excitedly announce (print) *“I love sevens!”* if the argument to the function is a 7."
      ]
    },
    {
      "cell_type": "code",
      "execution_count": 15,
      "metadata": {
        "id": "l5CW0nuloYzy"
      },
      "outputs": [],
      "source": [
        "def times_seven(x):\n",
        "\n",
        "  if type(x) != int and type(x) != float:\n",
        "    exit(times_seven)\n",
        "\n",
        "  if x == 7:\n",
        "    print(\"I love sevens!\")\n",
        "\n",
        "  return x * 7"
      ]
    },
    {
      "cell_type": "markdown",
      "metadata": {
        "id": "nonjYlruotrq"
      },
      "source": [
        "2. Write and run some *unit tests* for your `times_seven` function.  What happens if the input to the function is `[1, 3, 5, 7]`?"
      ]
    },
    {
      "cell_type": "code",
      "execution_count": 16,
      "metadata": {
        "colab": {
          "base_uri": "https://localhost:8080/"
        },
        "id": "wCXVvz9jQOEV",
        "outputId": "c73fe557-3e12-4e4b-f9f9-3d11e155858f"
      },
      "outputs": [
        {
          "name": "stdout",
          "output_type": "stream",
          "text": [
            "7\n",
            "21\n",
            "35\n",
            "I love sevens!\n",
            "49\n"
          ]
        }
      ],
      "source": [
        "input = [1, 3, 5, 7]\n",
        "\n",
        "for i in input:\n",
        "  print(times_seven(i))"
      ]
    },
    {
      "cell_type": "markdown",
      "metadata": {
        "id": "98sLHKBno39e"
      },
      "source": [
        "3. Consider the following function:"
      ]
    },
    {
      "cell_type": "code",
      "execution_count": 17,
      "metadata": {
        "id": "V1xGEwq-o5mh"
      },
      "outputs": [],
      "source": [
        "def add_or_subtract(first_num, second_num = 2, type = \"add\"):\n",
        "\n",
        "  if (type == \"add\"):\n",
        "    res = first_num + second_num\n",
        "  elif (type == \"subtract\"):\n",
        "    res = first_num - second_num\n",
        "  else:\n",
        "    exit(\"Please choose `add` or `subtract` as the type.\")\n",
        "\n",
        "    return res"
      ]
    },
    {
      "cell_type": "markdown",
      "metadata": {
        "id": "KIzEYgR1pI0K"
      },
      "source": [
        "**Without running the code**, predict if the following will produce:\n",
        "\n",
        "a. 1\n",
        "\n",
        "b. -1\n",
        "\n",
        "c. 30\n",
        "\n",
        "d. An error defined by the function `add_or_subtract()`\n",
        "\n",
        "e. An error defined in a different function, which is called inside the `add_or_subtract()` function\n",
        "\n",
        "#### Prediction: the following cell should produce:"
      ]
    },
    {
      "cell_type": "code",
      "execution_count": 18,
      "metadata": {
        "colab": {
          "base_uri": "https://localhost:8080/"
        },
        "id": "AKN_fkigpHIS",
        "outputId": "15c16fd6-45cf-4fdb-80db-35b0f1e6acdf"
      },
      "outputs": [
        {
          "name": "stdout",
          "output_type": "stream",
          "text": [
            "None\n"
          ]
        }
      ],
      "source": [
        "# output: b. -1\n",
        "#print(add_or_subtract(5, 6, type = \"subtract\"))"
      ]
    },
    {
      "cell_type": "code",
      "execution_count": 1,
      "metadata": {
        "colab": {
          "base_uri": "https://localhost:8080/",
          "height": 280
        },
        "id": "KW3QPd6IS1pN",
        "outputId": "524bebb4-91a2-4deb-8139-df0f9fa2cb00"
      },
      "outputs": [],
      "source": [
        "# output: d. An error defined by the function add_or_subtract() function\n",
        "#print(add_or_subtract(\"orange\"))"
      ]
    },
    {
      "cell_type": "code",
      "execution_count": 20,
      "metadata": {
        "colab": {
          "base_uri": "https://localhost:8080/",
          "height": 106
        },
        "id": "YmUkS2s5S2Ul",
        "outputId": "b9266f9a-46c7-4572-fa62-5478505cc581"
      },
      "outputs": [
        {
          "ename": "SystemExit",
          "evalue": "Please choose `add` or `subtract` as the type.",
          "output_type": "error",
          "traceback": [
            "An exception has occurred, use %tb to see the full traceback.\n",
            "\u001b[1;31mSystemExit\u001b[0m\u001b[1;31m:\u001b[0m Please choose `add` or `subtract` as the type.\n"
          ]
        }
      ],
      "source": [
        "# output: e. an error defined in a different function, which is called inside the add_or_subtract() function\n",
        "#print(add_or_subtract(5, 6, type = \"multiply\"))"
      ]
    },
    {
      "cell_type": "markdown",
      "metadata": {
        "id": "Z0_cVjgdpOSr"
      },
      "source": [
        "4. Consider the following code:"
      ]
    },
    {
      "cell_type": "code",
      "execution_count": 21,
      "metadata": {
        "id": "G4ImmGWGpekK"
      },
      "outputs": [],
      "source": [
        "first_num  = 5\n",
        "second_num = 3\n",
        "\n",
        "result = 8\n",
        "\n",
        "result = add_or_subtract(first_num, second_num = 4)\n",
        "\n",
        "result_2 = add_or_subtract(first_num)\n"
      ]
    },
    {
      "cell_type": "markdown",
      "metadata": {
        "id": "K0I7k29Qpjfo"
      },
      "source": [
        "\n",
        "In your Global Environment, what is the value of...\n",
        "\n",
        "a. `first_num`\n",
        "\n",
        "b. `second_num`\n",
        "\n",
        "c. `result`\n",
        "\n",
        "d. `result_2`"
      ]
    },
    {
      "cell_type": "markdown",
      "metadata": {},
      "source": [
        "In the global environment: \n",
        "\n",
        "a. first_num = 5\n",
        "b. second_num = 3 \n",
        "c. result = 9 \n",
        "d. result_2 = 5 "
      ]
    }
  ],
  "metadata": {
    "colab": {
      "provenance": []
    },
    "kernelspec": {
      "display_name": "Python 3",
      "name": "python3"
    },
    "language_info": {
      "codemirror_mode": {
        "name": "ipython",
        "version": 3
      },
      "file_extension": ".py",
      "mimetype": "text/x-python",
      "name": "python",
      "nbconvert_exporter": "python",
      "pygments_lexer": "ipython3",
      "version": "3.12.4"
    }
  },
  "nbformat": 4,
  "nbformat_minor": 0
}
