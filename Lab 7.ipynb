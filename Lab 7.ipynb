{
 "cells": [
  {
   "cell_type": "code",
   "execution_count": 2,
   "metadata": {},
   "outputs": [],
   "source": [
    "import pandas as pd \n",
    "import numpy as np \n",
    "from plotnine import *\n",
    "from sklearn.pipeline import Pipeline\n",
    "from sklearn.neighbors import KNeighborsClassifier\n",
    "from sklearn.neighbors import KNeighborsRegressor\n",
    "from sklearn.tree import DecisionTreeClassifier\n",
    "from sklearn.linear_model import LogisticRegression\n",
    "from sklearn.metrics import r2_score\n",
    "from sklearn.model_selection import GridSearchCV\n",
    "from sklearn.compose import make_column_selector, ColumnTransformer\n",
    "from sklearn.preprocessing import StandardScaler, OneHotEncoder, PolynomialFeatures\n",
    "from sklearn.model_selection import cross_val_score\n",
    "from sklearn.neighbors import KNeighborsClassifier\n",
    "from sklearn.tree import DecisionTreeClassifier\n",
    "from sklearn.metrics import roc_curve, roc_auc_score\n",
    "from sklearn.model_selection import train_test_split\n",
    "from sklearn.metrics import accuracy_score\n",
    "from sklearn.metrics import confusion_matrix\n",
    "from sklearn.metrics import precision_score\n",
    "from sklearn.metrics import recall_score\n",
    "from sklearn.metrics import f1_score\n",
    "from sklearn.metrics import classification_report\n",
    "from sklearn.model_selection import cross_val_predict"
   ]
  },
  {
   "cell_type": "code",
   "execution_count": 3,
   "metadata": {},
   "outputs": [
    {
     "data": {
      "text/html": [
       "<div>\n",
       "<style scoped>\n",
       "    .dataframe tbody tr th:only-of-type {\n",
       "        vertical-align: middle;\n",
       "    }\n",
       "\n",
       "    .dataframe tbody tr th {\n",
       "        vertical-align: top;\n",
       "    }\n",
       "\n",
       "    .dataframe thead th {\n",
       "        text-align: right;\n",
       "    }\n",
       "</style>\n",
       "<table border=\"1\" class=\"dataframe\">\n",
       "  <thead>\n",
       "    <tr style=\"text-align: right;\">\n",
       "      <th></th>\n",
       "      <th>age</th>\n",
       "      <th>sex</th>\n",
       "      <th>cp</th>\n",
       "      <th>trtbps</th>\n",
       "      <th>chol</th>\n",
       "      <th>restecg</th>\n",
       "      <th>thalach</th>\n",
       "      <th>output</th>\n",
       "    </tr>\n",
       "  </thead>\n",
       "  <tbody>\n",
       "    <tr>\n",
       "      <th>0</th>\n",
       "      <td>63</td>\n",
       "      <td>1</td>\n",
       "      <td>3</td>\n",
       "      <td>145</td>\n",
       "      <td>233</td>\n",
       "      <td>0</td>\n",
       "      <td>150</td>\n",
       "      <td>1</td>\n",
       "    </tr>\n",
       "    <tr>\n",
       "      <th>1</th>\n",
       "      <td>37</td>\n",
       "      <td>1</td>\n",
       "      <td>2</td>\n",
       "      <td>130</td>\n",
       "      <td>250</td>\n",
       "      <td>1</td>\n",
       "      <td>187</td>\n",
       "      <td>1</td>\n",
       "    </tr>\n",
       "    <tr>\n",
       "      <th>2</th>\n",
       "      <td>56</td>\n",
       "      <td>1</td>\n",
       "      <td>1</td>\n",
       "      <td>120</td>\n",
       "      <td>236</td>\n",
       "      <td>1</td>\n",
       "      <td>178</td>\n",
       "      <td>1</td>\n",
       "    </tr>\n",
       "    <tr>\n",
       "      <th>3</th>\n",
       "      <td>57</td>\n",
       "      <td>0</td>\n",
       "      <td>0</td>\n",
       "      <td>120</td>\n",
       "      <td>354</td>\n",
       "      <td>1</td>\n",
       "      <td>163</td>\n",
       "      <td>1</td>\n",
       "    </tr>\n",
       "    <tr>\n",
       "      <th>4</th>\n",
       "      <td>57</td>\n",
       "      <td>1</td>\n",
       "      <td>0</td>\n",
       "      <td>140</td>\n",
       "      <td>192</td>\n",
       "      <td>1</td>\n",
       "      <td>148</td>\n",
       "      <td>1</td>\n",
       "    </tr>\n",
       "  </tbody>\n",
       "</table>\n",
       "</div>"
      ],
      "text/plain": [
       "   age  sex  cp  trtbps  chol  restecg  thalach  output\n",
       "0   63    1   3     145   233        0      150       1\n",
       "1   37    1   2     130   250        1      187       1\n",
       "2   56    1   1     120   236        1      178       1\n",
       "3   57    0   0     120   354        1      163       1\n",
       "4   57    1   0     140   192        1      148       1"
      ]
     },
     "execution_count": null,
     "metadata": {},
     "output_type": "execute_result"
    }
   ],
   "source": [
    "ha = pd.read_csv(\"https://www.dropbox.com/s/aohbr6yb9ifmc8w/heart_attack.csv?dl=1\")\n",
    "ha.head()\n",
    "\n",
    "#sex, cp, restecg, output will need to be dummified "
   ]
  },
  {
   "cell_type": "markdown",
   "metadata": {},
   "source": [
    "## Part One: Fitting Models\n",
    "This section asks you to create a final best model for each of the model types studied this week. For each, you should:\n",
    "\n",
    "Find the best model based on ROC AUC for predicting the target variable.\n",
    "\n",
    "Report the (cross-validated!) ROC AUC metric.\n",
    "\n",
    "Fit the final model.\n",
    "\n",
    "Output a confusion matrix; that is, the counts of how many observations fell into each predicted class for each true class.\n",
    "\n",
    "(Where applicable) Interpret the coefficients and/or estimates produced by the model fit.\n",
    "\n",
    "You should certainly try multiple model pipelines to find the best model. You do not need to include the output for every attempted model, but you should describe all of the models explored. You should include any hyperparameter tuning steps in your writeup as well.\n",
    "\n",
    "#### Which predictors were most important to predicting heart attack risk? (output)\n",
    "\n",
    "#### Q1: KNN"
   ]
  },
  {
   "cell_type": "code",
   "execution_count": 13,
   "metadata": {},
   "outputs": [],
   "source": [
    "X = ha.drop([\"output\"], axis = 1)\n",
    "y = ha[\"output\"]\n",
    "X_train, X_test, y_train, y_test = train_test_split(X, y)"
   ]
  },
  {
   "cell_type": "code",
   "execution_count": 11,
   "metadata": {},
   "outputs": [],
   "source": [
    "#KNN \n",
    "\n",
    "ct = ColumnTransformer(\n",
    "  [\n",
    "    (\"dummify\",\n",
    "    OneHotEncoder(sparse_output = False, handle_unknown='ignore'),\n",
    "    make_column_selector(dtype_include = object)),\n",
    "    (\"standardize\",\n",
    "    StandardScaler(),\n",
    "    make_column_selector(dtype_include=np.number))\n",
    "  ],\n",
    "  remainder = \"passthrough\"\n",
    ")\n",
    "\n",
    "#KNN 5\n",
    "knn_pipeline = Pipeline(\n",
    "  [(\"preprocessing\", ct),\n",
    "  (\"knn\",  KNeighborsClassifier())]\n",
    ").set_output(transform = \"pandas\")"
   ]
  },
  {
   "cell_type": "code",
   "execution_count": 24,
   "metadata": {},
   "outputs": [
    {
     "name": "stdout",
     "output_type": "stream",
     "text": [
      "best_params {'knn__n_neighbors': 55}\n",
      "best_params {'knn__n_neighbors': 55}\n"
     ]
    }
   ],
   "source": [
    "# tune hyperparameter k\n",
    "param_grid1 = {\n",
    "    \"knn__n_neighbors\": [2, 5, 8, 10, 15, 18, 20, 25, 30, 35, 40, 45, 50, 55, 60, 100]\n",
    "}\n",
    "\n",
    "knn_grid_search = GridSearchCV(knn_pipeline, param_grid1, cv=5, scoring='roc_auc')\n",
    "\n",
    "knn_grid_search.fit(X, y)\n",
    "print(\"best_params\", knn_grid_search.best_params_)"
   ]
  },
  {
   "cell_type": "code",
   "execution_count": 25,
   "metadata": {},
   "outputs": [
    {
     "data": {
      "text/plain": [
       "array([[ 89,  38],\n",
       "       [ 23, 123]], dtype=int64)"
      ]
     },
     "execution_count": null,
     "metadata": {},
     "output_type": "execute_result"
    }
   ],
   "source": [
    "knn_pipeline.set_params(knn__n_neighbors = 55)\n",
    "\n",
    "knn_pipeline.fit(X_train, y_train)\n",
    "y_pred = cross_val_predict(knn_pipeline, X, y, cv=5)\n",
    "\n",
    "cm = confusion_matrix(y, y_pred)\n",
    "cm"
   ]
  },
  {
   "cell_type": "code",
   "execution_count": 26,
   "metadata": {},
   "outputs": [
    {
     "name": "stdout",
     "output_type": "stream",
     "text": [
      "roc auc for knn: 0.7716265774997304\n",
      "              precision    recall  f1-score   support\n",
      "\n",
      "           0       0.79      0.70      0.74       127\n",
      "           1       0.76      0.84      0.80       146\n",
      "\n",
      "    accuracy                           0.78       273\n",
      "   macro avg       0.78      0.77      0.77       273\n",
      "weighted avg       0.78      0.78      0.78       273\n",
      "\n",
      "roc auc for knn: 0.7716265774997304\n",
      "              precision    recall  f1-score   support\n",
      "\n",
      "           0       0.79      0.70      0.74       127\n",
      "           1       0.76      0.84      0.80       146\n",
      "\n",
      "    accuracy                           0.78       273\n",
      "   macro avg       0.78      0.77      0.77       273\n",
      "weighted avg       0.78      0.78      0.78       273\n",
      "\n"
     ]
    }
   ],
   "source": [
    "#print(accuracy_score(y, y_pred))\n",
    "print(\"roc auc for knn:\", roc_auc_score(y, y_pred))\n",
    "print(classification_report(y, y_pred))"
   ]
  },
  {
   "cell_type": "code",
   "execution_count": 22,
   "metadata": {},
   "outputs": [],
   "source": [
    "#logistic regression\n",
    "logr_pipeline = Pipeline(\n",
    "  [(\"preprocessing\", ct),\n",
    "  (\"logr\",  LogisticRegression())]\n",
    ").set_output(transform = \"pandas\")"
   ]
  },
  {
   "cell_type": "code",
   "execution_count": 32,
   "metadata": {},
   "outputs": [
    {
     "name": "stdout",
     "output_type": "stream",
     "text": [
      "best_params {'dtree__max_depth': 3, 'dtree__min_samples_leaf': 4, 'dtree__min_samples_split': 2}\n",
      "best_params {'dtree__max_depth': 3, 'dtree__min_samples_leaf': 4, 'dtree__min_samples_split': 2}\n"
     ]
    }
   ],
   "source": [
    "#Decision Tree\n",
    "param_grid2 = {\n",
    "    'dtree__max_depth': [3, 5, 10],\n",
    "    'dtree__min_samples_split': [2, 5, 10],\n",
    "    'dtree__min_samples_leaf': [1, 2, 4]\n",
    "}\n",
    "dtree_pipeline = Pipeline(\n",
    "  [(\"preprocessing\", ct),\n",
    "  (\"dtree\",  DecisionTreeClassifier())]\n",
    ").set_output(transform = \"pandas\")\n",
    "\n",
    "dtree_grid_search = GridSearchCV(dtree_pipeline, param_grid2, cv=5, scoring='roc_auc')\n",
    "\n",
    "dtree_grid_search.fit(X, y)\n",
    "print(\"best_params\", dtree_grid_search.best_params_)"
   ]
  },
  {
   "cell_type": "code",
   "execution_count": 54,
   "metadata": {},
   "outputs": [
    {
     "data": {
      "text/plain": [
       "array([[ 99,  28],\n",
       "       [ 37, 109]], dtype=int64)"
      ]
     },
     "execution_count": null,
     "metadata": {},
     "output_type": "execute_result"
    }
   ],
   "source": [
    "dtree_pipeline.set_params(dtree__max_depth = 3, dtree__min_samples_leaf = 4, dtree__min_samples_split = 2)\n",
    "\n",
    "dtree.fit(X_train, y_train)\n",
    "y_pred2 = cross_val_predict(best_dtree, X, y, cv=5)\n",
    "\n",
    "cm = confusion_matrix(y, y_pred2)\n",
    "cm"
   ]
  },
  {
   "cell_type": "code",
   "execution_count": 50,
   "metadata": {},
   "outputs": [
    {
     "name": "stdout",
     "output_type": "stream",
     "text": [
      "roc auc for dtree: 0.7630514507604358\n",
      "              precision    recall  f1-score   support\n",
      "\n",
      "           0       0.73      0.78      0.75       127\n",
      "           1       0.80      0.75      0.77       146\n",
      "\n",
      "    accuracy                           0.76       273\n",
      "   macro avg       0.76      0.76      0.76       273\n",
      "weighted avg       0.76      0.76      0.76       273\n",
      "\n",
      "roc auc for dtree: 0.7630514507604358\n",
      "              precision    recall  f1-score   support\n",
      "\n",
      "           0       0.73      0.78      0.75       127\n",
      "           1       0.80      0.75      0.77       146\n",
      "\n",
      "    accuracy                           0.76       273\n",
      "   macro avg       0.76      0.76      0.76       273\n",
      "weighted avg       0.76      0.76      0.76       273\n",
      "\n"
     ]
    }
   ],
   "source": [
    "print(\"roc auc for dtree:\", roc_auc_score(y, y_pred2))\n",
    "print(classification_report(y, y_pred2))"
   ]
  },
  {
   "cell_type": "code",
   "execution_count": null,
   "metadata": {},
   "outputs": [],
   "source": [
    "#knn importancces"
   ]
  },
  {
   "cell_type": "code",
   "execution_count": null,
   "metadata": {},
   "outputs": [],
   "source": [
    "#log regression importances"
   ]
  },
  {
   "cell_type": "code",
   "execution_count": 57,
   "metadata": {},
   "outputs": [
    {
     "data": {
      "text/html": [
       "<div>\n",
       "<style scoped>\n",
       "    .dataframe tbody tr th:only-of-type {\n",
       "        vertical-align: middle;\n",
       "    }\n",
       "\n",
       "    .dataframe tbody tr th {\n",
       "        vertical-align: top;\n",
       "    }\n",
       "\n",
       "    .dataframe thead th {\n",
       "        text-align: right;\n",
       "    }\n",
       "</style>\n",
       "<table border=\"1\" class=\"dataframe\">\n",
       "  <thead>\n",
       "    <tr style=\"text-align: right;\">\n",
       "      <th></th>\n",
       "      <th>Feature</th>\n",
       "      <th>Importance</th>\n",
       "    </tr>\n",
       "  </thead>\n",
       "  <tbody>\n",
       "    <tr>\n",
       "      <th>2</th>\n",
       "      <td>standardize__cp</td>\n",
       "      <td>0.584983</td>\n",
       "    </tr>\n",
       "    <tr>\n",
       "      <th>0</th>\n",
       "      <td>standardize__age</td>\n",
       "      <td>0.156569</td>\n",
       "    </tr>\n",
       "    <tr>\n",
       "      <th>6</th>\n",
       "      <td>standardize__thalach</td>\n",
       "      <td>0.116935</td>\n",
       "    </tr>\n",
       "    <tr>\n",
       "      <th>1</th>\n",
       "      <td>standardize__sex</td>\n",
       "      <td>0.102721</td>\n",
       "    </tr>\n",
       "    <tr>\n",
       "      <th>3</th>\n",
       "      <td>standardize__trtbps</td>\n",
       "      <td>0.038793</td>\n",
       "    </tr>\n",
       "    <tr>\n",
       "      <th>4</th>\n",
       "      <td>standardize__chol</td>\n",
       "      <td>0.000000</td>\n",
       "    </tr>\n",
       "    <tr>\n",
       "      <th>5</th>\n",
       "      <td>standardize__restecg</td>\n",
       "      <td>0.000000</td>\n",
       "    </tr>\n",
       "  </tbody>\n",
       "</table>\n",
       "</div>"
      ],
      "text/plain": [
       "                Feature  Importance\n",
       "2       standardize__cp    0.584983\n",
       "0      standardize__age    0.156569\n",
       "6  standardize__thalach    0.116935\n",
       "1      standardize__sex    0.102721\n",
       "3   standardize__trtbps    0.038793\n",
       "4     standardize__chol    0.000000\n",
       "5  standardize__restecg    0.000000"
      ]
     },
     "execution_count": null,
     "metadata": {},
     "output_type": "execute_result"
    }
   ],
   "source": [
    "#dtree importances\n",
    "best_dtree = dtree_grid_search.best_estimator_.named_steps['dtree']\n",
    "\n",
    "if hasattr(ct, \"get_feature_names_out\"):\n",
    "    feature_names = ct.get_feature_names_out()\n",
    "else:\n",
    "    feature_names = X_train.columns  # Fallback if no transformations were applied\n",
    "\n",
    "importances = best_dtree.feature_importances_\n",
    "feature_importances = pd.DataFrame({'Feature': feature_names, 'Importance': importances})\n",
    "feature_importances = feature_importances.sort_values(by='Importance', ascending=False)\n",
    "feature_importances"
   ]
  },
  {
   "cell_type": "markdown",
   "metadata": {},
   "source": [
    "## Q4: Interpretation\n",
    "\n",
    "Which predictors were most important to predicting heart attack risk? "
   ]
  },
  {
   "cell_type": "code",
   "execution_count": null,
   "metadata": {},
   "outputs": [],
   "source": []
  }
 ],
 "metadata": {
  "language_info": {
   "name": "python"
  }
 },
 "nbformat": 4,
 "nbformat_minor": 2
}
