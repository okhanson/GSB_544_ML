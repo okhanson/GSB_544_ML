{
  "cells": [
    {
      "cell_type": "code",
      "source": [
        "def sing_verse_3(num, drink, container):\n",
        "  song = \"{num} {container} of {drink} on the wall \\n {num} + {container} of {drink} \\n take one down, pass it around, \\n {str(num-1)} {container} of {drink} on the wall \\n\"\n",
        "  song = song.format(num=num, drink=drink, container=container)\n",
        "\n",
        "  return song\n",
        "\n"
      ],
      "metadata": {
        "id": "NwWn3VkSQEk_"
      },
      "execution_count": null,
      "outputs": []
    },
    {
      "cell_type": "code",
      "source": [
        "import re"
      ],
      "metadata": {
        "id": "wGhnBW_OSutv"
      },
      "execution_count": null,
      "outputs": []
    },
    {
      "cell_type": "code",
      "source": [
        "nursery_rhyme = \"Peter Piper picked a peck of pickled peppers, A peck of pickled peppers Peter Piper picked; If Peter Piper picked a peck of pickled peppers, Where’s the peck of pickled peppers Peter Piper picked?\"\n",
        "\n",
        "nursery_rhyme\n"
      ],
      "metadata": {
        "colab": {
          "base_uri": "https://localhost:8080/"
        },
        "id": "R1ls6wynSwsZ",
        "outputId": "13bbfda2-a451-42b0-b467-b27327b594dd"
      },
      "execution_count": null,
      "outputs": [
        {
          "output_type": "execute_result",
          "data": {
            "text/plain": [
              "['P']"
            ]
          },
          "metadata": {},
          "execution_count": 45
        }
      ]
    },
    {
      "cell_type": "code",
      "source": [
        "moses_string = \"Moses supposes his toeses are roses, but Moses supposes erroneously.  Moses he knowses his toeses aren't roses, as Moses supposes his toeses to be.\"\n"
      ],
      "metadata": {
        "id": "fx5Yz_Y5X1JB"
      },
      "execution_count": null,
      "outputs": []
    },
    {
      "cell_type": "markdown",
      "source": [
        "Use repetition to find all the rhyming words in the Moses rhyme.\n",
        "\n",
        "Hint: Don’t forget “toeses”! How can you make the “e” optional, to match “-oses” or “-oeses” or “-owses”?"
      ],
      "metadata": {
        "id": "dzlwN6hdZq1H"
      }
    },
    {
      "cell_type": "code",
      "source": [
        "re.findall(r\"\\w*oe?ses\", moses_string)\n"
      ],
      "metadata": {
        "colab": {
          "base_uri": "https://localhost:8080/"
        },
        "id": "xhsjbRn9ZmC2",
        "outputId": "ab5955f5-6bb4-4428-b78f-bbaa211555b5"
      },
      "execution_count": null,
      "outputs": [
        {
          "output_type": "execute_result",
          "data": {
            "text/plain": [
              "['Moses',\n",
              " 'supposes',\n",
              " 'toeses',\n",
              " 'roses',\n",
              " 'Moses',\n",
              " 'supposes',\n",
              " 'Moses',\n",
              " 'toeses',\n",
              " 'roses',\n",
              " 'Moses',\n",
              " 'supposes',\n",
              " 'toeses']"
            ]
          },
          "metadata": {},
          "execution_count": 38
        }
      ]
    },
    {
      "cell_type": "markdown",
      "metadata": {
        "id": "kPj76X_FP2uq"
      },
      "source": [
        "## Setup\n",
        "\n",
        "Run the code below to load the scrambled message:\n"
      ]
    },
    {
      "cell_type": "code",
      "metadata": {
        "id": "YwkYMR2qP2ur"
      },
      "source": [
        "import pandas as pd\n",
        "\n",
        "message = pd.read_csv(\"https://www.dropbox.com/s/lgpn3vmksk3ssdo/scrambled_message.txt?dl=1\")['Word']"
      ],
      "execution_count": 2,
      "outputs": []
    },
    {
      "cell_type": "code",
      "source": [
        "message"
      ],
      "metadata": {
        "id": "rqykaCOxF1Z9",
        "outputId": "19b81d87-264a-4b1c-ea6f-a924069f1a25",
        "colab": {
          "base_uri": "https://localhost:8080/",
          "height": 458
        }
      },
      "execution_count": null,
      "outputs": [
        {
          "output_type": "execute_result",
          "data": {
            "text/plain": [
              "0                    Koila!\n",
              "1                     In   \n",
              "2                     kiew,\n",
              "3                         a\n",
              "4                 humble   \n",
              "               ...         \n",
              "122                     you\n",
              "123                 mabugh.\n",
              "124              ughhh?call\n",
              "125        meugh.ughhhh!   \n",
              "126                      K.\n",
              "Name: Word, Length: 127, dtype: object"
            ],
            "text/html": [
              "<div>\n",
              "<style scoped>\n",
              "    .dataframe tbody tr th:only-of-type {\n",
              "        vertical-align: middle;\n",
              "    }\n",
              "\n",
              "    .dataframe tbody tr th {\n",
              "        vertical-align: top;\n",
              "    }\n",
              "\n",
              "    .dataframe thead th {\n",
              "        text-align: right;\n",
              "    }\n",
              "</style>\n",
              "<table border=\"1\" class=\"dataframe\">\n",
              "  <thead>\n",
              "    <tr style=\"text-align: right;\">\n",
              "      <th></th>\n",
              "      <th>Word</th>\n",
              "    </tr>\n",
              "  </thead>\n",
              "  <tbody>\n",
              "    <tr>\n",
              "      <th>0</th>\n",
              "      <td>Koila!</td>\n",
              "    </tr>\n",
              "    <tr>\n",
              "      <th>1</th>\n",
              "      <td>In</td>\n",
              "    </tr>\n",
              "    <tr>\n",
              "      <th>2</th>\n",
              "      <td>kiew,</td>\n",
              "    </tr>\n",
              "    <tr>\n",
              "      <th>3</th>\n",
              "      <td>a</td>\n",
              "    </tr>\n",
              "    <tr>\n",
              "      <th>4</th>\n",
              "      <td>humble</td>\n",
              "    </tr>\n",
              "    <tr>\n",
              "      <th>...</th>\n",
              "      <td>...</td>\n",
              "    </tr>\n",
              "    <tr>\n",
              "      <th>122</th>\n",
              "      <td>you</td>\n",
              "    </tr>\n",
              "    <tr>\n",
              "      <th>123</th>\n",
              "      <td>mabugh.</td>\n",
              "    </tr>\n",
              "    <tr>\n",
              "      <th>124</th>\n",
              "      <td>ughhh?call</td>\n",
              "    </tr>\n",
              "    <tr>\n",
              "      <th>125</th>\n",
              "      <td>meugh.ughhhh!</td>\n",
              "    </tr>\n",
              "    <tr>\n",
              "      <th>126</th>\n",
              "      <td>K.</td>\n",
              "    </tr>\n",
              "  </tbody>\n",
              "</table>\n",
              "<p>127 rows × 1 columns</p>\n",
              "</div><br><label><b>dtype:</b> object</label>"
            ]
          },
          "metadata": {},
          "execution_count": 2
        }
      ]
    },
    {
      "cell_type": "markdown",
      "metadata": {
        "id": "cI8ZE3LAP2us"
      },
      "source": [
        "In this activity, a \"word\" refers to any set of characters with no white space, even though they are not truly an English word.  That is, even though many of elements of the scrambled message vector are nonsense, and some have punctuation, you can consider each element to be a \"word\".\n",
        "\n",
        "Beware!  The object named `message` is a **pandas Series** of strings.  If you want to use functions that expect a string, rather than a series, remember `.apply()` and `lambda` functions.\n",
        "\n"
      ]
    },
    {
      "cell_type": "markdown",
      "source": [
        "\n",
        "## Warm-up exercises\n",
        "\n",
        "1. How many characters are in the scrambled message?\n",
        "2. How many of these characters are white space?\n",
        "3. How many words are in the scrambled message?\n",
        "4. Show all the punctuation marks in the scrambled message.\n",
        "5. Print out, in all capitals, the longest word in the scrambled message.\n",
        "6. Print out every piece of a word that starts with the letter \"m\" and ends with the letter \"z\" in the scrambled message."
      ],
      "metadata": {
        "id": "dYISAD8uQLAy"
      }
    },
    {
      "cell_type": "code",
      "source": [
        "total_characters = message.apply(lambda x: len(x)).sum()\n",
        "total_characters"
      ],
      "metadata": {
        "id": "6vB1tbjiQNvE",
        "colab": {
          "base_uri": "https://localhost:8080/"
        },
        "outputId": "ca202f92-1782-4eaa-a63e-eb108cd64649"
      },
      "execution_count": 3,
      "outputs": [
        {
          "output_type": "stream",
          "name": "stdout",
          "text": [
            "2544\n"
          ]
        }
      ]
    },
    {
      "cell_type": "code",
      "source": [
        "whitespace_count = message.apply(lambda x: x.count(' ')).sum()\n",
        "whitespace_count"
      ],
      "metadata": {
        "colab": {
          "base_uri": "https://localhost:8080/"
        },
        "id": "PsvZZanlzKtt",
        "outputId": "acb5a53d-77b1-4938-ddfd-6b2e36d2556b"
      },
      "execution_count": 6,
      "outputs": [
        {
          "output_type": "stream",
          "name": "stdout",
          "text": [
            "1652\n"
          ]
        }
      ]
    },
    {
      "cell_type": "code",
      "source": [
        "word_count = len(message)\n",
        "word_count\n"
      ],
      "metadata": {
        "colab": {
          "base_uri": "https://localhost:8080/"
        },
        "id": "Tjjawnfm0gvg",
        "outputId": "c32e99c8-3911-46b7-9ef8-9fa1b6365319"
      },
      "execution_count": 7,
      "outputs": [
        {
          "output_type": "stream",
          "name": "stdout",
          "text": [
            "127\n"
          ]
        }
      ]
    },
    {
      "cell_type": "code",
      "source": [
        "punctuation_marks = set()\n",
        "for word in message:\n",
        "  for char in word:\n",
        "    if char in string.punctuation:\n",
        "      punctuation_marks.add(char)\n",
        "punctuation_marks\n"
      ],
      "metadata": {
        "colab": {
          "base_uri": "https://localhost:8080/"
        },
        "id": "p2glQhEX0jCV",
        "outputId": "5df35133-1709-4b27-99f8-35362e697e55"
      },
      "execution_count": 17,
      "outputs": [
        {
          "output_type": "execute_result",
          "data": {
            "text/plain": [
              "{'!', ',', '.', ';'}"
            ]
          },
          "metadata": {},
          "execution_count": 17
        }
      ]
    },
    {
      "cell_type": "code",
      "source": [
        "longest_word = max(message, key=len)\n",
        "longest_word.upper"
      ],
      "metadata": {
        "colab": {
          "base_uri": "https://localhost:8080/"
        },
        "id": "07lr62Y60okP",
        "outputId": "6b0b253a-1e45-4baa-a488-4f777ab5f8e2"
      },
      "execution_count": 10,
      "outputs": [
        {
          "output_type": "stream",
          "name": "stdout",
          "text": [
            "KAUDEVILLIANUGH?AOGHAJDBN\n"
          ]
        }
      ]
    },
    {
      "cell_type": "code",
      "source": [
        "# 6. Print out every piece of a word that starts with the letter \"m\" and ends with the letter \"z\" in the scrambled message.\n",
        "import re\n",
        "for word in message:\n",
        "  matches = re.findall(r\"m.*z\", word)\n",
        "  for match in matches:\n",
        "    print(match)"
      ],
      "metadata": {
        "colab": {
          "base_uri": "https://localhost:8080/"
        },
        "id": "St3kwn6X0p8I",
        "outputId": "f541f060-7fc2-470d-8855-c67635dd9d21"
      },
      "execution_count": 11,
      "outputs": [
        {
          "output_type": "stream",
          "name": "stdout",
          "text": [
            "mosz\n",
            "maaz\n"
          ]
        }
      ]
    },
    {
      "cell_type": "markdown",
      "source": [
        "\n",
        "\n",
        "## Decode a message\n",
        "\n",
        "Complete the following steps to decode the message.  \n",
        "\n",
        "1. Remove any spaces before or after each word.\n",
        "2. Any time you see the word \"ugh\", with any number of h's, followed by a punctuation mark, delete this.\n",
        "3. No word should be longer than 16 characters. Drop all extra characters beyond 13 off the end of each word.\n",
        "4. Replace all instances of exactly 2 a's with exactly 2 e's.\n",
        "5. Replace all z's with t's.\n",
        "6. Every word that ends in b, change that to a y.  *Hint: look out for punctuation!*\n",
        "7. Every word that starts with k, change that to a v.  *Hint: look out for capitalization!*\n",
        "8. Use `.join()` to recombine all your words into a message.\n",
        "9. Find the movie this quote is from."
      ],
      "metadata": {
        "id": "l3iJnnCJQOh7"
      }
    },
    {
      "cell_type": "code",
      "source": [
        "message1 = [x.strip() for x in message]\n",
        "message2 = [re.sub(r\"ugh+h[\\.,;:!?]\", \"\", x) for x in message1]\n",
        "message3 = [x[:13] if len(x) > 13 else x for x in message2]\n",
        "message4 = [x.replace(\"aa\", \"ee\") for x in message3]\n",
        "message5 = [x.replace(\"z\", \"t\") for x in message4]\n",
        "message6 = [x[:-1] + 'y' if x.endswith('b') else x for x in message5]\n",
        "message7 = ['v' + x[1:] if x.lower().startswith('k') else x for x in message6]\n",
        "\n",
        "decoded_message = \" \".join(message7)\n",
        "print(decoded_message)\n"
      ],
      "metadata": {
        "id": "RRfjUzxMQQ5j",
        "colab": {
          "base_uri": "https://localhost:8080/"
        },
        "outputId": "279c7c8f-f000-4932-f181-146a791af149"
      },
      "execution_count": 15,
      "outputs": [
        {
          "output_type": "stream",
          "name": "stdout",
          "text": [
            "voila! In view, a humble vaudevilliana veteran, cast vicariously as both victim and villain by the vicissitudes of fate. This visage, no mere veneer of vanity, is a vestige of the vox populi now vacant, vanished. However, this valorous visitation of a bygone vexation stands vivified, and has vowed to vanquish these venal and virulent vermin, van guarding vice and vouchsafing the violently vicious and voracious violation of volition. The only verdict is vengeance; a vendetta, held as a votive not in vain, for the value and veracity of such shall one day vindicate the vigilant and the virtuous. verily this vichyssoise of verbiage veers most verbose, so let me simply add that its my very good honour to meet you and you may call me v.\n"
          ]
        }
      ]
    }
  ],
  "metadata": {
    "kernelspec": {
      "display_name": "Python 3",
      "language": "python",
      "name": "python3"
    },
    "colab": {
      "provenance": []
    }
  },
  "nbformat": 4,
  "nbformat_minor": 0
}