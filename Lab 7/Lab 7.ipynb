{
 "cells": [
  {
   "cell_type": "raw",
   "metadata": {
    "vscode": {
     "languageId": "raw"
    }
   },
   "source": [
    "---\n",
    "title: \"Lab 7: Heart Attack\"\n",
    "author: \"Owen Hanson\"\n",
    "date: \"2024-11-25\"\n",
    "output: \n",
    "    html:\n",
    "        theme: \"cosmo\"\n",
    "embed-resources: true\n",
    "---"
   ]
  },
  {
   "cell_type": "code",
   "execution_count": 2,
   "metadata": {},
   "outputs": [],
   "source": [
    "import pandas as pd \n",
    "import numpy as np \n",
    "from plotnine import *\n",
    "from sklearn.pipeline import Pipeline\n",
    "from sklearn.neighbors import KNeighborsClassifier\n",
    "from sklearn.neighbors import KNeighborsRegressor\n",
    "from sklearn.tree import DecisionTreeClassifier\n",
    "from sklearn.linear_model import LogisticRegression\n",
    "from sklearn.metrics import r2_score\n",
    "from sklearn.model_selection import GridSearchCV\n",
    "from sklearn.compose import make_column_selector, ColumnTransformer\n",
    "from sklearn.preprocessing import StandardScaler, OneHotEncoder, PolynomialFeatures\n",
    "from sklearn.model_selection import cross_val_score\n",
    "from sklearn.neighbors import KNeighborsClassifier\n",
    "from sklearn.tree import DecisionTreeClassifier\n",
    "from sklearn.metrics import roc_curve, roc_auc_score\n",
    "from sklearn.model_selection import train_test_split\n",
    "from sklearn.metrics import accuracy_score\n",
    "from sklearn.metrics import confusion_matrix\n",
    "from sklearn.metrics import precision_score\n",
    "from sklearn.metrics import recall_score\n",
    "from sklearn.metrics import f1_score\n",
    "from sklearn.metrics import classification_report\n",
    "from sklearn.model_selection import cross_val_predict"
   ]
  },
  {
   "cell_type": "code",
   "execution_count": 3,
   "metadata": {},
   "outputs": [
    {
     "data": {
      "text/html": [
       "<div>\n",
       "<style scoped>\n",
       "    .dataframe tbody tr th:only-of-type {\n",
       "        vertical-align: middle;\n",
       "    }\n",
       "\n",
       "    .dataframe tbody tr th {\n",
       "        vertical-align: top;\n",
       "    }\n",
       "\n",
       "    .dataframe thead th {\n",
       "        text-align: right;\n",
       "    }\n",
       "</style>\n",
       "<table border=\"1\" class=\"dataframe\">\n",
       "  <thead>\n",
       "    <tr style=\"text-align: right;\">\n",
       "      <th></th>\n",
       "      <th>age</th>\n",
       "      <th>sex</th>\n",
       "      <th>cp</th>\n",
       "      <th>trtbps</th>\n",
       "      <th>chol</th>\n",
       "      <th>restecg</th>\n",
       "      <th>thalach</th>\n",
       "      <th>output</th>\n",
       "    </tr>\n",
       "  </thead>\n",
       "  <tbody>\n",
       "    <tr>\n",
       "      <th>0</th>\n",
       "      <td>63</td>\n",
       "      <td>1</td>\n",
       "      <td>3</td>\n",
       "      <td>145</td>\n",
       "      <td>233</td>\n",
       "      <td>0</td>\n",
       "      <td>150</td>\n",
       "      <td>1</td>\n",
       "    </tr>\n",
       "    <tr>\n",
       "      <th>1</th>\n",
       "      <td>37</td>\n",
       "      <td>1</td>\n",
       "      <td>2</td>\n",
       "      <td>130</td>\n",
       "      <td>250</td>\n",
       "      <td>1</td>\n",
       "      <td>187</td>\n",
       "      <td>1</td>\n",
       "    </tr>\n",
       "    <tr>\n",
       "      <th>2</th>\n",
       "      <td>56</td>\n",
       "      <td>1</td>\n",
       "      <td>1</td>\n",
       "      <td>120</td>\n",
       "      <td>236</td>\n",
       "      <td>1</td>\n",
       "      <td>178</td>\n",
       "      <td>1</td>\n",
       "    </tr>\n",
       "    <tr>\n",
       "      <th>3</th>\n",
       "      <td>57</td>\n",
       "      <td>0</td>\n",
       "      <td>0</td>\n",
       "      <td>120</td>\n",
       "      <td>354</td>\n",
       "      <td>1</td>\n",
       "      <td>163</td>\n",
       "      <td>1</td>\n",
       "    </tr>\n",
       "    <tr>\n",
       "      <th>4</th>\n",
       "      <td>57</td>\n",
       "      <td>1</td>\n",
       "      <td>0</td>\n",
       "      <td>140</td>\n",
       "      <td>192</td>\n",
       "      <td>1</td>\n",
       "      <td>148</td>\n",
       "      <td>1</td>\n",
       "    </tr>\n",
       "  </tbody>\n",
       "</table>\n",
       "</div>"
      ],
      "text/plain": [
       "   age  sex  cp  trtbps  chol  restecg  thalach  output\n",
       "0   63    1   3     145   233        0      150       1\n",
       "1   37    1   2     130   250        1      187       1\n",
       "2   56    1   1     120   236        1      178       1\n",
       "3   57    0   0     120   354        1      163       1\n",
       "4   57    1   0     140   192        1      148       1"
      ]
     },
     "execution_count": 3,
     "metadata": {},
     "output_type": "execute_result"
    }
   ],
   "source": [
    "ha = pd.read_csv(\"https://www.dropbox.com/s/aohbr6yb9ifmc8w/heart_attack.csv?dl=1\")\n",
    "ha.head()\n",
    "\n",
    "#sex, cp, restecg, output will need to be dummified "
   ]
  },
  {
   "cell_type": "markdown",
   "metadata": {},
   "source": [
    "## Part One: Fitting Models\n",
    "This section asks you to create a final best model for each of the model types studied this week. For each, you should:\n",
    "\n",
    "Find the best model based on ROC AUC for predicting the target variable.\n",
    "\n",
    "Report the (cross-validated!) ROC AUC metric.\n",
    "\n",
    "Fit the final model.\n",
    "\n",
    "Output a confusion matrix; that is, the counts of how many observations fell into each predicted class for each true class.\n",
    "\n",
    "(Where applicable) Interpret the coefficients and/or estimates produced by the model fit.\n",
    "\n",
    "You should certainly try multiple model pipelines to find the best model. You do not need to include the output for every attempted model, but you should describe all of the models explored. You should include any hyperparameter tuning steps in your writeup as well.\n",
    "\n",
    "#### Which predictors were most important to predicting heart attack risk? (output)\n",
    "\n",
    "#### Q1: KNN"
   ]
  },
  {
   "cell_type": "code",
   "execution_count": 4,
   "metadata": {},
   "outputs": [],
   "source": [
    "X = ha.drop([\"output\"], axis = 1)\n",
    "y = ha[\"output\"]\n",
    "X_train, X_test, y_train, y_test = train_test_split(X, y)"
   ]
  },
  {
   "cell_type": "code",
   "execution_count": 5,
   "metadata": {},
   "outputs": [],
   "source": [
    "#KNN \n",
    "\n",
    "ct = ColumnTransformer(\n",
    "  [\n",
    "    (\"dummify\",\n",
    "    OneHotEncoder(sparse_output = False, handle_unknown='ignore'),\n",
    "    make_column_selector(dtype_include = object)),\n",
    "    (\"standardize\",\n",
    "    StandardScaler(),\n",
    "    make_column_selector(dtype_include=np.number))\n",
    "  ],\n",
    "  remainder = \"passthrough\"\n",
    ")\n",
    "\n",
    "#KNN 5\n",
    "knn_pipeline = Pipeline(\n",
    "  [(\"preprocessing\", ct),\n",
    "  (\"knn\",  KNeighborsClassifier())]\n",
    ").set_output(transform = \"pandas\")"
   ]
  },
  {
   "cell_type": "code",
   "execution_count": 12,
   "metadata": {},
   "outputs": [
    {
     "name": "stdout",
     "output_type": "stream",
     "text": [
      "best_params {'knn__n_neighbors': 35}\n"
     ]
    }
   ],
   "source": [
    "# tune hyperparameter k\n",
    "param_grid1 = {\n",
    "    \"knn__n_neighbors\": [2, 5, 8, 10, 15, 18, 20, 25, 30, 35, 40, 45, 50, 55, 60, 100]\n",
    "}\n",
    "\n",
    "knn_grid_search = GridSearchCV(knn_pipeline, param_grid1, cv=5, scoring='roc_auc')\n",
    "\n",
    "knn_grid_search.fit(X_train, y_train)\n",
    "print(\"best_params\", knn_grid_search.best_params_)"
   ]
  },
  {
   "cell_type": "code",
   "execution_count": 14,
   "metadata": {},
   "outputs": [
    {
     "data": {
      "text/plain": [
       "array([[16, 14],\n",
       "       [ 1, 38]], dtype=int64)"
      ]
     },
     "execution_count": 14,
     "metadata": {},
     "output_type": "execute_result"
    }
   ],
   "source": [
    "knn_pipeline.set_params(knn__n_neighbors = 35)\n",
    "\n",
    "knn_pipeline.fit(X_train, y_train)\n",
    "y_pred = cross_val_predict(knn_pipeline, X_test, y_test, cv=5)\n",
    "\n",
    "cm = confusion_matrix(y_test, y_pred)\n",
    "cm"
   ]
  },
  {
   "cell_type": "code",
   "execution_count": 15,
   "metadata": {},
   "outputs": [
    {
     "name": "stdout",
     "output_type": "stream",
     "text": [
      "roc auc for knn: 0.7538461538461538\n",
      "              precision    recall  f1-score   support\n",
      "\n",
      "           0       0.94      0.53      0.68        30\n",
      "           1       0.73      0.97      0.84        39\n",
      "\n",
      "    accuracy                           0.78        69\n",
      "   macro avg       0.84      0.75      0.76        69\n",
      "weighted avg       0.82      0.78      0.77        69\n",
      "\n"
     ]
    }
   ],
   "source": [
    "#print(accuracy_score(y, y_pred))\n",
    "print(\"roc auc for knn:\", roc_auc_score(y_test, y_pred))\n",
    "print(classification_report(y_test, y_pred))"
   ]
  },
  {
   "cell_type": "code",
   "execution_count": 16,
   "metadata": {},
   "outputs": [
    {
     "name": "stdout",
     "output_type": "stream",
     "text": [
      "best_params {'logr__C': 0.01}\n"
     ]
    }
   ],
   "source": [
    "#logistic regression \n",
    "param_gridlr = {'logr__C': [0.01, 0.1, 1, 10, 100]}\n",
    "\n",
    "logr_pipeline = Pipeline(\n",
    "  [(\"preprocessing\", ct),\n",
    "  (\"logr\",  LogisticRegression())]\n",
    ").set_output(transform = \"pandas\")\n",
    "\n",
    "logr_grid_search = GridSearchCV(logr_pipeline, param_gridlr, cv = 5, scoring = 'roc_auc')\n",
    "\n",
    "logr_grid_search.fit(X_train,y_train)\n",
    "print(\"best_params\", logr_grid_search.best_params_)"
   ]
  },
  {
   "cell_type": "code",
   "execution_count": 17,
   "metadata": {},
   "outputs": [
    {
     "data": {
      "text/plain": [
       "array([[12, 18],\n",
       "       [ 0, 39]], dtype=int64)"
      ]
     },
     "execution_count": 17,
     "metadata": {},
     "output_type": "execute_result"
    }
   ],
   "source": [
    "logr_pipeline.set_params(logr__C = .01)\n",
    "\n",
    "logr_pipeline.fit(X_train, y_train)\n",
    "y_pred3 = cross_val_predict(logr_pipeline, X_test, y_test, cv=5)\n",
    "\n",
    "cm3 = confusion_matrix(y_test, y_pred3)\n",
    "cm3"
   ]
  },
  {
   "cell_type": "code",
   "execution_count": 19,
   "metadata": {},
   "outputs": [
    {
     "name": "stdout",
     "output_type": "stream",
     "text": [
      "roc auc for logr: 0.7\n",
      "              precision    recall  f1-score   support\n",
      "\n",
      "           0       1.00      0.40      0.57        30\n",
      "           1       0.68      1.00      0.81        39\n",
      "\n",
      "    accuracy                           0.74        69\n",
      "   macro avg       0.84      0.70      0.69        69\n",
      "weighted avg       0.82      0.74      0.71        69\n",
      "\n"
     ]
    }
   ],
   "source": [
    "print(\"roc auc for logr:\", roc_auc_score(y_test, y_pred3))\n",
    "print(classification_report(y_test, y_pred3))"
   ]
  },
  {
   "cell_type": "code",
   "execution_count": 20,
   "metadata": {},
   "outputs": [
    {
     "name": "stdout",
     "output_type": "stream",
     "text": [
      "best_params {'dtree__max_depth': 5, 'dtree__min_samples_leaf': 2, 'dtree__min_samples_split': 5}\n"
     ]
    }
   ],
   "source": [
    "#Decision Tree\n",
    "param_grid2 = {\n",
    "    'dtree__max_depth': [3, 5, 10],\n",
    "    'dtree__min_samples_split': [2, 5, 10],\n",
    "    'dtree__min_samples_leaf': [1, 2, 4]\n",
    "}\n",
    "dtree_pipeline = Pipeline(\n",
    "  [(\"preprocessing\", ct),\n",
    "  (\"dtree\",  DecisionTreeClassifier())]\n",
    ").set_output(transform = \"pandas\")\n",
    "\n",
    "dtree_grid_search = GridSearchCV(dtree_pipeline, param_grid2, cv=5, scoring='roc_auc')\n",
    "\n",
    "dtree_grid_search.fit(X_train, y_train)\n",
    "print(\"best_params\", dtree_grid_search.best_params_)"
   ]
  },
  {
   "cell_type": "code",
   "execution_count": 21,
   "metadata": {},
   "outputs": [
    {
     "data": {
      "text/plain": [
       "array([[23,  7],\n",
       "       [ 9, 30]], dtype=int64)"
      ]
     },
     "execution_count": 21,
     "metadata": {},
     "output_type": "execute_result"
    }
   ],
   "source": [
    "dtree_pipeline.set_params(dtree__max_depth = 5, dtree__min_samples_leaf = 2, dtree__min_samples_split = 5)\n",
    "\n",
    "dtree_pipeline.fit(X_train, y_train)\n",
    "y_pred2 = cross_val_predict(dtree_pipeline, X_test, y_test, cv=5)\n",
    "\n",
    "cm = confusion_matrix(y_test, y_pred2)\n",
    "cm"
   ]
  },
  {
   "cell_type": "code",
   "execution_count": 22,
   "metadata": {},
   "outputs": [
    {
     "name": "stdout",
     "output_type": "stream",
     "text": [
      "roc auc for dtree: 0.7679487179487179\n",
      "              precision    recall  f1-score   support\n",
      "\n",
      "           0       0.72      0.77      0.74        30\n",
      "           1       0.81      0.77      0.79        39\n",
      "\n",
      "    accuracy                           0.77        69\n",
      "   macro avg       0.76      0.77      0.77        69\n",
      "weighted avg       0.77      0.77      0.77        69\n",
      "\n"
     ]
    }
   ],
   "source": [
    "print(\"roc auc for dtree:\", roc_auc_score(y_test, y_pred2))\n",
    "print(classification_report(y_test, y_pred2))"
   ]
  },
  {
   "cell_type": "code",
   "execution_count": 23,
   "metadata": {},
   "outputs": [
    {
     "data": {
      "text/html": [
       "<div>\n",
       "<style scoped>\n",
       "    .dataframe tbody tr th:only-of-type {\n",
       "        vertical-align: middle;\n",
       "    }\n",
       "\n",
       "    .dataframe tbody tr th {\n",
       "        vertical-align: top;\n",
       "    }\n",
       "\n",
       "    .dataframe thead th {\n",
       "        text-align: right;\n",
       "    }\n",
       "</style>\n",
       "<table border=\"1\" class=\"dataframe\">\n",
       "  <thead>\n",
       "    <tr style=\"text-align: right;\">\n",
       "      <th></th>\n",
       "      <th>Feature</th>\n",
       "      <th>Importance</th>\n",
       "    </tr>\n",
       "  </thead>\n",
       "  <tbody>\n",
       "    <tr>\n",
       "      <th>2</th>\n",
       "      <td>standardize__cp</td>\n",
       "      <td>0.339354</td>\n",
       "    </tr>\n",
       "    <tr>\n",
       "      <th>3</th>\n",
       "      <td>standardize__trtbps</td>\n",
       "      <td>0.200336</td>\n",
       "    </tr>\n",
       "    <tr>\n",
       "      <th>1</th>\n",
       "      <td>standardize__sex</td>\n",
       "      <td>0.132552</td>\n",
       "    </tr>\n",
       "    <tr>\n",
       "      <th>0</th>\n",
       "      <td>standardize__age</td>\n",
       "      <td>0.126760</td>\n",
       "    </tr>\n",
       "    <tr>\n",
       "      <th>6</th>\n",
       "      <td>standardize__thalach</td>\n",
       "      <td>0.117086</td>\n",
       "    </tr>\n",
       "    <tr>\n",
       "      <th>4</th>\n",
       "      <td>standardize__chol</td>\n",
       "      <td>0.083913</td>\n",
       "    </tr>\n",
       "    <tr>\n",
       "      <th>5</th>\n",
       "      <td>standardize__restecg</td>\n",
       "      <td>0.000000</td>\n",
       "    </tr>\n",
       "  </tbody>\n",
       "</table>\n",
       "</div>"
      ],
      "text/plain": [
       "                Feature  Importance\n",
       "2       standardize__cp    0.339354\n",
       "3   standardize__trtbps    0.200336\n",
       "1      standardize__sex    0.132552\n",
       "0      standardize__age    0.126760\n",
       "6  standardize__thalach    0.117086\n",
       "4     standardize__chol    0.083913\n",
       "5  standardize__restecg    0.000000"
      ]
     },
     "execution_count": 23,
     "metadata": {},
     "output_type": "execute_result"
    }
   ],
   "source": [
    "#dtree importances\n",
    "best_dtree = dtree_grid_search.best_estimator_.named_steps['dtree']\n",
    "\n",
    "if hasattr(ct, \"get_feature_names_out\"):\n",
    "    feature_names = ct.get_feature_names_out()\n",
    "else:\n",
    "    feature_names = X_train.columns  # Fallback if no transformations were applied\n",
    "\n",
    "importances = best_dtree.feature_importances_\n",
    "feature_importances = pd.DataFrame({'Feature': feature_names, 'Importance': importances})\n",
    "feature_importances = feature_importances.sort_values(by='Importance', ascending=False)\n",
    "feature_importances"
   ]
  },
  {
   "cell_type": "code",
   "execution_count": 24,
   "metadata": {},
   "outputs": [
    {
     "data": {
      "text/html": [
       "<div>\n",
       "<style scoped>\n",
       "    .dataframe tbody tr th:only-of-type {\n",
       "        vertical-align: middle;\n",
       "    }\n",
       "\n",
       "    .dataframe tbody tr th {\n",
       "        vertical-align: top;\n",
       "    }\n",
       "\n",
       "    .dataframe thead th {\n",
       "        text-align: right;\n",
       "    }\n",
       "</style>\n",
       "<table border=\"1\" class=\"dataframe\">\n",
       "  <thead>\n",
       "    <tr style=\"text-align: right;\">\n",
       "      <th></th>\n",
       "      <th>Feature</th>\n",
       "      <th>Importance</th>\n",
       "    </tr>\n",
       "  </thead>\n",
       "  <tbody>\n",
       "    <tr>\n",
       "      <th>6</th>\n",
       "      <td>standardize__thalach</td>\n",
       "      <td>0.216216</td>\n",
       "    </tr>\n",
       "    <tr>\n",
       "      <th>2</th>\n",
       "      <td>standardize__cp</td>\n",
       "      <td>0.209433</td>\n",
       "    </tr>\n",
       "    <tr>\n",
       "      <th>5</th>\n",
       "      <td>standardize__restecg</td>\n",
       "      <td>0.081910</td>\n",
       "    </tr>\n",
       "    <tr>\n",
       "      <th>4</th>\n",
       "      <td>standardize__chol</td>\n",
       "      <td>-0.065369</td>\n",
       "    </tr>\n",
       "    <tr>\n",
       "      <th>3</th>\n",
       "      <td>standardize__trtbps</td>\n",
       "      <td>-0.081839</td>\n",
       "    </tr>\n",
       "    <tr>\n",
       "      <th>0</th>\n",
       "      <td>standardize__age</td>\n",
       "      <td>-0.146883</td>\n",
       "    </tr>\n",
       "    <tr>\n",
       "      <th>1</th>\n",
       "      <td>standardize__sex</td>\n",
       "      <td>-0.200835</td>\n",
       "    </tr>\n",
       "  </tbody>\n",
       "</table>\n",
       "</div>"
      ],
      "text/plain": [
       "                Feature  Importance\n",
       "6  standardize__thalach    0.216216\n",
       "2       standardize__cp    0.209433\n",
       "5  standardize__restecg    0.081910\n",
       "4     standardize__chol   -0.065369\n",
       "3   standardize__trtbps   -0.081839\n",
       "0      standardize__age   -0.146883\n",
       "1      standardize__sex   -0.200835"
      ]
     },
     "execution_count": 24,
     "metadata": {},
     "output_type": "execute_result"
    }
   ],
   "source": [
    "#logr importances\n",
    "best_logr = logr_grid_search.best_estimator_.named_steps['logr']\n",
    "\n",
    "if hasattr(ct, \"get_feature_names_out\"):\n",
    "    feature_names = ct.get_feature_names_out()\n",
    "else:\n",
    "    feature_names = X_train.columns \n",
    "\n",
    "importances2 = best_logr.coef_[0]  \n",
    "\n",
    "feature_importances2 = pd.DataFrame({'Feature': feature_names, 'Importance': importances2})\n",
    "feature_importances2 = feature_importances2.sort_values(by='Importance', ascending=False)\n",
    "feature_importances2"
   ]
  },
  {
   "cell_type": "code",
   "execution_count": 25,
   "metadata": {},
   "outputs": [
    {
     "data": {
      "text/html": [
       "<div>\n",
       "<style scoped>\n",
       "    .dataframe tbody tr th:only-of-type {\n",
       "        vertical-align: middle;\n",
       "    }\n",
       "\n",
       "    .dataframe tbody tr th {\n",
       "        vertical-align: top;\n",
       "    }\n",
       "\n",
       "    .dataframe thead th {\n",
       "        text-align: right;\n",
       "    }\n",
       "</style>\n",
       "<table border=\"1\" class=\"dataframe\">\n",
       "  <thead>\n",
       "    <tr style=\"text-align: right;\">\n",
       "      <th></th>\n",
       "      <th>Feature</th>\n",
       "      <th>Importance</th>\n",
       "    </tr>\n",
       "  </thead>\n",
       "  <tbody>\n",
       "    <tr>\n",
       "      <th>2</th>\n",
       "      <td>standardize__cp</td>\n",
       "      <td>0.064245</td>\n",
       "    </tr>\n",
       "    <tr>\n",
       "      <th>1</th>\n",
       "      <td>standardize__sex</td>\n",
       "      <td>0.061610</td>\n",
       "    </tr>\n",
       "    <tr>\n",
       "      <th>6</th>\n",
       "      <td>standardize__thalach</td>\n",
       "      <td>0.061490</td>\n",
       "    </tr>\n",
       "    <tr>\n",
       "      <th>0</th>\n",
       "      <td>standardize__age</td>\n",
       "      <td>0.022931</td>\n",
       "    </tr>\n",
       "    <tr>\n",
       "      <th>5</th>\n",
       "      <td>standardize__restecg</td>\n",
       "      <td>0.020681</td>\n",
       "    </tr>\n",
       "    <tr>\n",
       "      <th>4</th>\n",
       "      <td>standardize__chol</td>\n",
       "      <td>0.007101</td>\n",
       "    </tr>\n",
       "    <tr>\n",
       "      <th>3</th>\n",
       "      <td>standardize__trtbps</td>\n",
       "      <td>0.006234</td>\n",
       "    </tr>\n",
       "  </tbody>\n",
       "</table>\n",
       "</div>"
      ],
      "text/plain": [
       "                Feature  Importance\n",
       "2       standardize__cp    0.064245\n",
       "1      standardize__sex    0.061610\n",
       "6  standardize__thalach    0.061490\n",
       "0      standardize__age    0.022931\n",
       "5  standardize__restecg    0.020681\n",
       "4     standardize__chol    0.007101\n",
       "3   standardize__trtbps    0.006234"
      ]
     },
     "execution_count": 25,
     "metadata": {},
     "output_type": "execute_result"
    }
   ],
   "source": [
    "#knn importances \n",
    "from sklearn.inspection import permutation_importance\n",
    "\n",
    "# Compute permutation importance: method referenced from Chat 4o. Goal being to compare the coefficients in a similar way to best_dtree and best_logr models\n",
    "result = permutation_importance(knn_pipeline, X_train, y_train, scoring=\"roc_auc\", n_repeats=10, random_state=42)\n",
    "\n",
    "importances3 = result.importances_mean  \n",
    "if hasattr(ct, \"get_feature_names_out\"):\n",
    "    feature_names = ct.get_feature_names_out()\n",
    "else:\n",
    "    feature_names = X_train.columns\n",
    "\n",
    "feature_importances3 = pd.DataFrame({'Feature': feature_names, 'Importance': importances3})\n",
    "feature_importances3 = feature_importances3.sort_values(by='Importance', ascending=False)\n",
    "\n",
    "# Display feature importances\n",
    "feature_importances3"
   ]
  },
  {
   "cell_type": "markdown",
   "metadata": {},
   "source": [
    "## Q4: Interpretation\n",
    "\n",
    "Which predictors were most important to predicting heart attack risk? \n",
    "\n",
    "*top 3 from each model*\n",
    "\n",
    "Most important predictors from: \n",
    "\n",
    "KNN: cp, thalach, sex\n",
    "\n",
    "Dtree: CP, trtbps, sex\n",
    "\n",
    "LogR: CP, thalach, sex"
   ]
  },
  {
   "cell_type": "markdown",
   "metadata": {},
   "source": [
    "## Q5: ROC Curve\n",
    "\n",
    "Plot the ROC Curve for your three models above."
   ]
  },
  {
   "cell_type": "code",
   "execution_count": 26,
   "metadata": {},
   "outputs": [
    {
     "data": {
      "image/png": "[encoded data removed]"
     },
     "metadata": {
      "image/png": {
       "height": 480,
       "width": 640
      }
     },
     "output_type": "display_data"
    }
   ],
   "source": [
    "#plot \n",
    "from sklearn.metrics import roc_curve\n",
    "\n",
    "models = {\n",
    "    \"Logistic Regression\": logr_pipeline,\n",
    "    \"Decision Tree\": dtree_pipeline,\n",
    "    \"KNN\": knn_pipeline,\n",
    "}\n",
    "\n",
    "roc_data = []\n",
    "\n",
    "for model_name, pipeline in models.items():\n",
    "    pipeline.fit(X_train, y_train)\n",
    "    y_proba = pipeline.predict_proba(X_test)[:, 1]  \n",
    "    fpr, tpr, _ = roc_curve(y_test, y_proba)\n",
    "    auc = roc_auc_score(y_test, y_proba)\n",
    "    \n",
    "    roc_data.extend(\n",
    "        {\"fpr\": fpr_val, \"tpr\": tpr_val, \"model\": model_name, \"auc\": auc}\n",
    "        for fpr_val, tpr_val in zip(fpr, tpr)\n",
    "    )\n",
    "\n",
    "roc_df = pd.DataFrame(roc_data)\n",
    "\n",
    "(ggplot(roc_df, aes(x=\"fpr\", y=\"tpr\", color=\"model\"))\n",
    " + geom_line(size=1.2)\n",
    " + labs(title=\"ROC AUC Curves\",\n",
    "    x=\"False Positive Rate\",\n",
    "    y=\"True Positive Rate\",\n",
    "    color=\"Model\") \n",
    " + theme_minimal()\n",
    ")\n"
   ]
  },
  {
   "cell_type": "markdown",
   "metadata": {},
   "source": [
    "## Part Two: Metrics\n",
    "\n",
    "Consider the following metrics:\n",
    "\n",
    "True Positive Rate or Recall or Sensitivity = Of the observations that are truly Class A, how many were predicted to be Class A?\n",
    "\n",
    "Precision or Positive Predictive Value = Of all the observations classified as Class A, how many of them were truly from Class A?\n",
    "\n",
    "True Negative Rate or Specificity or Negative Predictive Value = Of all the observations classified as NOT Class A, how many were truly NOT Class A?\n",
    "\n",
    "Compute each of these metrics (cross-validated) for your three models (KNN, Logistic Regression, and Decision Tree) in Part One."
   ]
  },
  {
   "cell_type": "code",
   "execution_count": 28,
   "metadata": {},
   "outputs": [
    {
     "name": "stdout",
     "output_type": "stream",
     "text": [
      "Metrics for Logistic Regression:\n",
      "  Recall: 0.86986\n",
      "  Precision: 0.74269\n",
      "  Specificity : 0.65354\n",
      "\n",
      "Metrics for Decision Tree:\n",
      "  Recall: 0.65753\n",
      "  Precision: 0.74419\n",
      "  Specificity : 0.74016\n",
      "\n",
      "Metrics for KNN:\n",
      "  Recall: 0.82192\n",
      "  Precision: 0.74074\n",
      "  Specificity : 0.66929\n",
      "\n"
     ]
    }
   ],
   "source": [
    "# cv metrics calculated in confusion matrices above, I believe. The following function is for practice/redundancy\n",
    "metrics_results = {}\n",
    "\n",
    "models = {\n",
    "    \"Logistic Regression\": logr_pipeline,\n",
    "    \"Decision Tree\": dtree_pipeline,\n",
    "    \"KNN\": knn_pipeline,\n",
    "}\n",
    "\n",
    "for model_name, pipeline in models.items():\n",
    "    y_pred = cross_val_predict(pipeline, X, y, cv=5)\n",
    "    \n",
    "    tn, fp, fn, tp = confusion_matrix(y, y_pred).ravel() #line referenced from Chat 4o\n",
    "    \n",
    "    recall = tp / (tp + fn) \n",
    "    precision = tp / (tp + fp)  \n",
    "    specificity = tn / (tn + fp) \n",
    "    \n",
    "    metrics_results[model_name] = {\n",
    "        \"Recall\": recall,\n",
    "        \"Precision\": precision,\n",
    "        \"Specificity \": specificity,\n",
    "    }\n",
    "\n",
    "#f for formatted string, rounded to 5 decimal places\n",
    "for model, metrics in metrics_results.items():\n",
    "    print(f\"Metrics for {model}:\")\n",
    "    for metric_name, value in metrics.items():\n",
    "        print(f\"  {metric_name}: {value:.5f}\")\n",
    "    print()"
   ]
  },
  {
   "cell_type": "markdown",
   "metadata": {},
   "source": [
    "## Part Three: Discussion\n",
    "\n",
    "Suppose you have been hired by a hospital to create classification models for heart attack risk.\n",
    "\n",
    "The following questions give a possible scenario for why the hospital is interested in these models. For each one, discuss:\n",
    "\n",
    "Which metric(s) you would use for model selection and why.\n",
    "\n",
    "Which of your final models (Part One Q1-3) you would recommend to the hospital, and why.\n",
    "\n",
    "What score you should expect for your chosen metric(s) using your chosen model to predict future observations.\n",
    "\n",
    "### Q1\n",
    "\n",
    "The hospital faces severe lawsuits if they deem a patient to be low risk, and that patient later experiences a heart attack."
   ]
  },
  {
   "cell_type": "code",
   "execution_count": null,
   "metadata": {},
   "outputs": [],
   "source": [
    "#Recall:  the proportion of actual high-risk patients that the model correctly identifies as high risk.\n",
    "#Precision:the proportion of patients predicted to be high risk who are actually high risk.\n",
    "#Sensitivity:the proportion of actual low-risk patients (those unlikely to have a heart attack) that the model correctly identifies as low risk."
   ]
  },
  {
   "cell_type": "markdown",
   "metadata": {},
   "source": [
    "In this situation, I would use the Recall metric for model selection, because we need to avoid false negatives. Recall measures the proportion of actual high-risk patients that the model correctly identifies as high risk, which is what the hospital needs to maximize in order to avoid lawsuits. \n",
    "\n",
    "For this situation, the best model to use would be the log regression, because it has the highest cross validated recall score.\n",
    "We should expect a recalll score of .87."
   ]
  },
  {
   "cell_type": "markdown",
   "metadata": {},
   "source": [
    "### Q2\n",
    "\n",
    "The hospital is overfull, and wants to only use bed space for patients most in need of monitoring due to heart attack risk."
   ]
  },
  {
   "cell_type": "markdown",
   "metadata": {},
   "source": [
    "In this situation, I would use the precision score metric to determine model selection, because we need to know the proportion of patients predicted to be high risk, who are actually high risk. Precision is important to this situation, compared to recall and sensitivity, because the hospital wants to ensure that limited bed space is only used for those truly in need.\n",
    "\n",
    "For this situation, the best model to use would be the Decision Tree, because it has the highest precision score of the three models, but only slightly. \n",
    "We should expect a precision score of .74.\n"
   ]
  },
  {
   "cell_type": "markdown",
   "metadata": {},
   "source": [
    "### Q3\n",
    "\n",
    "The hospital is studying root causes of heart attacks, and would like to understand which biological measures are associated with heart attack risk."
   ]
  },
  {
   "cell_type": "markdown",
   "metadata": {},
   "source": [
    "In this situation, I would use the recall score to determine model selection, because the hospital wants to include as many true high-risk cases as possible for studying risk factors. Because of this, it is most important to maximize the true positive rate of high risk patients. \n",
    "\n",
    "For this situation, the best model to use would be the log regression, because it has the highest cross validated recall score.\n",
    "We should expect a recall score of .87. "
   ]
  },
  {
   "cell_type": "markdown",
   "metadata": {},
   "source": [
    "### Q4\n",
    "\n",
    "The hospital is training a new batch of doctors, and they would like to compare the diagnoses of these doctors to the predictions given by the algorithm to measure the ability of new doctors to diagnose patients."
   ]
  },
  {
   "cell_type": "markdown",
   "metadata": {},
   "source": [
    "In this situation, I would use the precision score to determine model selection, because we need accurate benchmarks for comparing the ability of new doctors. However, recall and specificity could also be used here for wholistic comparison. \n",
    "\n",
    "For this situation, the best model to use would be the Decision Tree model because it has the highest precision score. \n",
    "We should expect a precision score of .74."
   ]
  },
  {
   "cell_type": "markdown",
   "metadata": {},
   "source": [
    "## Part Four: Validation\n",
    "\n",
    "Before sharing the dataset with you, I set aside a random 10% of the observations to serve as a final validation set.\n",
    "\n",
    "ha_validation = pd.read_csv(\"https://www.dropbox.com/s/jkwqdiyx6o6oad0/heart_attack_validation.csv?dl=1\")\n",
    "\n",
    "Use each of your final models in Part One Q1-3, predict the target variable in the validation dataset.\n",
    "\n",
    "For each, output a confusion matrix, and report the ROC AUC, the precision, and the recall.\n",
    "\n",
    "Compare these values to the cross-validated estimates you reported in Part One and Part Two. Did our measure of model success turn out to be approximately correct for the validation data?"
   ]
  },
  {
   "cell_type": "code",
   "execution_count": 30,
   "metadata": {},
   "outputs": [
    {
     "data": {
      "text/html": [
       "<div>\n",
       "<style scoped>\n",
       "    .dataframe tbody tr th:only-of-type {\n",
       "        vertical-align: middle;\n",
       "    }\n",
       "\n",
       "    .dataframe tbody tr th {\n",
       "        vertical-align: top;\n",
       "    }\n",
       "\n",
       "    .dataframe thead th {\n",
       "        text-align: right;\n",
       "    }\n",
       "</style>\n",
       "<table border=\"1\" class=\"dataframe\">\n",
       "  <thead>\n",
       "    <tr style=\"text-align: right;\">\n",
       "      <th></th>\n",
       "      <th>age</th>\n",
       "      <th>sex</th>\n",
       "      <th>cp</th>\n",
       "      <th>trtbps</th>\n",
       "      <th>chol</th>\n",
       "      <th>restecg</th>\n",
       "      <th>thalach</th>\n",
       "      <th>output</th>\n",
       "    </tr>\n",
       "  </thead>\n",
       "  <tbody>\n",
       "    <tr>\n",
       "      <th>0</th>\n",
       "      <td>41</td>\n",
       "      <td>0</td>\n",
       "      <td>1</td>\n",
       "      <td>130</td>\n",
       "      <td>204</td>\n",
       "      <td>0</td>\n",
       "      <td>172</td>\n",
       "      <td>1</td>\n",
       "    </tr>\n",
       "    <tr>\n",
       "      <th>1</th>\n",
       "      <td>64</td>\n",
       "      <td>1</td>\n",
       "      <td>3</td>\n",
       "      <td>110</td>\n",
       "      <td>211</td>\n",
       "      <td>0</td>\n",
       "      <td>144</td>\n",
       "      <td>1</td>\n",
       "    </tr>\n",
       "    <tr>\n",
       "      <th>2</th>\n",
       "      <td>59</td>\n",
       "      <td>1</td>\n",
       "      <td>0</td>\n",
       "      <td>135</td>\n",
       "      <td>234</td>\n",
       "      <td>1</td>\n",
       "      <td>161</td>\n",
       "      <td>1</td>\n",
       "    </tr>\n",
       "    <tr>\n",
       "      <th>3</th>\n",
       "      <td>42</td>\n",
       "      <td>1</td>\n",
       "      <td>0</td>\n",
       "      <td>140</td>\n",
       "      <td>226</td>\n",
       "      <td>1</td>\n",
       "      <td>178</td>\n",
       "      <td>1</td>\n",
       "    </tr>\n",
       "    <tr>\n",
       "      <th>4</th>\n",
       "      <td>40</td>\n",
       "      <td>1</td>\n",
       "      <td>3</td>\n",
       "      <td>140</td>\n",
       "      <td>199</td>\n",
       "      <td>1</td>\n",
       "      <td>178</td>\n",
       "      <td>1</td>\n",
       "    </tr>\n",
       "  </tbody>\n",
       "</table>\n",
       "</div>"
      ],
      "text/plain": [
       "   age  sex  cp  trtbps  chol  restecg  thalach  output\n",
       "0   41    0   1     130   204        0      172       1\n",
       "1   64    1   3     110   211        0      144       1\n",
       "2   59    1   0     135   234        1      161       1\n",
       "3   42    1   0     140   226        1      178       1\n",
       "4   40    1   3     140   199        1      178       1"
      ]
     },
     "execution_count": 30,
     "metadata": {},
     "output_type": "execute_result"
    }
   ],
   "source": [
    "ha_validation = pd.read_csv(\"https://www.dropbox.com/s/jkwqdiyx6o6oad0/heart_attack_validation.csv?dl=1\")\n",
    "ha_validation.head()"
   ]
  },
  {
   "cell_type": "code",
   "execution_count": 31,
   "metadata": {},
   "outputs": [],
   "source": [
    "Xf = ha_validation.drop([\"output\"], axis = 1)\n",
    "yf = ha_validation[\"output\"]"
   ]
  },
  {
   "cell_type": "code",
   "execution_count": 36,
   "metadata": {},
   "outputs": [
    {
     "name": "stdout",
     "output_type": "stream",
     "text": [
      "validated roc auc for logr: 0.8755980861244018\n",
      "              precision    recall  f1-score   support\n",
      "\n",
      "           0       0.77      0.91      0.83        11\n",
      "           1       0.94      0.84      0.89        19\n",
      "\n",
      "    accuracy                           0.87        30\n",
      "   macro avg       0.86      0.88      0.86        30\n",
      "weighted avg       0.88      0.87      0.87        30\n",
      "\n",
      "[[10  1]\n",
      " [ 3 16]]\n"
     ]
    }
   ],
   "source": [
    "#logr\n",
    "y_predf = logr_pipeline.predict(Xf)\n",
    "print(\"validated roc auc for logr:\", roc_auc_score(yf, y_predf))\n",
    "print(classification_report(yf, y_predf))\n",
    "print(confusion_matrix(yf, y_predf))"
   ]
  },
  {
   "cell_type": "code",
   "execution_count": 44,
   "metadata": {},
   "outputs": [
    {
     "name": "stdout",
     "output_type": "stream",
     "text": [
      "validated roc auc for knn: 0.6794258373205742\n",
      "              precision    recall  f1-score   support\n",
      "\n",
      "           0       0.53      0.73      0.62        11\n",
      "           1       0.80      0.63      0.71        19\n",
      "\n",
      "    accuracy                           0.67        30\n",
      "   macro avg       0.67      0.68      0.66        30\n",
      "weighted avg       0.70      0.67      0.67        30\n",
      "\n",
      "[[ 8  3]\n",
      " [ 7 12]]\n"
     ]
    }
   ],
   "source": [
    "#knn\n",
    "knn_pipeline.set_params(knn__n_neighbors=5)\n",
    "\n",
    "y_predf1 = knn_pipeline.predict(Xf)\n",
    "print(\"validated roc auc for knn:\", roc_auc_score(yf, y_predf1))\n",
    "print(classification_report(yf, y_predf1))\n",
    "print(confusion_matrix(yf, y_predf1))"
   ]
  },
  {
   "cell_type": "code",
   "execution_count": 47,
   "metadata": {},
   "outputs": [
    {
     "name": "stdout",
     "output_type": "stream",
     "text": [
      "validated roc auc for dtree: 0.7248803827751196\n",
      "              precision    recall  f1-score   support\n",
      "\n",
      "           0       0.56      0.82      0.67        11\n",
      "           1       0.86      0.63      0.73        19\n",
      "\n",
      "    accuracy                           0.70        30\n",
      "   macro avg       0.71      0.72      0.70        30\n",
      "weighted avg       0.75      0.70      0.71        30\n",
      "\n",
      "[[ 9  2]\n",
      " [ 7 12]]\n"
     ]
    }
   ],
   "source": [
    "#Dtree\n",
    "\n",
    "y_predf2 = dtree_pipeline.predict(Xf)\n",
    "print(\"validated roc auc for dtree:\", roc_auc_score(yf, y_predf2))\n",
    "print(classification_report(yf, y_predf2))\n",
    "print(confusion_matrix(yf, y_predf2))"
   ]
  },
  {
   "cell_type": "code",
   "execution_count": 46,
   "metadata": {},
   "outputs": [
    {
     "name": "stdout",
     "output_type": "stream",
     "text": [
      "Metrics for Logistic Regression:\n",
      "  Recall: 1.00000\n",
      "  Precision: 0.63333\n",
      "  Specificity : 0.00000\n",
      "\n",
      "Metrics for Decision Tree:\n",
      "  Recall: 0.78947\n",
      "  Precision: 0.68182\n",
      "  Specificity : 0.36364\n",
      "\n",
      "Metrics for KNN:\n",
      "  Recall: 1.00000\n",
      "  Precision: 0.73077\n",
      "  Specificity : 0.36364\n",
      "\n"
     ]
    }
   ],
   "source": [
    "metrics_results = {}\n",
    "\n",
    "models = {\n",
    "    \"Logistic Regression\": logr_pipeline,\n",
    "    \"Decision Tree\": dtree_pipeline,\n",
    "    \"KNN\": knn_pipeline,\n",
    "}\n",
    "\n",
    "for model_name, pipeline in models.items():\n",
    "    y_pred = cross_val_predict(pipeline, Xf, yf, cv=5)\n",
    "    \n",
    "    tn, fp, fn, tp = confusion_matrix(yf, y_pred).ravel() #line referenced from Chat 4o\n",
    "    \n",
    "    recall = tp / (tp + fn) \n",
    "    precision = tp / (tp + fp)  \n",
    "    specificity = tn / (tn + fp) \n",
    "    \n",
    "    metrics_results[model_name] = {\n",
    "        \"Recall\": recall,\n",
    "        \"Precision\": precision,\n",
    "        \"Specificity \": specificity,\n",
    "    }\n",
    "\n",
    "#f for formatted string, rounded to 5 decimal places\n",
    "for model, metrics in metrics_results.items():\n",
    "    print(f\"Metrics for {model}:\")\n",
    "    for metric_name, value in metrics.items():\n",
    "        print(f\"  {metric_name}: {value:.5f}\")\n",
    "    print()"
   ]
  },
  {
   "cell_type": "markdown",
   "metadata": {},
   "source": [
    "##### Compare these values to the cross-validated estimates you reported in Part One and Part Two. Did our measure of model success turn out to be approximately correct for the validation data?"
   ]
  },
  {
   "cell_type": "markdown",
   "metadata": {},
   "source": [
    "Logr model: \n",
    "- roc auc increased from .7 to .88\n",
    "- recall increased from .87 to 1.0\n",
    "- precision decreased from .74 to .63 <br>\n",
    "While the model improved in terms of identifying all high-risk patients (Recall), the tradeoff in Precision may require addressing if false positives are costly or problematic.\n",
    "\n",
    "Dtree model: \n",
    "- roc auc decreased from .77 to .72\n",
    "- recall increased from .66 to .79\n",
    "- precision decreased from .74 to .68 <br>\n",
    "While it improved in Recall, its lower ROC AUC and Precision suggest it may be less reliable overall for generalization.\n",
    "\n",
    "KNN model:\n",
    "\n",
    "*knn model in validation test is not tuned to the trained pipeline parameters. this is because the validation test data sample size does not support 35 n neighbors*\n",
    "- roc auc decreased from .75 to .68 \n",
    "- recall increased from .82 to 1.0 \n",
    "- precision decreased from .74 to .73\n",
    "Results are not valid/comparable, due to the disjoint hyperparameters."
   ]
  },
  {
   "cell_type": "markdown",
   "metadata": {},
   "source": [
    "## Part Five: Cohen’s Kappa\n",
    "Another common metric used in classification is Cohen’s Kappa.\n",
    "\n",
    "Use online resources to research this measurement. Calculate it for the models from Part One, Q1-3, and discuss reasons or scenarios that would make us prefer to use this metric as our measure of model success. Do your conclusions from above change if you judge your models using Cohen’s Kappa instead? Does this make sense?"
   ]
  },
  {
   "cell_type": "code",
   "execution_count": 49,
   "metadata": {},
   "outputs": [
    {
     "name": "stdout",
     "output_type": "stream",
     "text": [
      "Cohen Kappa for Logistic Regression: 0.530\n",
      "Cohen Kappa for Decision Tree: 0.394\n",
      "Cohen Kappa for KNN: 0.495\n"
     ]
    }
   ],
   "source": [
    "from sklearn.metrics import cohen_kappa_score\n",
    "knn_pipeline.set_params(knn__n_neighbors=35)  \n",
    "\n",
    "models = {\n",
    "    \"Logistic Regression\": logr_pipeline,\n",
    "    \"Decision Tree\": dtree_pipeline,\n",
    "    \"KNN\": knn_pipeline,\n",
    "}\n",
    "\n",
    "kappa_scores = {}\n",
    "\n",
    "for model_name, pipeline in models.items():\n",
    "    y_pred = cross_val_predict(pipeline, X, y, cv=5)\n",
    "    kappa = cohen_kappa_score(y, y_pred)\n",
    "    kappa_scores[model_name] = kappa\n",
    "\n",
    "# Display results\n",
    "for model, kappa in kappa_scores.items():\n",
    "    print(f\"Cohen Kappa for {model}: {kappa:.3f}\")"
   ]
  },
  {
   "cell_type": "markdown",
   "metadata": {},
   "source": [
    "\"Cohen’s Kappa is a statistical metric used to measure the level of agreement between two raters or predictors, taking into account the possibility of agreement occurring by chance\" - Stack Exchange\n",
    "\n",
    "Cohen's Kappa could be preferable to roc_auc, precision, recall when there is a \"severe class imbalance\", in which agreement (kappa) should be highly considered. The order of Kappa values follow the order of the original recall scores of the 3 models, suggesting that class imbalance is unlikely in this context. Therefore, our conclusions are roughly unchanged from the analysis already performed. \n",
    "It does make sense for Cohen's Kappa to follow the recall score order because the 2 metrics follow the same indicators for class imbalanced data."
   ]
  }
 ],
 "metadata": {
  "kernelspec": {
   "display_name": "base",
   "language": "python",
   "name": "python3"
  },
  "language_info": {
   "codemirror_mode": {
    "name": "ipython",
    "version": 3
   },
   "file_extension": ".py",
   "mimetype": "text/x-python",
   "name": "python",
   "nbconvert_exporter": "python",
   "pygments_lexer": "ipython3",
   "version": "3.12.4"
  }
 },
 "nbformat": 4,
 "nbformat_minor": 2
}
