{
  "nbformat": 4,
  "nbformat_minor": 0,
  "metadata": {
    "colab": {
      "provenance": []
    },
    "kernelspec": {
      "name": "python3",
      "display_name": "Python 3"
    },
    "language_info": {
      "name": "python"
    }
  },
  "cells": [
    {
      "cell_type": "markdown",
      "source": [
        "# XML, HTML, and Web Scraping\n",
        "\n",
        "JSON and XML are two different ways to represent hierarchical data. Which one is better? There are lots of articles online which discuss similarities and differences between JSON and XML and their advantages and disadvantages. Both formats are still in current usage, so it is good to be familiar with both. However, JSON is more common, so we'll focus on working with JSON representations of hierarchical data.\n",
        "\n",
        "The reading covered an example of using Beautiful Soup to parse XML. Rather than doing another example XML now, we'll skip straight to scraping HTML from a webpage. Both HTML and XML can be parsed in a similar way with Beautiful Soup."
      ],
      "metadata": {
        "id": "qrJX4FDa8oA8"
      }
    },
    {
      "cell_type": "code",
      "source": [
        "import pandas as pd\n",
        "!pip install beautifulsoup4\n",
        "!pip install requests\n",
        "!pip install selenium\n",
        "import requests\n",
        "from bs4 import BeautifulSoup\n"
      ],
      "metadata": {
        "id": "XZhT8jhbuZSg",
        "colab": {
          "base_uri": "https://localhost:8080/"
        },
        "outputId": "1446808c-1323-4f3e-ab5c-af3734e4dee0"
      },
      "execution_count": 49,
      "outputs": [
        {
          "output_type": "stream",
          "name": "stdout",
          "text": [
            "Requirement already satisfied: beautifulsoup4 in /usr/local/lib/python3.10/dist-packages (4.12.3)\n",
            "Requirement already satisfied: soupsieve>1.2 in /usr/local/lib/python3.10/dist-packages (from beautifulsoup4) (2.6)\n",
            "Requirement already satisfied: requests in /usr/local/lib/python3.10/dist-packages (2.32.3)\n",
            "Requirement already satisfied: charset-normalizer<4,>=2 in /usr/local/lib/python3.10/dist-packages (from requests) (3.4.0)\n",
            "Requirement already satisfied: idna<4,>=2.5 in /usr/local/lib/python3.10/dist-packages (from requests) (3.10)\n",
            "Requirement already satisfied: urllib3<3,>=1.21.1 in /usr/local/lib/python3.10/dist-packages (from requests) (2.2.3)\n",
            "Requirement already satisfied: certifi>=2017.4.17 in /usr/local/lib/python3.10/dist-packages (from requests) (2024.8.30)\n",
            "Collecting selenium\n",
            "  Downloading selenium-4.25.0-py3-none-any.whl.metadata (7.1 kB)\n",
            "Requirement already satisfied: urllib3<3,>=1.26 in /usr/local/lib/python3.10/dist-packages (from urllib3[socks]<3,>=1.26->selenium) (2.2.3)\n",
            "Collecting trio~=0.17 (from selenium)\n",
            "  Downloading trio-0.27.0-py3-none-any.whl.metadata (8.6 kB)\n",
            "Collecting trio-websocket~=0.9 (from selenium)\n",
            "  Downloading trio_websocket-0.11.1-py3-none-any.whl.metadata (4.7 kB)\n",
            "Requirement already satisfied: certifi>=2021.10.8 in /usr/local/lib/python3.10/dist-packages (from selenium) (2024.8.30)\n",
            "Requirement already satisfied: typing_extensions~=4.9 in /usr/local/lib/python3.10/dist-packages (from selenium) (4.12.2)\n",
            "Requirement already satisfied: websocket-client~=1.8 in /usr/local/lib/python3.10/dist-packages (from selenium) (1.8.0)\n",
            "Requirement already satisfied: attrs>=23.2.0 in /usr/local/lib/python3.10/dist-packages (from trio~=0.17->selenium) (24.2.0)\n",
            "Collecting sortedcontainers (from trio~=0.17->selenium)\n",
            "  Downloading sortedcontainers-2.4.0-py2.py3-none-any.whl.metadata (10 kB)\n",
            "Requirement already satisfied: idna in /usr/local/lib/python3.10/dist-packages (from trio~=0.17->selenium) (3.10)\n",
            "Collecting outcome (from trio~=0.17->selenium)\n",
            "  Downloading outcome-1.3.0.post0-py2.py3-none-any.whl.metadata (2.6 kB)\n",
            "Requirement already satisfied: sniffio>=1.3.0 in /usr/local/lib/python3.10/dist-packages (from trio~=0.17->selenium) (1.3.1)\n",
            "Requirement already satisfied: exceptiongroup in /usr/local/lib/python3.10/dist-packages (from trio~=0.17->selenium) (1.2.2)\n",
            "Collecting wsproto>=0.14 (from trio-websocket~=0.9->selenium)\n",
            "  Downloading wsproto-1.2.0-py3-none-any.whl.metadata (5.6 kB)\n",
            "Requirement already satisfied: pysocks!=1.5.7,<2.0,>=1.5.6 in /usr/local/lib/python3.10/dist-packages (from urllib3[socks]<3,>=1.26->selenium) (1.7.1)\n",
            "Collecting h11<1,>=0.9.0 (from wsproto>=0.14->trio-websocket~=0.9->selenium)\n",
            "  Downloading h11-0.14.0-py3-none-any.whl.metadata (8.2 kB)\n",
            "Downloading selenium-4.25.0-py3-none-any.whl (9.7 MB)\n",
            "\u001b[2K   \u001b[90m━━━━━━━━━━━━━━━━━━━━━━━━━━━━━━━━━━━━━━━━\u001b[0m \u001b[32m9.7/9.7 MB\u001b[0m \u001b[31m48.3 MB/s\u001b[0m eta \u001b[36m0:00:00\u001b[0m\n",
            "\u001b[?25hDownloading trio-0.27.0-py3-none-any.whl (481 kB)\n",
            "\u001b[2K   \u001b[90m━━━━━━━━━━━━━━━━━━━━━━━━━━━━━━━━━━━━━━━━\u001b[0m \u001b[32m481.7/481.7 kB\u001b[0m \u001b[31m25.3 MB/s\u001b[0m eta \u001b[36m0:00:00\u001b[0m\n",
            "\u001b[?25hDownloading trio_websocket-0.11.1-py3-none-any.whl (17 kB)\n",
            "Downloading wsproto-1.2.0-py3-none-any.whl (24 kB)\n",
            "Downloading outcome-1.3.0.post0-py2.py3-none-any.whl (10 kB)\n",
            "Downloading sortedcontainers-2.4.0-py2.py3-none-any.whl (29 kB)\n",
            "Downloading h11-0.14.0-py3-none-any.whl (58 kB)\n",
            "\u001b[2K   \u001b[90m━━━━━━━━━━━━━━━━━━━━━━━━━━━━━━━━━━━━━━━━\u001b[0m \u001b[32m58.3/58.3 kB\u001b[0m \u001b[31m4.3 MB/s\u001b[0m eta \u001b[36m0:00:00\u001b[0m\n",
            "\u001b[?25hInstalling collected packages: sortedcontainers, outcome, h11, wsproto, trio, trio-websocket, selenium\n",
            "Successfully installed h11-0.14.0 outcome-1.3.0.post0 selenium-4.25.0 sortedcontainers-2.4.0 trio-0.27.0 trio-websocket-0.11.1 wsproto-1.2.0\n"
          ]
        }
      ]
    },
    {
      "cell_type": "markdown",
      "source": [
        "## Scraping an HTML table with Beautiful Soup"
      ],
      "metadata": {
        "id": "ApqnMQ4iV4qu"
      }
    },
    {
      "cell_type": "markdown",
      "source": [
        "Open the URL https://en.wikipedia.org/wiki/List_of_United_States_cities_by_population and scroll down until you see a table of the cities in the U.S. with population over 100,000 (as of Jul 1, 2022). We'll use Beautiful Soup to scrape information from this table."
      ],
      "metadata": {
        "id": "9SD7XOs_So3G"
      }
    },
    {
      "cell_type": "markdown",
      "source": [
        "Read in the HTML from the ULR using the `requests` library."
      ],
      "metadata": {
        "id": "HRmnzgaQS_T0"
      }
    },
    {
      "cell_type": "markdown",
      "source": [
        "Use Beautiful Soup to parse this string into a tree called `soup`"
      ],
      "metadata": {
        "id": "YJ1Swg6B82_J"
      }
    },
    {
      "cell_type": "code",
      "source": [
        "url = \"https://en.wikipedia.org/wiki/List_of_United_States_cities_by_population\"\n",
        "response = requests.get(url)\n",
        "soup = BeautifulSoup(response.content, \"lxml\")"
      ],
      "metadata": {
        "id": "e0jpmfwtpaEB"
      },
      "execution_count": 50,
      "outputs": []
    },
    {
      "cell_type": "markdown",
      "source": [
        "To find an HTML tag corresponding to a specific element on a webpage, right-click on it and choose \"Inspect element\". Go to the cities table Wikipedia page and do this now.\n",
        "\n",
        "You should find that the cities table on the Wikipedia page corresponds to the element\n",
        "\n",
        "```\n",
        "<table class=\"wikitable sortable jquery-tablesorter\" style=\"text-align:center\">\n",
        "```"
      ],
      "metadata": {
        "id": "lFxGW_KIDjnx"
      }
    },
    {
      "cell_type": "code",
      "source": [
        "# <table class=\"wikitable sortable sort-under col1left col2center jquery-tablesorter\" style=\"text-align:right\">…</table>"
      ],
      "metadata": {
        "colab": {
          "base_uri": "https://localhost:8080/",
          "height": 141
        },
        "id": "_Tno29D4UeWV",
        "outputId": "f0eb875a-d037-4169-e70f-434211905b51"
      },
      "execution_count": 46,
      "outputs": [
        {
          "output_type": "error",
          "ename": "SyntaxError",
          "evalue": "invalid character '…' (U+2026) (<ipython-input-46-73e7a04b5d46>, line 1)",
          "traceback": [
            "\u001b[0;36m  File \u001b[0;32m\"<ipython-input-46-73e7a04b5d46>\"\u001b[0;36m, line \u001b[0;32m1\u001b[0m\n\u001b[0;31m    <table class=\"wikitable sortable sort-under col1left col2center jquery-tablesorter\" style=\"text-align:right\">…</table>\u001b[0m\n\u001b[0m                                                                                                                 ^\u001b[0m\n\u001b[0;31mSyntaxError\u001b[0m\u001b[0;31m:\u001b[0m invalid character '…' (U+2026)\n"
          ]
        }
      ]
    },
    {
      "cell_type": "markdown",
      "source": [
        "There are many `<table>` tags on the page."
      ],
      "metadata": {
        "id": "DR50aTBZEwov"
      }
    },
    {
      "cell_type": "code",
      "source": [
        "len(soup.find_all(\"table\"))"
      ],
      "metadata": {
        "id": "4691d-EGEwc0",
        "colab": {
          "base_uri": "https://localhost:8080/"
        },
        "outputId": "2b338471-8292-49d6-d0c4-be8598f4d54b"
      },
      "execution_count": 51,
      "outputs": [
        {
          "output_type": "execute_result",
          "data": {
            "text/plain": [
              "10"
            ]
          },
          "metadata": {},
          "execution_count": 51
        }
      ]
    },
    {
      "cell_type": "markdown",
      "source": [
        "We can use attributes like `class=` and `style=` to narrow down the list."
      ],
      "metadata": {
        "id": "H1xslM2yE1GI"
      }
    },
    {
      "cell_type": "code",
      "source": [
        "len(soup.find_all(\"table\",\n",
        "              attrs={\n",
        "                  \"class\": \"wikitable\"\n",
        "                  }))"
      ],
      "metadata": {
        "id": "E0Q0sa46DvTZ",
        "colab": {
          "base_uri": "https://localhost:8080/"
        },
        "outputId": "fb4b7035-ae4a-4833-e840-9ed601e90ea1"
      },
      "execution_count": 59,
      "outputs": [
        {
          "output_type": "execute_result",
          "data": {
            "text/plain": [
              "7"
            ]
          },
          "metadata": {},
          "execution_count": 59
        }
      ]
    },
    {
      "cell_type": "code",
      "source": [
        "len(soup.find_all(\"table\",\n",
        "              attrs={\n",
        "                  \"class\": \"wikitable\",\n",
        "                  \"style\": \"text-align:right\"}\n",
        "                  ))"
      ],
      "metadata": {
        "colab": {
          "base_uri": "https://localhost:8080/"
        },
        "id": "RkwPSLdJg3jd",
        "outputId": "b1f7665c-ea8b-434d-e707-534735d2be3e"
      },
      "execution_count": 60,
      "outputs": [
        {
          "output_type": "execute_result",
          "data": {
            "text/plain": [
              "3"
            ]
          },
          "metadata": {},
          "execution_count": 60
        }
      ]
    },
    {
      "cell_type": "code",
      "source": [
        "len(soup.find_all(\"table\",\n",
        "              attrs={\n",
        "                  \"class\": [\"sortable\", \"wikitable\", \"sticky-header-multi\", 'static-row-numbers', 'sort-under', 'col1left', 'col2center'],\n",
        "                  \"style\": \"text-align:right\"}\n",
        "                  ))"
      ],
      "metadata": {
        "colab": {
          "base_uri": "https://localhost:8080/"
        },
        "id": "jH7PEuPmhBlt",
        "outputId": "833c4e19-33fd-4226-9c35-80b3c44612be"
      },
      "execution_count": 67,
      "outputs": [
        {
          "output_type": "execute_result",
          "data": {
            "text/plain": [
              "3"
            ]
          },
          "metadata": {},
          "execution_count": 67
        }
      ]
    },
    {
      "cell_type": "markdown",
      "source": [
        "At this point, you can manually inspect the tables on the webpage to find that the one we want is the first one (see `[0]` below). We'll store this as `table`."
      ],
      "metadata": {
        "id": "ndnRSJJiFFby"
      }
    },
    {
      "cell_type": "code",
      "source": [
        "table = soup.find_all(\"table\",\n",
        "                  attrs={\n",
        "                      \"class\": \"wikitable\",\n",
        "                      \"style\": \"text-align:right\"}\n",
        "                  )[0]\n"
      ],
      "metadata": {
        "id": "sRBSqVGlYhuT"
      },
      "execution_count": 68,
      "outputs": []
    },
    {
      "cell_type": "markdown",
      "source": [
        "**Now you will write code to scrape the information in `table` to create a Pandas data frame with one row for each city and columns for: city, state, population (2022 estimate), and 2020 land area (sq mi).** Refer to the Notes/suggestions below as you write your code. A few Hints are provided further down, but try coding first before looking at the hints."
      ],
      "metadata": {
        "id": "j4AWo3QoYqNY"
      }
    },
    {
      "cell_type": "code",
      "source": [
        "# prompt: Now you will write code to scrape the information in table to create a Pandas data frame with one row for each city and columns for: city, state, population (2022 estimate), and 2020 land area (sq mi). Refer to the Notes/suggestions below as you write your code. A few Hints are provided further down, but try coding first before looking at the hints.\n",
        "\n",
        "# Extract the table rows (excluding the header row)\n",
        "rows = table.find_all('tr')[1:]\n",
        "\n",
        "# Initialize an empty list to store the data\n",
        "data = []\n",
        "\n",
        "# Loop through the rows and extract the information for each city\n",
        "for row in rows:\n",
        "    cells = row.find_all('td')\n",
        "    if len(cells) >= 6:  # Ensure there are enough cells in the row\n",
        "        city = cells[0].text.strip()\n",
        "        state = cells[1].text.strip()\n",
        "        population = cells[2].text.strip()\n",
        "        land_area = cells[5].text.strip()\n",
        "        data.append([city, state, population, land_area])\n",
        "\n",
        "# Create a Pandas DataFrame from the extracted data\n",
        "df = pd.DataFrame(data, columns=['city', 'state', 'population (2022 estimate)', '2020 land area (sq mi)'])\n",
        "\n",
        "# Print the DataFrame\n",
        "print(df)"
      ],
      "metadata": {
        "colab": {
          "base_uri": "https://localhost:8080/"
        },
        "id": "zrSezuSal3oL",
        "outputId": "816c2013-a5c7-44bf-b3cc-eb576cae72ef"
      },
      "execution_count": 69,
      "outputs": [
        {
          "output_type": "stream",
          "name": "stdout",
          "text": [
            "            city state population (2022 estimate) 2020 land area (sq mi)\n",
            "0    New York[c]    NY                  8,258,035                  300.5\n",
            "1    Los Angeles    CA                  3,820,914                  469.5\n",
            "2        Chicago    IL                  2,664,452                  227.7\n",
            "3        Houston    TX                  2,314,157                  640.4\n",
            "4        Phoenix    AZ                  1,650,070                  518.0\n",
            "..           ...   ...                        ...                    ...\n",
            "331         Yuma    AZ                    100,858                  120.7\n",
            "332  New Bedford    MA                    100,695                   20.0\n",
            "333   Suffolk[l]    VA                    100,659                  399.2\n",
            "334     Hesperia    CA                    100,633                   72.7\n",
            "335    Davenport    IA                    100,354                   63.8\n",
            "\n",
            "[336 rows x 4 columns]\n"
          ]
        }
      ]
    },
    {
      "cell_type": "markdown",
      "source": [
        "Notes/suggestions:\n",
        "\n",
        "- Use as a guide the code from the reading that produced the data frame of Statistics faculty\n",
        "- Inspect the page source as you write your code\n",
        "- You will need to write a loop to get the information for all cities, but you might want to try just scraping the info for New York first\n",
        "- You will need to pull the text from the tag. If `.text` returns text with \"\\n\" at the end, try `.get_text(strip = True)` instead of `.text`\n",
        "- Don't forget to convert to a Pandas Data Frame; it should have 333 rows and 4 columns\n",
        "- The goal of this exercise is just to create the Data Frame. If you were going to use it --- e.g., what is the population density for all cities in CA? --- then you would need to clean the data first (to clean strings and convert to quantitative). (You can use Beautiful Soup to do some of the cleaning for you, but that goes beyond our scope.)"
      ],
      "metadata": {
        "id": "KfRx2_XlDUqD"
      }
    },
    {
      "cell_type": "code",
      "source": [
        "# Loop through the rows and extract the information for each city\n",
        "for row in rows:\n",
        "    cells = row.find_all('td')\n",
        "    if len(cells) >= 6:  # Ensure there are enough cells in the row\n",
        "        city = cells[0].text.strip()\n",
        "        state = cells[1].text.strip()\n",
        "        population = cells[2].text.strip()\n",
        "        land_area = cells[5].text.strip()\n",
        "        data.append([city, state, population, land_area])\n",
        "\n",
        "# Create a Pandas DataFrame from the extracted data\n",
        "df = pd.DataFrame(data, columns=['city', 'state', 'population (2022 estimate)', '2020 land area (sq mi)'])\n",
        "\n",
        "# Print the DataFrame\n",
        "print(df)"
      ],
      "metadata": {
        "id": "msKiUcOZpSX7"
      },
      "execution_count": null,
      "outputs": []
    },
    {
      "cell_type": "markdown",
      "source": [
        "Hints:\n",
        "\n",
        "- Each city is a row in the table; find all the `<tr>` tags to find all the cities\n",
        "- Look for the `<td>` tag to see table entries within a row\n",
        "- The rank column is represented by `<th>` tags, rather than `<td>` tags. So within a row, the first (that is, `[0]`) `<td>` tag corresponds to the city name."
      ],
      "metadata": {
        "id": "6s3tH82XZ1X0"
      }
    },
    {
      "cell_type": "markdown",
      "source": [
        "## Aside: Scraping an HTML table with Pandas\n",
        "\n"
      ],
      "metadata": {
        "id": "pIW4UgURNdhz"
      }
    },
    {
      "cell_type": "markdown",
      "source": [
        "The Pandas command `read_html` can be used to scrape information from an HTML table on a webpage.\n",
        "\n",
        "We can call `read_html` on the URL."
      ],
      "metadata": {
        "id": "R2ufAAMGYenH"
      }
    },
    {
      "cell_type": "code",
      "source": [
        "pd.read_html(\"https://en.wikipedia.org/wiki/List_of_United_States_cities_by_population\")"
      ],
      "metadata": {
        "id": "YnGD1hMbpv7H"
      },
      "execution_count": null,
      "outputs": []
    },
    {
      "cell_type": "markdown",
      "source": [
        "However, this scrapes all the tables on the webpage, not just the one we want. As with Beautiful Soup, we can narrow the search by specifying the table attributes."
      ],
      "metadata": {
        "id": "pQwWgh_cqynb"
      }
    },
    {
      "cell_type": "code",
      "source": [
        "pd.read_html(\"https://en.wikipedia.org/wiki/List_of_United_States_cities_by_population\", attrs = {'class': 'wikitable sortable', \"style\": \"text-align:center\"})"
      ],
      "metadata": {
        "id": "4BKvPxa9qJ2-"
      },
      "execution_count": null,
      "outputs": []
    },
    {
      "cell_type": "markdown",
      "source": [
        "This still returns 3 tables. As we remarked above, the table that we want is the first one (see `[0]` below)."
      ],
      "metadata": {
        "id": "P6P7xCnPrBtS"
      }
    },
    {
      "cell_type": "code",
      "source": [
        "df_cities2 = pd.read_html(\"https://en.wikipedia.org/wiki/List_of_United_States_cities_by_population\", attrs = {'class': 'wikitable sortable', \"style\": \"text-align:center\"})[0]\n",
        "df_cities2"
      ],
      "metadata": {
        "id": "96L5qJvGp7ks"
      },
      "execution_count": null,
      "outputs": []
    },
    {
      "cell_type": "markdown",
      "source": [
        "Wait, that seemed much easier than using Beautiful Soup, and it returned a data frame, and we even got for free some formatting like removing the commas from the population! Why didn't we just use `read_html` in the first place? It's true the `read_html` works well when scraping information from an HTML *table*. Unfortunately, you often want to scrape information from a webpage that isn't conveniently stored in an HTML table, in which case `read_html` won't work. (It only searches for `<table>`, `<th>`, `<tr>`, and `<td>` tags, but there are many other HTML tags.) Though Beautiful Soup is not as simple as `read_html`, it is more flexible and thus more widely applicable."
      ],
      "metadata": {
        "id": "TjeczIIMYeqj"
      }
    },
    {
      "cell_type": "markdown",
      "source": [
        "## Scraping information that is NOT in a `<table>` with Beautiful Soup"
      ],
      "metadata": {
        "id": "ctj79YpgX6hw"
      }
    },
    {
      "cell_type": "markdown",
      "metadata": {
        "id": "KK6rJQbuuWwF"
      },
      "source": [
        "The Cal Poly course catalog http://catalog.calpoly.edu/collegesandprograms/collegeofsciencemathematics/statistics/#courseinventory contains a list of courses offered by the Statistics department. **You will scrape this website to obtain a Pandas data frame with one row for each DATA or STAT course and two columns: course name and number (e.g, DATA 301. Introduction to Data Science) and term typically offered (e.g., Term Typically Offered: F, W, SP).**"
      ]
    },
    {
      "cell_type": "markdown",
      "source": [
        "Note: Pandas `read_html` is not help here since the courses are not stored in a `<table>.`"
      ],
      "metadata": {
        "id": "hbLLrwxs0eWd"
      }
    },
    {
      "cell_type": "code",
      "source": [
        "pd.read_html(\"http://catalog.calpoly.edu/collegesandprograms/collegeofsciencemathematics/statistics/#courseinventory\")"
      ],
      "metadata": {
        "id": "QIRewkca0jhz"
      },
      "execution_count": null,
      "outputs": []
    },
    {
      "cell_type": "markdown",
      "source": [
        "\n",
        "Notes/suggestions:\n",
        "\n",
        "\n",
        "- Inspect the page source as you write your code\n",
        "- The courses are not stored in a `<table>`. How are they stored?\n",
        "- You will need to write a loop to get the information for all courses, but you might want to try just scraping the info for DATA 100 first\n",
        "- What kind of tag is the course name stored in? What is the `class` of the tag?\n",
        "- What kind of tag is the quarter(s) the course is offered stored in? What is the `class` of the tag? Is this the only tag of this type with the class? How will you get the one you want?\n",
        "- You don't have to remove the number of units (e.g., 4 units) from the course name and number, but you can try it if you want\n",
        "- You will need to pull the text from the tag. If `.text` returns text with \"\\n\" at the end, try `get_text(strip = True)` instead of `text`\n",
        "- Don't forget to convert to a Pandas Data Frame; it should have 74 rows and 2 columns\n",
        "- The goal of this exercise is just to create the Data Frame. If you were going to use it then you might need to clean the data first. (You can use Beautiful Soup to do some of the cleaning for you, but that goes beyond our scope.)\n",
        "\n"
      ],
      "metadata": {
        "id": "lvSrhxS4Se7a"
      }
    },
    {
      "cell_type": "code",
      "source": [
        "# YOUR CODE HERE. ADD AS MANY CELLS AS NEEDED"
      ],
      "metadata": {
        "id": "ZbW6xon4vICB"
      },
      "execution_count": null,
      "outputs": []
    },
    {
      "cell_type": "code",
      "source": [],
      "metadata": {
        "id": "EW2sWIGavIFc"
      },
      "execution_count": null,
      "outputs": []
    },
    {
      "cell_type": "markdown",
      "source": [
        "Hints:\n",
        "\n",
        "- Each course is represented by a `<div>` with `class=courseblock`, so you can find all the courses with `soup.find_all(\"div\", {\"class\": \"courseblock\"})`\n",
        "- The course name is in a `<p>` tag with `class=courseblocktitle`, inside a `<strong>` tag. (Though I don't think we need to find the strong tag here.)\n",
        "- The term typically offered is in `<p>` tag with `class=noindent`. However, there are several tags with this class; term typically offered is the first one.\n",
        "- If you want to use Beautiful Soup to remove the course units (e.g., 4 units), find the `<span>` tag within the course name tag and `.extract()` this span tag"
      ],
      "metadata": {
        "id": "17e8M_OsaHJz"
      }
    }
  ]
}